{
 "cells": [
  {
   "cell_type": "code",
   "execution_count": 1,
   "id": "a11c0ce1",
   "metadata": {},
   "outputs": [],
   "source": [
    "#importation et configuration des packages\n",
    "import numpy as np\n",
    "import pandas as pd\n",
    "import matplotlib.pyplot as plt\n",
    "plt.style.use('ggplot')\n",
    "import seaborn as sns\n",
    "sns.set_style(\"whitegrid\")\n",
    "sns.color_palette(\"crest\", as_cmap=True)\n",
    "from sklearn.metrics import r2_score, mean_squared_error\n",
    "\n",
    "\n"
   ]
  },
  {
   "cell_type": "code",
   "execution_count": 2,
   "id": "c58352dc",
   "metadata": {},
   "outputs": [
    {
     "data": {
      "text/html": [
       "<div>\n",
       "<style scoped>\n",
       "    .dataframe tbody tr th:only-of-type {\n",
       "        vertical-align: middle;\n",
       "    }\n",
       "\n",
       "    .dataframe tbody tr th {\n",
       "        vertical-align: top;\n",
       "    }\n",
       "\n",
       "    .dataframe thead th {\n",
       "        text-align: right;\n",
       "    }\n",
       "</style>\n",
       "<table border=\"1\" class=\"dataframe\">\n",
       "  <thead>\n",
       "    <tr style=\"text-align: right;\">\n",
       "      <th></th>\n",
       "      <th>OSEBuildingID</th>\n",
       "      <th>DataYear</th>\n",
       "      <th>BuildingType</th>\n",
       "      <th>PrimaryPropertyType</th>\n",
       "      <th>PropertyName</th>\n",
       "      <th>LargestPropertyUseType</th>\n",
       "      <th>SecondLargestPropertyUseType</th>\n",
       "      <th>YearsENERGYSTARCertified</th>\n",
       "      <th>Address</th>\n",
       "      <th>State</th>\n",
       "      <th>...</th>\n",
       "      <th>TotalGHGEmissions</th>\n",
       "      <th>BuildingAge</th>\n",
       "      <th>TotalUseTypeNumber</th>\n",
       "      <th>GFABuildingRate</th>\n",
       "      <th>GFAParkingRate</th>\n",
       "      <th>GFAPerBuilding</th>\n",
       "      <th>GFAPerFloor</th>\n",
       "      <th>harvesine_distance</th>\n",
       "      <th>IsHospital</th>\n",
       "      <th>txIsHospital</th>\n",
       "    </tr>\n",
       "  </thead>\n",
       "  <tbody>\n",
       "    <tr>\n",
       "      <th>0</th>\n",
       "      <td>400</td>\n",
       "      <td>2015</td>\n",
       "      <td>NonResidential</td>\n",
       "      <td>Small- and Mid-Sized Office</td>\n",
       "      <td>GALLAND &amp; SENECA BUILDINGS</td>\n",
       "      <td>Office</td>\n",
       "      <td>NaN</td>\n",
       "      <td>NaN</td>\n",
       "      <td>1201 2ND AVE</td>\n",
       "      <td>WA</td>\n",
       "      <td>...</td>\n",
       "      <td>47.24</td>\n",
       "      <td>109</td>\n",
       "      <td>1</td>\n",
       "      <td>0.73651</td>\n",
       "      <td>0.26349</td>\n",
       "      <td>98370.0</td>\n",
       "      <td>16395.000</td>\n",
       "      <td>0.236408</td>\n",
       "      <td>0</td>\n",
       "      <td>0.0</td>\n",
       "    </tr>\n",
       "    <tr>\n",
       "      <th>1</th>\n",
       "      <td>442</td>\n",
       "      <td>2015</td>\n",
       "      <td>NonResidential</td>\n",
       "      <td>Large Office</td>\n",
       "      <td>KING BROADCASTING</td>\n",
       "      <td>Office</td>\n",
       "      <td>Parking</td>\n",
       "      <td>NaN</td>\n",
       "      <td>333 DEXTER AVE N</td>\n",
       "      <td>WA</td>\n",
       "      <td>...</td>\n",
       "      <td>116.84</td>\n",
       "      <td>68</td>\n",
       "      <td>5</td>\n",
       "      <td>0.80466</td>\n",
       "      <td>0.19534</td>\n",
       "      <td>193788.0</td>\n",
       "      <td>48447.000</td>\n",
       "      <td>1.171413</td>\n",
       "      <td>0</td>\n",
       "      <td>0.0</td>\n",
       "    </tr>\n",
       "    <tr>\n",
       "      <th>2</th>\n",
       "      <td>499</td>\n",
       "      <td>2015</td>\n",
       "      <td>NonResidential</td>\n",
       "      <td>Small- and Mid-Sized Office</td>\n",
       "      <td>ASIAN COUNSELING and REFERRAL SERVICE BUILDING</td>\n",
       "      <td>Office</td>\n",
       "      <td>Parking</td>\n",
       "      <td>NaN</td>\n",
       "      <td>3639 MARTIN LUTHER KING JR WAY S</td>\n",
       "      <td>WA</td>\n",
       "      <td>...</td>\n",
       "      <td>134.69</td>\n",
       "      <td>7</td>\n",
       "      <td>2</td>\n",
       "      <td>0.72049</td>\n",
       "      <td>0.27951</td>\n",
       "      <td>76598.0</td>\n",
       "      <td>25532.667</td>\n",
       "      <td>2.924194</td>\n",
       "      <td>0</td>\n",
       "      <td>0.0</td>\n",
       "    </tr>\n",
       "    <tr>\n",
       "      <th>3</th>\n",
       "      <td>559</td>\n",
       "      <td>2015</td>\n",
       "      <td>NonResidential</td>\n",
       "      <td>Large Office</td>\n",
       "      <td>YALE &amp; THOMAS</td>\n",
       "      <td>Office</td>\n",
       "      <td>Parking</td>\n",
       "      <td>NaN</td>\n",
       "      <td>325 EASTLAKE AVE E</td>\n",
       "      <td>WA</td>\n",
       "      <td>...</td>\n",
       "      <td>226.92</td>\n",
       "      <td>34</td>\n",
       "      <td>2</td>\n",
       "      <td>1.00000</td>\n",
       "      <td>0.00000</td>\n",
       "      <td>186971.0</td>\n",
       "      <td>46742.750</td>\n",
       "      <td>1.044201</td>\n",
       "      <td>0</td>\n",
       "      <td>0.0</td>\n",
       "    </tr>\n",
       "    <tr>\n",
       "      <th>4</th>\n",
       "      <td>675</td>\n",
       "      <td>2015</td>\n",
       "      <td>NonResidential</td>\n",
       "      <td>Medical Office</td>\n",
       "      <td>NINTH &amp; JEFFERSON BLDG - HARBORVIEW</td>\n",
       "      <td>Medical Office</td>\n",
       "      <td>Parking</td>\n",
       "      <td>2011</td>\n",
       "      <td>908 JEFFERSON ST</td>\n",
       "      <td>WA</td>\n",
       "      <td>...</td>\n",
       "      <td>1891.47</td>\n",
       "      <td>7</td>\n",
       "      <td>2</td>\n",
       "      <td>0.42459</td>\n",
       "      <td>0.57541</td>\n",
       "      <td>434475.0</td>\n",
       "      <td>28965.000</td>\n",
       "      <td>0.405103</td>\n",
       "      <td>0</td>\n",
       "      <td>0.0</td>\n",
       "    </tr>\n",
       "  </tbody>\n",
       "</table>\n",
       "<p>5 rows × 30 columns</p>\n",
       "</div>"
      ],
      "text/plain": [
       "   OSEBuildingID  DataYear    BuildingType          PrimaryPropertyType  \\\n",
       "0            400      2015  NonResidential  Small- and Mid-Sized Office   \n",
       "1            442      2015  NonResidential                 Large Office   \n",
       "2            499      2015  NonResidential  Small- and Mid-Sized Office   \n",
       "3            559      2015  NonResidential                 Large Office   \n",
       "4            675      2015  NonResidential               Medical Office   \n",
       "\n",
       "                                     PropertyName LargestPropertyUseType  \\\n",
       "0                      GALLAND & SENECA BUILDINGS                 Office   \n",
       "1                               KING BROADCASTING                 Office   \n",
       "2  ASIAN COUNSELING and REFERRAL SERVICE BUILDING                 Office   \n",
       "3                                   YALE & THOMAS                 Office   \n",
       "4             NINTH & JEFFERSON BLDG - HARBORVIEW         Medical Office   \n",
       "\n",
       "  SecondLargestPropertyUseType YearsENERGYSTARCertified  \\\n",
       "0                          NaN                      NaN   \n",
       "1                      Parking                      NaN   \n",
       "2                      Parking                      NaN   \n",
       "3                      Parking                      NaN   \n",
       "4                      Parking                     2011   \n",
       "\n",
       "                            Address State  ...  TotalGHGEmissions  \\\n",
       "0                      1201 2ND AVE    WA  ...              47.24   \n",
       "1                  333 DEXTER AVE N    WA  ...             116.84   \n",
       "2  3639 MARTIN LUTHER KING JR WAY S    WA  ...             134.69   \n",
       "3                325 EASTLAKE AVE E    WA  ...             226.92   \n",
       "4                  908 JEFFERSON ST    WA  ...            1891.47   \n",
       "\n",
       "   BuildingAge  TotalUseTypeNumber  GFABuildingRate  GFAParkingRate  \\\n",
       "0          109                   1          0.73651         0.26349   \n",
       "1           68                   5          0.80466         0.19534   \n",
       "2            7                   2          0.72049         0.27951   \n",
       "3           34                   2          1.00000         0.00000   \n",
       "4            7                   2          0.42459         0.57541   \n",
       "\n",
       "   GFAPerBuilding  GFAPerFloor  harvesine_distance  IsHospital  txIsHospital  \n",
       "0         98370.0    16395.000            0.236408           0           0.0  \n",
       "1        193788.0    48447.000            1.171413           0           0.0  \n",
       "2         76598.0    25532.667            2.924194           0           0.0  \n",
       "3        186971.0    46742.750            1.044201           0           0.0  \n",
       "4        434475.0    28965.000            0.405103           0           0.0  \n",
       "\n",
       "[5 rows x 30 columns]"
      ]
     },
     "execution_count": 2,
     "metadata": {},
     "output_type": "execute_result"
    }
   ],
   "source": [
    "data = pd.read_csv(r\"C:\\Users\\sesa638933\\Desktop\\OC\\P3\\Pélec_zeff_jonas\\building-energy-cleaned.csv\")\n",
    "data.head()"
   ]
  },
  {
   "cell_type": "code",
   "execution_count": 3,
   "id": "eaf414e4",
   "metadata": {
    "scrolled": true
   },
   "outputs": [
    {
     "name": "stdout",
     "output_type": "stream",
     "text": [
      "<class 'pandas.core.frame.DataFrame'>\n",
      "RangeIndex: 1033 entries, 0 to 1032\n",
      "Data columns (total 30 columns):\n",
      " #   Column                        Non-Null Count  Dtype  \n",
      "---  ------                        --------------  -----  \n",
      " 0   OSEBuildingID                 1033 non-null   int64  \n",
      " 1   DataYear                      1033 non-null   int64  \n",
      " 2   BuildingType                  1033 non-null   object \n",
      " 3   PrimaryPropertyType           1033 non-null   object \n",
      " 4   PropertyName                  1033 non-null   object \n",
      " 5   LargestPropertyUseType        1033 non-null   object \n",
      " 6   SecondLargestPropertyUseType  516 non-null    object \n",
      " 7   YearsENERGYSTARCertified      97 non-null     object \n",
      " 8   Address                       1033 non-null   object \n",
      " 9   State                         1033 non-null   object \n",
      " 10  ZipCode                       1033 non-null   float64\n",
      " 11  NumberofBuildings             1033 non-null   float64\n",
      " 12  NumberofFloors                1033 non-null   float64\n",
      " 13  PropertyGFATotal              1033 non-null   float64\n",
      " 14  LargestPropertyUseTypeGFA     1033 non-null   float64\n",
      " 15  ENERGYSTARScore               1033 non-null   float64\n",
      " 16  SiteEnergyUse(kBtu)           1033 non-null   float64\n",
      " 17  SteamUse(kBtu)                1033 non-null   float64\n",
      " 18  Electricity(kBtu)             1033 non-null   float64\n",
      " 19  NaturalGas(kBtu)              1033 non-null   float64\n",
      " 20  TotalGHGEmissions             1033 non-null   float64\n",
      " 21  BuildingAge                   1033 non-null   int64  \n",
      " 22  TotalUseTypeNumber            1033 non-null   int64  \n",
      " 23  GFABuildingRate               1033 non-null   float64\n",
      " 24  GFAParkingRate                1033 non-null   float64\n",
      " 25  GFAPerBuilding                1033 non-null   float64\n",
      " 26  GFAPerFloor                   1033 non-null   float64\n",
      " 27  harvesine_distance            1033 non-null   float64\n",
      " 28  IsHospital                    1033 non-null   int64  \n",
      " 29  txIsHospital                  1033 non-null   float64\n",
      "dtypes: float64(17), int64(5), object(8)\n",
      "memory usage: 242.2+ KB\n"
     ]
    }
   ],
   "source": [
    "data.info()"
   ]
  },
  {
   "cell_type": "code",
   "execution_count": 4,
   "id": "a321a54e",
   "metadata": {},
   "outputs": [],
   "source": [
    "data = data.rename(columns={'SiteEnergyUse(kBtu)': 'SiteEnergyUse'})"
   ]
  },
  {
   "cell_type": "code",
   "execution_count": 5,
   "id": "a651be6d",
   "metadata": {
    "scrolled": true
   },
   "outputs": [
    {
     "data": {
      "text/html": [
       "<div>\n",
       "<style scoped>\n",
       "    .dataframe tbody tr th:only-of-type {\n",
       "        vertical-align: middle;\n",
       "    }\n",
       "\n",
       "    .dataframe tbody tr th {\n",
       "        vertical-align: top;\n",
       "    }\n",
       "\n",
       "    .dataframe thead th {\n",
       "        text-align: right;\n",
       "    }\n",
       "</style>\n",
       "<table border=\"1\" class=\"dataframe\">\n",
       "  <thead>\n",
       "    <tr style=\"text-align: right;\">\n",
       "      <th></th>\n",
       "      <th>OSEBuildingID</th>\n",
       "      <th>DataYear</th>\n",
       "      <th>ZipCode</th>\n",
       "      <th>NumberofBuildings</th>\n",
       "      <th>NumberofFloors</th>\n",
       "      <th>PropertyGFATotal</th>\n",
       "      <th>LargestPropertyUseTypeGFA</th>\n",
       "      <th>ENERGYSTARScore</th>\n",
       "      <th>SiteEnergyUse</th>\n",
       "      <th>SteamUse(kBtu)</th>\n",
       "      <th>...</th>\n",
       "      <th>TotalGHGEmissions</th>\n",
       "      <th>BuildingAge</th>\n",
       "      <th>TotalUseTypeNumber</th>\n",
       "      <th>GFABuildingRate</th>\n",
       "      <th>GFAParkingRate</th>\n",
       "      <th>GFAPerBuilding</th>\n",
       "      <th>GFAPerFloor</th>\n",
       "      <th>harvesine_distance</th>\n",
       "      <th>IsHospital</th>\n",
       "      <th>txIsHospital</th>\n",
       "    </tr>\n",
       "  </thead>\n",
       "  <tbody>\n",
       "    <tr>\n",
       "      <th>count</th>\n",
       "      <td>1033.000000</td>\n",
       "      <td>1033.000000</td>\n",
       "      <td>1033.000000</td>\n",
       "      <td>1033.000000</td>\n",
       "      <td>1033.000000</td>\n",
       "      <td>1.033000e+03</td>\n",
       "      <td>1.033000e+03</td>\n",
       "      <td>1033.000000</td>\n",
       "      <td>1.033000e+03</td>\n",
       "      <td>1.033000e+03</td>\n",
       "      <td>...</td>\n",
       "      <td>1033.000000</td>\n",
       "      <td>1033.000000</td>\n",
       "      <td>1033.00000</td>\n",
       "      <td>1033.000000</td>\n",
       "      <td>1033.000000</td>\n",
       "      <td>1.033000e+03</td>\n",
       "      <td>1033.000</td>\n",
       "      <td>1033.000000</td>\n",
       "      <td>1033.000000</td>\n",
       "      <td>1033.000000</td>\n",
       "    </tr>\n",
       "    <tr>\n",
       "      <th>mean</th>\n",
       "      <td>14755.292352</td>\n",
       "      <td>2015.986447</td>\n",
       "      <td>98116.747338</td>\n",
       "      <td>1.015973</td>\n",
       "      <td>5.039690</td>\n",
       "      <td>1.287111e+05</td>\n",
       "      <td>1.062452e+05</td>\n",
       "      <td>62.940949</td>\n",
       "      <td>8.772578e+06</td>\n",
       "      <td>5.941602e+05</td>\n",
       "      <td>...</td>\n",
       "      <td>192.150242</td>\n",
       "      <td>53.055179</td>\n",
       "      <td>1.74153</td>\n",
       "      <td>0.925410</td>\n",
       "      <td>0.074590</td>\n",
       "      <td>1.283675e+05</td>\n",
       "      <td>inf</td>\n",
       "      <td>2.717372</td>\n",
       "      <td>0.009681</td>\n",
       "      <td>0.012010</td>\n",
       "    </tr>\n",
       "    <tr>\n",
       "      <th>std</th>\n",
       "      <td>13472.203555</td>\n",
       "      <td>0.115681</td>\n",
       "      <td>19.001098</td>\n",
       "      <td>0.283572</td>\n",
       "      <td>7.976429</td>\n",
       "      <td>2.087185e+05</td>\n",
       "      <td>1.715886e+05</td>\n",
       "      <td>28.393550</td>\n",
       "      <td>2.523819e+07</td>\n",
       "      <td>6.158974e+06</td>\n",
       "      <td>...</td>\n",
       "      <td>837.819613</td>\n",
       "      <td>32.082136</td>\n",
       "      <td>1.00193</td>\n",
       "      <td>0.142489</td>\n",
       "      <td>0.142489</td>\n",
       "      <td>2.130434e+05</td>\n",
       "      <td>NaN</td>\n",
       "      <td>2.201245</td>\n",
       "      <td>0.097960</td>\n",
       "      <td>0.134973</td>\n",
       "    </tr>\n",
       "    <tr>\n",
       "      <th>min</th>\n",
       "      <td>1.000000</td>\n",
       "      <td>2015.000000</td>\n",
       "      <td>98006.000000</td>\n",
       "      <td>0.500000</td>\n",
       "      <td>0.000000</td>\n",
       "      <td>2.000000e+04</td>\n",
       "      <td>8.061000e+03</td>\n",
       "      <td>1.000000</td>\n",
       "      <td>8.126790e+04</td>\n",
       "      <td>0.000000e+00</td>\n",
       "      <td>...</td>\n",
       "      <td>0.705000</td>\n",
       "      <td>1.000000</td>\n",
       "      <td>1.00000</td>\n",
       "      <td>0.099090</td>\n",
       "      <td>-0.000010</td>\n",
       "      <td>7.166667e+03</td>\n",
       "      <td>221.697</td>\n",
       "      <td>0.021130</td>\n",
       "      <td>0.000000</td>\n",
       "      <td>0.000000</td>\n",
       "    </tr>\n",
       "    <tr>\n",
       "      <th>25%</th>\n",
       "      <td>557.000000</td>\n",
       "      <td>2016.000000</td>\n",
       "      <td>98104.000000</td>\n",
       "      <td>1.000000</td>\n",
       "      <td>1.000000</td>\n",
       "      <td>3.156900e+04</td>\n",
       "      <td>2.760000e+04</td>\n",
       "      <td>43.500000</td>\n",
       "      <td>1.299184e+06</td>\n",
       "      <td>0.000000e+00</td>\n",
       "      <td>...</td>\n",
       "      <td>20.470000</td>\n",
       "      <td>28.000000</td>\n",
       "      <td>1.00000</td>\n",
       "      <td>0.906880</td>\n",
       "      <td>0.000000</td>\n",
       "      <td>3.152100e+04</td>\n",
       "      <td>12960.000</td>\n",
       "      <td>0.791098</td>\n",
       "      <td>0.000000</td>\n",
       "      <td>0.000000</td>\n",
       "    </tr>\n",
       "    <tr>\n",
       "      <th>50%</th>\n",
       "      <td>20440.000000</td>\n",
       "      <td>2016.000000</td>\n",
       "      <td>98109.000000</td>\n",
       "      <td>1.000000</td>\n",
       "      <td>3.000000</td>\n",
       "      <td>5.373000e+04</td>\n",
       "      <td>4.811200e+04</td>\n",
       "      <td>69.500000</td>\n",
       "      <td>2.811901e+06</td>\n",
       "      <td>0.000000e+00</td>\n",
       "      <td>...</td>\n",
       "      <td>51.135000</td>\n",
       "      <td>49.000000</td>\n",
       "      <td>1.00000</td>\n",
       "      <td>1.000000</td>\n",
       "      <td>0.000000</td>\n",
       "      <td>5.496900e+04</td>\n",
       "      <td>22460.000</td>\n",
       "      <td>2.101375</td>\n",
       "      <td>0.000000</td>\n",
       "      <td>0.000000</td>\n",
       "    </tr>\n",
       "    <tr>\n",
       "      <th>75%</th>\n",
       "      <td>24209.000000</td>\n",
       "      <td>2016.000000</td>\n",
       "      <td>98122.000000</td>\n",
       "      <td>1.000000</td>\n",
       "      <td>5.000000</td>\n",
       "      <td>1.244720e+05</td>\n",
       "      <td>1.041195e+05</td>\n",
       "      <td>87.000000</td>\n",
       "      <td>7.854203e+06</td>\n",
       "      <td>0.000000e+00</td>\n",
       "      <td>...</td>\n",
       "      <td>142.910000</td>\n",
       "      <td>79.000000</td>\n",
       "      <td>2.00000</td>\n",
       "      <td>1.000000</td>\n",
       "      <td>0.093120</td>\n",
       "      <td>1.290000e+05</td>\n",
       "      <td>38000.000</td>\n",
       "      <td>4.119682</td>\n",
       "      <td>0.000000</td>\n",
       "      <td>0.000000</td>\n",
       "    </tr>\n",
       "    <tr>\n",
       "      <th>max</th>\n",
       "      <td>50081.000000</td>\n",
       "      <td>2016.000000</td>\n",
       "      <td>98199.000000</td>\n",
       "      <td>5.000000</td>\n",
       "      <td>99.000000</td>\n",
       "      <td>1.952220e+06</td>\n",
       "      <td>1.680937e+06</td>\n",
       "      <td>100.000000</td>\n",
       "      <td>4.483853e+08</td>\n",
       "      <td>1.314066e+08</td>\n",
       "      <td>...</td>\n",
       "      <td>16870.980000</td>\n",
       "      <td>116.000000</td>\n",
       "      <td>11.00000</td>\n",
       "      <td>1.000010</td>\n",
       "      <td>0.900910</td>\n",
       "      <td>2.761918e+06</td>\n",
       "      <td>inf</td>\n",
       "      <td>8.842992</td>\n",
       "      <td>1.000000</td>\n",
       "      <td>2.697535</td>\n",
       "    </tr>\n",
       "  </tbody>\n",
       "</table>\n",
       "<p>8 rows × 22 columns</p>\n",
       "</div>"
      ],
      "text/plain": [
       "       OSEBuildingID     DataYear       ZipCode  NumberofBuildings  \\\n",
       "count    1033.000000  1033.000000   1033.000000        1033.000000   \n",
       "mean    14755.292352  2015.986447  98116.747338           1.015973   \n",
       "std     13472.203555     0.115681     19.001098           0.283572   \n",
       "min         1.000000  2015.000000  98006.000000           0.500000   \n",
       "25%       557.000000  2016.000000  98104.000000           1.000000   \n",
       "50%     20440.000000  2016.000000  98109.000000           1.000000   \n",
       "75%     24209.000000  2016.000000  98122.000000           1.000000   \n",
       "max     50081.000000  2016.000000  98199.000000           5.000000   \n",
       "\n",
       "       NumberofFloors  PropertyGFATotal  LargestPropertyUseTypeGFA  \\\n",
       "count     1033.000000      1.033000e+03               1.033000e+03   \n",
       "mean         5.039690      1.287111e+05               1.062452e+05   \n",
       "std          7.976429      2.087185e+05               1.715886e+05   \n",
       "min          0.000000      2.000000e+04               8.061000e+03   \n",
       "25%          1.000000      3.156900e+04               2.760000e+04   \n",
       "50%          3.000000      5.373000e+04               4.811200e+04   \n",
       "75%          5.000000      1.244720e+05               1.041195e+05   \n",
       "max         99.000000      1.952220e+06               1.680937e+06   \n",
       "\n",
       "       ENERGYSTARScore  SiteEnergyUse  SteamUse(kBtu)  ...  TotalGHGEmissions  \\\n",
       "count      1033.000000   1.033000e+03    1.033000e+03  ...        1033.000000   \n",
       "mean         62.940949   8.772578e+06    5.941602e+05  ...         192.150242   \n",
       "std          28.393550   2.523819e+07    6.158974e+06  ...         837.819613   \n",
       "min           1.000000   8.126790e+04    0.000000e+00  ...           0.705000   \n",
       "25%          43.500000   1.299184e+06    0.000000e+00  ...          20.470000   \n",
       "50%          69.500000   2.811901e+06    0.000000e+00  ...          51.135000   \n",
       "75%          87.000000   7.854203e+06    0.000000e+00  ...         142.910000   \n",
       "max         100.000000   4.483853e+08    1.314066e+08  ...       16870.980000   \n",
       "\n",
       "       BuildingAge  TotalUseTypeNumber  GFABuildingRate  GFAParkingRate  \\\n",
       "count  1033.000000          1033.00000      1033.000000     1033.000000   \n",
       "mean     53.055179             1.74153         0.925410        0.074590   \n",
       "std      32.082136             1.00193         0.142489        0.142489   \n",
       "min       1.000000             1.00000         0.099090       -0.000010   \n",
       "25%      28.000000             1.00000         0.906880        0.000000   \n",
       "50%      49.000000             1.00000         1.000000        0.000000   \n",
       "75%      79.000000             2.00000         1.000000        0.093120   \n",
       "max     116.000000            11.00000         1.000010        0.900910   \n",
       "\n",
       "       GFAPerBuilding  GFAPerFloor  harvesine_distance   IsHospital  \\\n",
       "count    1.033000e+03     1033.000         1033.000000  1033.000000   \n",
       "mean     1.283675e+05          inf            2.717372     0.009681   \n",
       "std      2.130434e+05          NaN            2.201245     0.097960   \n",
       "min      7.166667e+03      221.697            0.021130     0.000000   \n",
       "25%      3.152100e+04    12960.000            0.791098     0.000000   \n",
       "50%      5.496900e+04    22460.000            2.101375     0.000000   \n",
       "75%      1.290000e+05    38000.000            4.119682     0.000000   \n",
       "max      2.761918e+06          inf            8.842992     1.000000   \n",
       "\n",
       "       txIsHospital  \n",
       "count   1033.000000  \n",
       "mean       0.012010  \n",
       "std        0.134973  \n",
       "min        0.000000  \n",
       "25%        0.000000  \n",
       "50%        0.000000  \n",
       "75%        0.000000  \n",
       "max        2.697535  \n",
       "\n",
       "[8 rows x 22 columns]"
      ]
     },
     "execution_count": 5,
     "metadata": {},
     "output_type": "execute_result"
    }
   ],
   "source": [
    "#Analyse univariée pour chaque variable\n",
    "data.describe()\n"
   ]
  },
  {
   "cell_type": "code",
   "execution_count": 6,
   "id": "5060a1a4",
   "metadata": {},
   "outputs": [
    {
     "name": "stdout",
     "output_type": "stream",
     "text": [
      "Le nombre de bâtiments dont TotalGHGEmissions est manquant est de : 0\n",
      "Le nombre de bâtiments dont TotalGHGEmissions est <=0 est de : 0\n",
      "Le nombre de bâtiments dont SiteEnergyUse est manquant est de : 0\n",
      "Le nombre de bâtiments dont SiteEnergyUse est <=0 est de : 0\n"
     ]
    }
   ],
   "source": [
    "for label in ['TotalGHGEmissions', 'SiteEnergyUse'] :\n",
    "    print(\"Le nombre de bâtiments dont {} est manquant est de : {}\".format(label, data[label].isna().sum()))\n",
    "    print(\"Le nombre de bâtiments dont {} est <=0 est de : {}\".format(label, sum(data[label]<0.0)))\n",
    "    data = data[data[label]>=0.0] # Suppresion des bâtiments dont la valeur est négative ou nulle"
   ]
  },
  {
   "cell_type": "code",
   "execution_count": 7,
   "id": "1ab89bfe",
   "metadata": {},
   "outputs": [
    {
     "data": {
      "text/plain": [
       "Small- and Mid-Sized Office    246\n",
       "Large Office                   165\n",
       "Warehouse                      143\n",
       "Retail Store                    77\n",
       "Hotel                           71\n",
       "Worship Facility                63\n",
       "K-12 School                     50\n",
       "Distribution Center             41\n",
       "Medical Office                  40\n",
       "Supermarket / Grocery Store     39\n",
       "Mixed Use Property              27\n",
       "Residence Hall                  19\n",
       "Senior Care Community           18\n",
       "Other                           14\n",
       "Hospital                        10\n",
       "Refrigerated Warehouse           5\n",
       "Laboratory                       2\n",
       "Self-Storage Facility            1\n",
       "Non-Refrigerated Warehouse       1\n",
       "Restaurant                       1\n",
       "Name: PrimaryPropertyType, dtype: int64"
      ]
     },
     "execution_count": 7,
     "metadata": {},
     "output_type": "execute_result"
    }
   ],
   "source": [
    "# Nombre d'occurences par 'PrimaryPropertyType'\n",
    "data[\"PrimaryPropertyType\"].value_counts()"
   ]
  },
  {
   "cell_type": "code",
   "execution_count": 8,
   "id": "4643ab99",
   "metadata": {},
   "outputs": [
    {
     "data": {
      "text/html": [
       "<div>\n",
       "<style scoped>\n",
       "    .dataframe tbody tr th:only-of-type {\n",
       "        vertical-align: middle;\n",
       "    }\n",
       "\n",
       "    .dataframe tbody tr th {\n",
       "        vertical-align: top;\n",
       "    }\n",
       "\n",
       "    .dataframe thead th {\n",
       "        text-align: right;\n",
       "    }\n",
       "</style>\n",
       "<table border=\"1\" class=\"dataframe\">\n",
       "  <thead>\n",
       "    <tr style=\"text-align: right;\">\n",
       "      <th></th>\n",
       "      <th>OSEBuildingID</th>\n",
       "      <th>DataYear</th>\n",
       "      <th>BuildingType</th>\n",
       "      <th>PrimaryPropertyType</th>\n",
       "      <th>PropertyName</th>\n",
       "      <th>LargestPropertyUseType</th>\n",
       "      <th>SecondLargestPropertyUseType</th>\n",
       "      <th>YearsENERGYSTARCertified</th>\n",
       "      <th>Address</th>\n",
       "      <th>State</th>\n",
       "      <th>...</th>\n",
       "      <th>TotalGHGEmissions</th>\n",
       "      <th>BuildingAge</th>\n",
       "      <th>TotalUseTypeNumber</th>\n",
       "      <th>GFABuildingRate</th>\n",
       "      <th>GFAParkingRate</th>\n",
       "      <th>GFAPerBuilding</th>\n",
       "      <th>GFAPerFloor</th>\n",
       "      <th>harvesine_distance</th>\n",
       "      <th>IsHospital</th>\n",
       "      <th>txIsHospital</th>\n",
       "    </tr>\n",
       "  </thead>\n",
       "  <tbody>\n",
       "    <tr>\n",
       "      <th>332</th>\n",
       "      <td>656</td>\n",
       "      <td>2016</td>\n",
       "      <td>NonResidential</td>\n",
       "      <td>Medical Office</td>\n",
       "      <td>Arnold Pavilion</td>\n",
       "      <td>Medical Office</td>\n",
       "      <td>NaN</td>\n",
       "      <td>NaN</td>\n",
       "      <td>1221 Madison Street</td>\n",
       "      <td>WA</td>\n",
       "      <td>...</td>\n",
       "      <td>648.285</td>\n",
       "      <td>12</td>\n",
       "      <td>1</td>\n",
       "      <td>1.0</td>\n",
       "      <td>0.0</td>\n",
       "      <td>225982.0</td>\n",
       "      <td>inf</td>\n",
       "      <td>0.491603</td>\n",
       "      <td>0</td>\n",
       "      <td>0.0</td>\n",
       "    </tr>\n",
       "    <tr>\n",
       "      <th>333</th>\n",
       "      <td>657</td>\n",
       "      <td>2016</td>\n",
       "      <td>NonResidential</td>\n",
       "      <td>Mixed Use Property</td>\n",
       "      <td>2200 Westlake - SEDO</td>\n",
       "      <td>Parking</td>\n",
       "      <td>Multifamily Housing</td>\n",
       "      <td>NaN</td>\n",
       "      <td>2200 Westlake Ave.</td>\n",
       "      <td>WA</td>\n",
       "      <td>...</td>\n",
       "      <td>978.705</td>\n",
       "      <td>10</td>\n",
       "      <td>7</td>\n",
       "      <td>1.0</td>\n",
       "      <td>0.0</td>\n",
       "      <td>1032814.0</td>\n",
       "      <td>inf</td>\n",
       "      <td>0.838548</td>\n",
       "      <td>0</td>\n",
       "      <td>0.0</td>\n",
       "    </tr>\n",
       "    <tr>\n",
       "      <th>714</th>\n",
       "      <td>23311</td>\n",
       "      <td>2016</td>\n",
       "      <td>NonResidential</td>\n",
       "      <td>Medical Office</td>\n",
       "      <td>HART First Hill LLC</td>\n",
       "      <td>Medical Office</td>\n",
       "      <td>Parking</td>\n",
       "      <td>NaN</td>\n",
       "      <td>1124 Columbia Street</td>\n",
       "      <td>WA</td>\n",
       "      <td>...</td>\n",
       "      <td>1112.250</td>\n",
       "      <td>71</td>\n",
       "      <td>2</td>\n",
       "      <td>1.0</td>\n",
       "      <td>0.0</td>\n",
       "      <td>274568.0</td>\n",
       "      <td>inf</td>\n",
       "      <td>0.424374</td>\n",
       "      <td>0</td>\n",
       "      <td>0.0</td>\n",
       "    </tr>\n",
       "    <tr>\n",
       "      <th>989</th>\n",
       "      <td>40028</td>\n",
       "      <td>2016</td>\n",
       "      <td>NonResidential</td>\n",
       "      <td>Warehouse</td>\n",
       "      <td>Sandpoint #5</td>\n",
       "      <td>Non-Refrigerated Warehouse</td>\n",
       "      <td>Office</td>\n",
       "      <td>NaN</td>\n",
       "      <td>7561 63rd Ave NE</td>\n",
       "      <td>WA</td>\n",
       "      <td>...</td>\n",
       "      <td>399.220</td>\n",
       "      <td>76</td>\n",
       "      <td>2</td>\n",
       "      <td>1.0</td>\n",
       "      <td>0.0</td>\n",
       "      <td>384772.0</td>\n",
       "      <td>inf</td>\n",
       "      <td>6.307493</td>\n",
       "      <td>0</td>\n",
       "      <td>0.0</td>\n",
       "    </tr>\n",
       "    <tr>\n",
       "      <th>990</th>\n",
       "      <td>40031</td>\n",
       "      <td>2016</td>\n",
       "      <td>NonResidential</td>\n",
       "      <td>Medical Office</td>\n",
       "      <td>Sandpoint #25</td>\n",
       "      <td>Medical Office</td>\n",
       "      <td>NaN</td>\n",
       "      <td>NaN</td>\n",
       "      <td>6222 NE 74th St</td>\n",
       "      <td>WA</td>\n",
       "      <td>...</td>\n",
       "      <td>30.300</td>\n",
       "      <td>56</td>\n",
       "      <td>1</td>\n",
       "      <td>1.0</td>\n",
       "      <td>0.0</td>\n",
       "      <td>30287.0</td>\n",
       "      <td>inf</td>\n",
       "      <td>6.184218</td>\n",
       "      <td>0</td>\n",
       "      <td>0.0</td>\n",
       "    </tr>\n",
       "  </tbody>\n",
       "</table>\n",
       "<p>5 rows × 30 columns</p>\n",
       "</div>"
      ],
      "text/plain": [
       "     OSEBuildingID  DataYear    BuildingType PrimaryPropertyType  \\\n",
       "332            656      2016  NonResidential      Medical Office   \n",
       "333            657      2016  NonResidential  Mixed Use Property   \n",
       "714          23311      2016  NonResidential      Medical Office   \n",
       "989          40028      2016  NonResidential           Warehouse   \n",
       "990          40031      2016  NonResidential      Medical Office   \n",
       "\n",
       "             PropertyName      LargestPropertyUseType  \\\n",
       "332       Arnold Pavilion              Medical Office   \n",
       "333  2200 Westlake - SEDO                     Parking   \n",
       "714   HART First Hill LLC              Medical Office   \n",
       "989          Sandpoint #5  Non-Refrigerated Warehouse   \n",
       "990         Sandpoint #25              Medical Office   \n",
       "\n",
       "    SecondLargestPropertyUseType YearsENERGYSTARCertified  \\\n",
       "332                          NaN                      NaN   \n",
       "333          Multifamily Housing                      NaN   \n",
       "714                      Parking                      NaN   \n",
       "989                       Office                      NaN   \n",
       "990                          NaN                      NaN   \n",
       "\n",
       "                  Address State  ...  TotalGHGEmissions  BuildingAge  \\\n",
       "332   1221 Madison Street    WA  ...            648.285           12   \n",
       "333    2200 Westlake Ave.    WA  ...            978.705           10   \n",
       "714  1124 Columbia Street    WA  ...           1112.250           71   \n",
       "989      7561 63rd Ave NE    WA  ...            399.220           76   \n",
       "990       6222 NE 74th St    WA  ...             30.300           56   \n",
       "\n",
       "     TotalUseTypeNumber  GFABuildingRate  GFAParkingRate  GFAPerBuilding  \\\n",
       "332                   1              1.0             0.0        225982.0   \n",
       "333                   7              1.0             0.0       1032814.0   \n",
       "714                   2              1.0             0.0        274568.0   \n",
       "989                   2              1.0             0.0        384772.0   \n",
       "990                   1              1.0             0.0         30287.0   \n",
       "\n",
       "     GFAPerFloor  harvesine_distance  IsHospital  txIsHospital  \n",
       "332          inf            0.491603           0           0.0  \n",
       "333          inf            0.838548           0           0.0  \n",
       "714          inf            0.424374           0           0.0  \n",
       "989          inf            6.307493           0           0.0  \n",
       "990          inf            6.184218           0           0.0  \n",
       "\n",
       "[5 rows x 30 columns]"
      ]
     },
     "execution_count": 8,
     "metadata": {},
     "output_type": "execute_result"
    }
   ],
   "source": [
    "#Observons les variables avec des valeurs infinies\n",
    "data[(data.GFAPerBuilding == np.inf) | (data.GFAPerFloor == np.inf)].head()\n"
   ]
  },
  {
   "cell_type": "code",
   "execution_count": 9,
   "id": "e2e268b7",
   "metadata": {},
   "outputs": [],
   "source": [
    "data['GFAPerBuilding'] = np.where(((data.GFAPerBuilding == np.inf) & (data.NumberofBuildings == 0)),0, data.GFAPerBuilding)\n",
    "data['GFAPerFloor'] = np.where(((data.GFAPerFloor == np.inf) & (data.NumberofFloors == 0)),0, data.GFAPerFloor)\n"
   ]
  },
  {
   "cell_type": "code",
   "execution_count": 10,
   "id": "898007a2",
   "metadata": {},
   "outputs": [
    {
     "data": {
      "text/html": [
       "<div>\n",
       "<style scoped>\n",
       "    .dataframe tbody tr th:only-of-type {\n",
       "        vertical-align: middle;\n",
       "    }\n",
       "\n",
       "    .dataframe tbody tr th {\n",
       "        vertical-align: top;\n",
       "    }\n",
       "\n",
       "    .dataframe thead th {\n",
       "        text-align: right;\n",
       "    }\n",
       "</style>\n",
       "<table border=\"1\" class=\"dataframe\">\n",
       "  <thead>\n",
       "    <tr style=\"text-align: right;\">\n",
       "      <th></th>\n",
       "      <th>OSEBuildingID</th>\n",
       "      <th>DataYear</th>\n",
       "      <th>BuildingType</th>\n",
       "      <th>PrimaryPropertyType</th>\n",
       "      <th>PropertyName</th>\n",
       "      <th>LargestPropertyUseType</th>\n",
       "      <th>SecondLargestPropertyUseType</th>\n",
       "      <th>YearsENERGYSTARCertified</th>\n",
       "      <th>Address</th>\n",
       "      <th>State</th>\n",
       "      <th>...</th>\n",
       "      <th>TotalGHGEmissions</th>\n",
       "      <th>BuildingAge</th>\n",
       "      <th>TotalUseTypeNumber</th>\n",
       "      <th>GFABuildingRate</th>\n",
       "      <th>GFAParkingRate</th>\n",
       "      <th>GFAPerBuilding</th>\n",
       "      <th>GFAPerFloor</th>\n",
       "      <th>harvesine_distance</th>\n",
       "      <th>IsHospital</th>\n",
       "      <th>txIsHospital</th>\n",
       "    </tr>\n",
       "  </thead>\n",
       "  <tbody>\n",
       "    <tr>\n",
       "      <th>0</th>\n",
       "      <td>400</td>\n",
       "      <td>2015</td>\n",
       "      <td>NonResidential</td>\n",
       "      <td>Small- and Mid-Sized Office</td>\n",
       "      <td>GALLAND &amp; SENECA BUILDINGS</td>\n",
       "      <td>Office</td>\n",
       "      <td>NaN</td>\n",
       "      <td>NaN</td>\n",
       "      <td>1201 2ND AVE</td>\n",
       "      <td>WA</td>\n",
       "      <td>...</td>\n",
       "      <td>47.24</td>\n",
       "      <td>109</td>\n",
       "      <td>1</td>\n",
       "      <td>0.73651</td>\n",
       "      <td>0.26349</td>\n",
       "      <td>98370.0</td>\n",
       "      <td>16395.000</td>\n",
       "      <td>0.236408</td>\n",
       "      <td>0</td>\n",
       "      <td>0.0</td>\n",
       "    </tr>\n",
       "    <tr>\n",
       "      <th>1</th>\n",
       "      <td>442</td>\n",
       "      <td>2015</td>\n",
       "      <td>NonResidential</td>\n",
       "      <td>Large Office</td>\n",
       "      <td>KING BROADCASTING</td>\n",
       "      <td>Office</td>\n",
       "      <td>Parking</td>\n",
       "      <td>NaN</td>\n",
       "      <td>333 DEXTER AVE N</td>\n",
       "      <td>WA</td>\n",
       "      <td>...</td>\n",
       "      <td>116.84</td>\n",
       "      <td>68</td>\n",
       "      <td>5</td>\n",
       "      <td>0.80466</td>\n",
       "      <td>0.19534</td>\n",
       "      <td>193788.0</td>\n",
       "      <td>48447.000</td>\n",
       "      <td>1.171413</td>\n",
       "      <td>0</td>\n",
       "      <td>0.0</td>\n",
       "    </tr>\n",
       "    <tr>\n",
       "      <th>2</th>\n",
       "      <td>499</td>\n",
       "      <td>2015</td>\n",
       "      <td>NonResidential</td>\n",
       "      <td>Small- and Mid-Sized Office</td>\n",
       "      <td>ASIAN COUNSELING and REFERRAL SERVICE BUILDING</td>\n",
       "      <td>Office</td>\n",
       "      <td>Parking</td>\n",
       "      <td>NaN</td>\n",
       "      <td>3639 MARTIN LUTHER KING JR WAY S</td>\n",
       "      <td>WA</td>\n",
       "      <td>...</td>\n",
       "      <td>134.69</td>\n",
       "      <td>7</td>\n",
       "      <td>2</td>\n",
       "      <td>0.72049</td>\n",
       "      <td>0.27951</td>\n",
       "      <td>76598.0</td>\n",
       "      <td>25532.667</td>\n",
       "      <td>2.924194</td>\n",
       "      <td>0</td>\n",
       "      <td>0.0</td>\n",
       "    </tr>\n",
       "    <tr>\n",
       "      <th>3</th>\n",
       "      <td>559</td>\n",
       "      <td>2015</td>\n",
       "      <td>NonResidential</td>\n",
       "      <td>Large Office</td>\n",
       "      <td>YALE &amp; THOMAS</td>\n",
       "      <td>Office</td>\n",
       "      <td>Parking</td>\n",
       "      <td>NaN</td>\n",
       "      <td>325 EASTLAKE AVE E</td>\n",
       "      <td>WA</td>\n",
       "      <td>...</td>\n",
       "      <td>226.92</td>\n",
       "      <td>34</td>\n",
       "      <td>2</td>\n",
       "      <td>1.00000</td>\n",
       "      <td>0.00000</td>\n",
       "      <td>186971.0</td>\n",
       "      <td>46742.750</td>\n",
       "      <td>1.044201</td>\n",
       "      <td>0</td>\n",
       "      <td>0.0</td>\n",
       "    </tr>\n",
       "    <tr>\n",
       "      <th>4</th>\n",
       "      <td>675</td>\n",
       "      <td>2015</td>\n",
       "      <td>NonResidential</td>\n",
       "      <td>Medical Office</td>\n",
       "      <td>NINTH &amp; JEFFERSON BLDG - HARBORVIEW</td>\n",
       "      <td>Medical Office</td>\n",
       "      <td>Parking</td>\n",
       "      <td>2011</td>\n",
       "      <td>908 JEFFERSON ST</td>\n",
       "      <td>WA</td>\n",
       "      <td>...</td>\n",
       "      <td>1891.47</td>\n",
       "      <td>7</td>\n",
       "      <td>2</td>\n",
       "      <td>0.42459</td>\n",
       "      <td>0.57541</td>\n",
       "      <td>434475.0</td>\n",
       "      <td>28965.000</td>\n",
       "      <td>0.405103</td>\n",
       "      <td>0</td>\n",
       "      <td>0.0</td>\n",
       "    </tr>\n",
       "    <tr>\n",
       "      <th>...</th>\n",
       "      <td>...</td>\n",
       "      <td>...</td>\n",
       "      <td>...</td>\n",
       "      <td>...</td>\n",
       "      <td>...</td>\n",
       "      <td>...</td>\n",
       "      <td>...</td>\n",
       "      <td>...</td>\n",
       "      <td>...</td>\n",
       "      <td>...</td>\n",
       "      <td>...</td>\n",
       "      <td>...</td>\n",
       "      <td>...</td>\n",
       "      <td>...</td>\n",
       "      <td>...</td>\n",
       "      <td>...</td>\n",
       "      <td>...</td>\n",
       "      <td>...</td>\n",
       "      <td>...</td>\n",
       "      <td>...</td>\n",
       "      <td>...</td>\n",
       "    </tr>\n",
       "    <tr>\n",
       "      <th>1028</th>\n",
       "      <td>50054</td>\n",
       "      <td>2016</td>\n",
       "      <td>Nonresidential COS</td>\n",
       "      <td>Large Office</td>\n",
       "      <td>400 FAIRVIEW OFFICE BLDG</td>\n",
       "      <td>Office</td>\n",
       "      <td>Parking</td>\n",
       "      <td>NaN</td>\n",
       "      <td>400 FAIRVIEW AVE N</td>\n",
       "      <td>WA</td>\n",
       "      <td>...</td>\n",
       "      <td>245.16</td>\n",
       "      <td>2</td>\n",
       "      <td>3</td>\n",
       "      <td>0.63171</td>\n",
       "      <td>0.36829</td>\n",
       "      <td>536697.0</td>\n",
       "      <td>41284.385</td>\n",
       "      <td>1.129240</td>\n",
       "      <td>0</td>\n",
       "      <td>0.0</td>\n",
       "    </tr>\n",
       "    <tr>\n",
       "      <th>1029</th>\n",
       "      <td>50062</td>\n",
       "      <td>2016</td>\n",
       "      <td>NonResidential</td>\n",
       "      <td>Hotel</td>\n",
       "      <td>Olympic Hospitality</td>\n",
       "      <td>Hotel</td>\n",
       "      <td>Parking</td>\n",
       "      <td>NaN</td>\n",
       "      <td>3926 Aurora Ave N</td>\n",
       "      <td>WA</td>\n",
       "      <td>...</td>\n",
       "      <td>131.02</td>\n",
       "      <td>2</td>\n",
       "      <td>3</td>\n",
       "      <td>0.67246</td>\n",
       "      <td>0.32754</td>\n",
       "      <td>126823.0</td>\n",
       "      <td>31705.750</td>\n",
       "      <td>3.426812</td>\n",
       "      <td>0</td>\n",
       "      <td>0.0</td>\n",
       "    </tr>\n",
       "    <tr>\n",
       "      <th>1030</th>\n",
       "      <td>50068</td>\n",
       "      <td>2016</td>\n",
       "      <td>NonResidential</td>\n",
       "      <td>Warehouse</td>\n",
       "      <td>Airport - Maintenance Shop - DOT: KCIA</td>\n",
       "      <td>Non-Refrigerated Warehouse</td>\n",
       "      <td>NaN</td>\n",
       "      <td>NaN</td>\n",
       "      <td>6518 Ellis</td>\n",
       "      <td>WA</td>\n",
       "      <td>...</td>\n",
       "      <td>157.70</td>\n",
       "      <td>61</td>\n",
       "      <td>1</td>\n",
       "      <td>0.91894</td>\n",
       "      <td>0.08106</td>\n",
       "      <td>52085.0</td>\n",
       "      <td>52085.000</td>\n",
       "      <td>4.329191</td>\n",
       "      <td>0</td>\n",
       "      <td>0.0</td>\n",
       "    </tr>\n",
       "    <tr>\n",
       "      <th>1031</th>\n",
       "      <td>50069</td>\n",
       "      <td>2016</td>\n",
       "      <td>NonResidential</td>\n",
       "      <td>Small- and Mid-Sized Office</td>\n",
       "      <td>Airport - Main Terminal</td>\n",
       "      <td>Office</td>\n",
       "      <td>NaN</td>\n",
       "      <td>NaN</td>\n",
       "      <td>7277 Perimeter Rd.</td>\n",
       "      <td>WA</td>\n",
       "      <td>...</td>\n",
       "      <td>134.80</td>\n",
       "      <td>87</td>\n",
       "      <td>1</td>\n",
       "      <td>1.00000</td>\n",
       "      <td>0.00000</td>\n",
       "      <td>24990.0</td>\n",
       "      <td>12495.000</td>\n",
       "      <td>5.370123</td>\n",
       "      <td>0</td>\n",
       "      <td>0.0</td>\n",
       "    </tr>\n",
       "    <tr>\n",
       "      <th>1032</th>\n",
       "      <td>50081</td>\n",
       "      <td>2016</td>\n",
       "      <td>NonResidential</td>\n",
       "      <td>K-12 School</td>\n",
       "      <td>Hamlin Robinson School</td>\n",
       "      <td>K-12 School</td>\n",
       "      <td>Parking</td>\n",
       "      <td>NaN</td>\n",
       "      <td>1701 20th Ave South</td>\n",
       "      <td>WA</td>\n",
       "      <td>...</td>\n",
       "      <td>9.24</td>\n",
       "      <td>1</td>\n",
       "      <td>2</td>\n",
       "      <td>1.00000</td>\n",
       "      <td>0.00000</td>\n",
       "      <td>45000.0</td>\n",
       "      <td>15000.000</td>\n",
       "      <td>1.716527</td>\n",
       "      <td>0</td>\n",
       "      <td>0.0</td>\n",
       "    </tr>\n",
       "  </tbody>\n",
       "</table>\n",
       "<p>1033 rows × 30 columns</p>\n",
       "</div>"
      ],
      "text/plain": [
       "      OSEBuildingID  DataYear        BuildingType  \\\n",
       "0               400      2015      NonResidential   \n",
       "1               442      2015      NonResidential   \n",
       "2               499      2015      NonResidential   \n",
       "3               559      2015      NonResidential   \n",
       "4               675      2015      NonResidential   \n",
       "...             ...       ...                 ...   \n",
       "1028          50054      2016  Nonresidential COS   \n",
       "1029          50062      2016      NonResidential   \n",
       "1030          50068      2016      NonResidential   \n",
       "1031          50069      2016      NonResidential   \n",
       "1032          50081      2016      NonResidential   \n",
       "\n",
       "              PrimaryPropertyType  \\\n",
       "0     Small- and Mid-Sized Office   \n",
       "1                    Large Office   \n",
       "2     Small- and Mid-Sized Office   \n",
       "3                    Large Office   \n",
       "4                  Medical Office   \n",
       "...                           ...   \n",
       "1028                 Large Office   \n",
       "1029                        Hotel   \n",
       "1030                    Warehouse   \n",
       "1031  Small- and Mid-Sized Office   \n",
       "1032                  K-12 School   \n",
       "\n",
       "                                        PropertyName  \\\n",
       "0                         GALLAND & SENECA BUILDINGS   \n",
       "1                                  KING BROADCASTING   \n",
       "2     ASIAN COUNSELING and REFERRAL SERVICE BUILDING   \n",
       "3                                      YALE & THOMAS   \n",
       "4                NINTH & JEFFERSON BLDG - HARBORVIEW   \n",
       "...                                              ...   \n",
       "1028                        400 FAIRVIEW OFFICE BLDG   \n",
       "1029                             Olympic Hospitality   \n",
       "1030          Airport - Maintenance Shop - DOT: KCIA   \n",
       "1031                         Airport - Main Terminal   \n",
       "1032                          Hamlin Robinson School   \n",
       "\n",
       "          LargestPropertyUseType SecondLargestPropertyUseType  \\\n",
       "0                         Office                          NaN   \n",
       "1                         Office                      Parking   \n",
       "2                         Office                      Parking   \n",
       "3                         Office                      Parking   \n",
       "4                 Medical Office                      Parking   \n",
       "...                          ...                          ...   \n",
       "1028                      Office                      Parking   \n",
       "1029                       Hotel                      Parking   \n",
       "1030  Non-Refrigerated Warehouse                          NaN   \n",
       "1031                      Office                          NaN   \n",
       "1032                 K-12 School                      Parking   \n",
       "\n",
       "     YearsENERGYSTARCertified                           Address State  ...  \\\n",
       "0                         NaN                      1201 2ND AVE    WA  ...   \n",
       "1                         NaN                  333 DEXTER AVE N    WA  ...   \n",
       "2                         NaN  3639 MARTIN LUTHER KING JR WAY S    WA  ...   \n",
       "3                         NaN                325 EASTLAKE AVE E    WA  ...   \n",
       "4                        2011                  908 JEFFERSON ST    WA  ...   \n",
       "...                       ...                               ...   ...  ...   \n",
       "1028                      NaN                400 FAIRVIEW AVE N    WA  ...   \n",
       "1029                      NaN                 3926 Aurora Ave N    WA  ...   \n",
       "1030                      NaN                        6518 Ellis    WA  ...   \n",
       "1031                      NaN                7277 Perimeter Rd.    WA  ...   \n",
       "1032                      NaN               1701 20th Ave South    WA  ...   \n",
       "\n",
       "      TotalGHGEmissions  BuildingAge  TotalUseTypeNumber  GFABuildingRate  \\\n",
       "0                 47.24          109                   1          0.73651   \n",
       "1                116.84           68                   5          0.80466   \n",
       "2                134.69            7                   2          0.72049   \n",
       "3                226.92           34                   2          1.00000   \n",
       "4               1891.47            7                   2          0.42459   \n",
       "...                 ...          ...                 ...              ...   \n",
       "1028             245.16            2                   3          0.63171   \n",
       "1029             131.02            2                   3          0.67246   \n",
       "1030             157.70           61                   1          0.91894   \n",
       "1031             134.80           87                   1          1.00000   \n",
       "1032               9.24            1                   2          1.00000   \n",
       "\n",
       "      GFAParkingRate  GFAPerBuilding  GFAPerFloor  harvesine_distance  \\\n",
       "0            0.26349         98370.0    16395.000            0.236408   \n",
       "1            0.19534        193788.0    48447.000            1.171413   \n",
       "2            0.27951         76598.0    25532.667            2.924194   \n",
       "3            0.00000        186971.0    46742.750            1.044201   \n",
       "4            0.57541        434475.0    28965.000            0.405103   \n",
       "...              ...             ...          ...                 ...   \n",
       "1028         0.36829        536697.0    41284.385            1.129240   \n",
       "1029         0.32754        126823.0    31705.750            3.426812   \n",
       "1030         0.08106         52085.0    52085.000            4.329191   \n",
       "1031         0.00000         24990.0    12495.000            5.370123   \n",
       "1032         0.00000         45000.0    15000.000            1.716527   \n",
       "\n",
       "      IsHospital  txIsHospital  \n",
       "0              0           0.0  \n",
       "1              0           0.0  \n",
       "2              0           0.0  \n",
       "3              0           0.0  \n",
       "4              0           0.0  \n",
       "...          ...           ...  \n",
       "1028           0           0.0  \n",
       "1029           0           0.0  \n",
       "1030           0           0.0  \n",
       "1031           0           0.0  \n",
       "1032           0           0.0  \n",
       "\n",
       "[1033 rows x 30 columns]"
      ]
     },
     "execution_count": 10,
     "metadata": {},
     "output_type": "execute_result"
    }
   ],
   "source": [
    "data[data['ENERGYSTARScore'].isnull()==False]"
   ]
  },
  {
   "cell_type": "code",
   "execution_count": 11,
   "id": "1b6ff128",
   "metadata": {},
   "outputs": [
    {
     "data": {
      "image/png": "[encoded data removed]",
      "text/plain": [
       "<Figure size 792x504 with 1 Axes>"
      ]
     },
     "metadata": {},
     "output_type": "display_data"
    }
   ],
   "source": [
    "#Scatterplot de la distribution des emissions de CO2 par surface totale au sol et par type de bâtiment\n",
    "font_title = {'family': 'serif',\n",
    "              'color':  '#1d479b',\n",
    "              'weight': 'bold',\n",
    "              'size': 18,\n",
    "             }\n",
    "\n",
    "fig = plt.figure(figsize=(11,7))\n",
    "sns.scatterplot(data = data, x='PropertyGFATotal', y='TotalGHGEmissions', hue='BuildingType')\n",
    "plt.title(f\"Emissions de CO2 par surface totale au sol et par type de bâtiment\\n\", \n",
    "          fontdict=font_title, fontsize=16)\n",
    "plt.show()"
   ]
  },
  {
   "cell_type": "code",
   "execution_count": 12,
   "id": "56897d1c",
   "metadata": {
    "scrolled": false
   },
   "outputs": [
    {
     "data": {
      "image/png": "[encoded data removed]",
      "text/plain": [
       "<Figure size 792x504 with 1 Axes>"
      ]
     },
     "metadata": {},
     "output_type": "display_data"
    }
   ],
   "source": [
    "#Scatterplot de la distribution des consommations d'énergie par surface totale au sol et par type de bâtiment\n",
    "font_title = {'family': 'serif',\n",
    "              'color':  '#1d479b',\n",
    "              'weight': 'bold',\n",
    "              'size': 18,\n",
    "             }\n",
    "\n",
    "fig = plt.figure(figsize=(11,7))\n",
    "sns.scatterplot(data = data, x='PropertyGFATotal', y='SiteEnergyUse', hue='BuildingType')\n",
    "plt.title(f\"Consommations d'énergie par surface totale au sol et par type de bâtiment\\n\", \n",
    "          fontdict=font_title, fontsize=16)\n",
    "plt.show()"
   ]
  },
  {
   "cell_type": "code",
   "execution_count": 13,
   "id": "3af83c22",
   "metadata": {},
   "outputs": [
    {
     "data": {
      "text/html": [
       "<div>\n",
       "<style scoped>\n",
       "    .dataframe tbody tr th:only-of-type {\n",
       "        vertical-align: middle;\n",
       "    }\n",
       "\n",
       "    .dataframe tbody tr th {\n",
       "        vertical-align: top;\n",
       "    }\n",
       "\n",
       "    .dataframe thead th {\n",
       "        text-align: right;\n",
       "    }\n",
       "</style>\n",
       "<table border=\"1\" class=\"dataframe\">\n",
       "  <thead>\n",
       "    <tr style=\"text-align: right;\">\n",
       "      <th></th>\n",
       "      <th>OSEBuildingID</th>\n",
       "      <th>DataYear</th>\n",
       "      <th>BuildingType</th>\n",
       "      <th>PrimaryPropertyType</th>\n",
       "      <th>PropertyName</th>\n",
       "      <th>LargestPropertyUseType</th>\n",
       "      <th>SecondLargestPropertyUseType</th>\n",
       "      <th>YearsENERGYSTARCertified</th>\n",
       "      <th>Address</th>\n",
       "      <th>State</th>\n",
       "      <th>...</th>\n",
       "      <th>TotalGHGEmissions</th>\n",
       "      <th>BuildingAge</th>\n",
       "      <th>TotalUseTypeNumber</th>\n",
       "      <th>GFABuildingRate</th>\n",
       "      <th>GFAParkingRate</th>\n",
       "      <th>GFAPerBuilding</th>\n",
       "      <th>GFAPerFloor</th>\n",
       "      <th>harvesine_distance</th>\n",
       "      <th>IsHospital</th>\n",
       "      <th>txIsHospital</th>\n",
       "    </tr>\n",
       "  </thead>\n",
       "  <tbody>\n",
       "    <tr>\n",
       "      <th>34</th>\n",
       "      <td>43</td>\n",
       "      <td>2016</td>\n",
       "      <td>Campus</td>\n",
       "      <td>Mixed Use Property</td>\n",
       "      <td>Plant 2 Site</td>\n",
       "      <td>Office</td>\n",
       "      <td>Laboratory</td>\n",
       "      <td>NaN</td>\n",
       "      <td>7755 E MARGINAL WAY S</td>\n",
       "      <td>WA</td>\n",
       "      <td>...</td>\n",
       "      <td>16870.98</td>\n",
       "      <td>24</td>\n",
       "      <td>5</td>\n",
       "      <td>1.0</td>\n",
       "      <td>0.0</td>\n",
       "      <td>494835.0</td>\n",
       "      <td>164945.0</td>\n",
       "      <td>4.965239</td>\n",
       "      <td>0</td>\n",
       "      <td>0.0</td>\n",
       "    </tr>\n",
       "  </tbody>\n",
       "</table>\n",
       "<p>1 rows × 30 columns</p>\n",
       "</div>"
      ],
      "text/plain": [
       "    OSEBuildingID  DataYear BuildingType PrimaryPropertyType  PropertyName  \\\n",
       "34             43      2016       Campus  Mixed Use Property  Plant 2 Site   \n",
       "\n",
       "   LargestPropertyUseType SecondLargestPropertyUseType  \\\n",
       "34                 Office                   Laboratory   \n",
       "\n",
       "   YearsENERGYSTARCertified                Address State  ...  \\\n",
       "34                      NaN  7755 E MARGINAL WAY S    WA  ...   \n",
       "\n",
       "    TotalGHGEmissions  BuildingAge  TotalUseTypeNumber  GFABuildingRate  \\\n",
       "34           16870.98           24                   5              1.0   \n",
       "\n",
       "    GFAParkingRate  GFAPerBuilding  GFAPerFloor  harvesine_distance  \\\n",
       "34             0.0        494835.0     164945.0            4.965239   \n",
       "\n",
       "    IsHospital  txIsHospital  \n",
       "34           0           0.0  \n",
       "\n",
       "[1 rows x 30 columns]"
      ]
     },
     "execution_count": 13,
     "metadata": {},
     "output_type": "execute_result"
    }
   ],
   "source": [
    "#visualisation de la valeur atypique\n",
    "data[data['SiteEnergyUse']>4*10**8]"
   ]
  },
  {
   "cell_type": "code",
   "execution_count": 14,
   "id": "7e958e9c",
   "metadata": {},
   "outputs": [],
   "source": [
    "#Isolons les valeurs non atypiques\n",
    "data = data[data['SiteEnergyUse']<4*10**8]\n"
   ]
  },
  {
   "cell_type": "code",
   "execution_count": 15,
   "id": "646683de",
   "metadata": {},
   "outputs": [],
   "source": [
    "#Regroupons les données d'identification des bâtiments pour faciliter leur modélisation\n",
    "identification_features = ['OSEBuildingID', 'PropertyName', 'Address', 'ZipCode']\n",
    "data_identification = data[identification_features]\n",
    "data.drop(identification_features, axis=1, inplace = True)"
   ]
  },
  {
   "cell_type": "code",
   "execution_count": 16,
   "id": "83283f01",
   "metadata": {},
   "outputs": [],
   "source": [
    "#On exclu toutes les variables de relève qui ne seront pas prises en compte dans notre programme\n",
    "data_filter = data.drop(['SteamUse(kBtu)','Electricity(kBtu)',\n",
    "                         'NaturalGas(kBtu)'], axis=1)"
   ]
  },
  {
   "cell_type": "code",
   "execution_count": 17,
   "id": "ad1c2418",
   "metadata": {},
   "outputs": [],
   "source": [
    "data_filter['IsHospital'] = np.where(data_filter['PrimaryPropertyType']=='Hospital', 1, 0)"
   ]
  },
  {
   "cell_type": "code",
   "execution_count": 18,
   "id": "806e678b",
   "metadata": {},
   "outputs": [],
   "source": [
    "data_filter['IsCampus'] = np.where(data_filter['BuildingType']=='Campus', 1, 0)"
   ]
  },
  {
   "cell_type": "code",
   "execution_count": 19,
   "id": "083661e2",
   "metadata": {},
   "outputs": [],
   "source": [
    "data_filter['IsHospitalGeneral'] = np.where(data_filter['LargestPropertyUseType']=='Hospital (General Medical & Surgical)', 1, 0)"
   ]
  },
  {
   "cell_type": "code",
   "execution_count": 20,
   "id": "77354ede",
   "metadata": {},
   "outputs": [],
   "source": [
    "#On sépare les données numériques et les données catégorielles\n",
    "numerical_features = data_filter.select_dtypes(include=['int64','float64'])\n",
    "categorical_features = data_filter.select_dtypes(exclude=['int64','float64']) "
   ]
  },
  {
   "cell_type": "code",
   "execution_count": 21,
   "id": "65ca506f",
   "metadata": {},
   "outputs": [
    {
     "data": {
      "text/plain": [
       "BuildingType                     4\n",
       "PrimaryPropertyType             20\n",
       "LargestPropertyUseType          25\n",
       "SecondLargestPropertyUseType    34\n",
       "YearsENERGYSTARCertified        64\n",
       "State                            1\n",
       "IsHospital                       2\n",
       "IsCampus                         2\n",
       "IsHospitalGeneral                2\n",
       "dtype: int64"
      ]
     },
     "execution_count": 21,
     "metadata": {},
     "output_type": "execute_result"
    }
   ],
   "source": [
    "#Observons les variables catégorielles\n",
    "categorical_features.nunique()"
   ]
  },
  {
   "cell_type": "code",
   "execution_count": 22,
   "id": "0e6c2de6",
   "metadata": {},
   "outputs": [
    {
     "data": {
      "text/plain": [
       "DataYear                        2\n",
       "NumberofBuildings              10\n",
       "NumberofFloors                 44\n",
       "PropertyGFATotal             1003\n",
       "LargestPropertyUseTypeGFA     998\n",
       "ENERGYSTARScore               193\n",
       "SiteEnergyUse                1032\n",
       "TotalGHGEmissions            1022\n",
       "BuildingAge                   110\n",
       "TotalUseTypeNumber              8\n",
       "GFABuildingRate               272\n",
       "GFAParkingRate                272\n",
       "GFAPerBuilding               1004\n",
       "GFAPerFloor                  1010\n",
       "harvesine_distance            992\n",
       "txIsHospital                   11\n",
       "dtype: int64"
      ]
     },
     "execution_count": 22,
     "metadata": {},
     "output_type": "execute_result"
    }
   ],
   "source": [
    "#Observons les variables numériques\n",
    "numerical_features.nunique()"
   ]
  },
  {
   "cell_type": "code",
   "execution_count": 23,
   "id": "05e20820",
   "metadata": {},
   "outputs": [],
   "source": [
    "#ENERGYSTARScore est insuffisement complété mais nous la gardons de côté pour voir son possible impact sur la qualité de prédiction\n",
    "energystar_score = numerical_features['ENERGYSTARScore']\n",
    "#On supprime ENERGYSTARScore et DataYear(varable inutile pour notre modèle) de notre dataset\n",
    "numerical_features = numerical_features.drop(['ENERGYSTARScore','DataYear'], axis=1)"
   ]
  },
  {
   "cell_type": "code",
   "execution_count": 24,
   "id": "6d0b50e9",
   "metadata": {
    "scrolled": true
   },
   "outputs": [
    {
     "data": {
      "text/plain": [
       "Index(['DataYear', 'BuildingType', 'PrimaryPropertyType',\n",
       "       'LargestPropertyUseType', 'SecondLargestPropertyUseType',\n",
       "       'YearsENERGYSTARCertified', 'State', 'NumberofBuildings',\n",
       "       'NumberofFloors', 'PropertyGFATotal', 'LargestPropertyUseTypeGFA',\n",
       "       'ENERGYSTARScore', 'SiteEnergyUse', 'TotalGHGEmissions', 'BuildingAge',\n",
       "       'TotalUseTypeNumber', 'GFABuildingRate', 'GFAParkingRate',\n",
       "       'GFAPerBuilding', 'GFAPerFloor', 'harvesine_distance', 'IsHospital',\n",
       "       'txIsHospital', 'IsCampus', 'IsHospitalGeneral'],\n",
       "      dtype='object')"
      ]
     },
     "execution_count": 24,
     "metadata": {},
     "output_type": "execute_result"
    }
   ],
   "source": [
    "data_filter.columns"
   ]
  },
  {
   "cell_type": "code",
   "execution_count": 25,
   "id": "64230ef5",
   "metadata": {},
   "outputs": [],
   "source": [
    "import pandas as pd\n",
    "import numpy as np\n",
    "import seaborn as sns\n",
    "import matplotlib.pyplot as plt\n",
    "import statsmodels.api as sm\n",
    "import statsmodels.formula.api as smf\n",
    "from scipy.stats import t, shapiro\n",
    "from statsmodels.stats.outliers_influence import variance_inflation_factor\n",
    "import statsmodels\n",
    "#'TotalGHGEmissions~DataYear+BuildingType+PrimaryPropertyType+LargestPropertyUseType+YearsENERGYSTARCertified+State+NumberofBuildings+NumberofFloors+PropertyGFATotal+LargestPropertyUseTypeGFA+ENERGYSTARScore+BuildingAge+TotalUseTypeNumber+GFABuildingRate+GFAParkingRate+GFAPerBuilding+GFAPerFloor+harvesine_distance+IsHospital+txIsHospital+IsCampus+IsHospitalGeneral', data=data_filter).fit()\n"
   ]
  },
  {
   "cell_type": "code",
   "execution_count": 26,
   "id": "7def0f15",
   "metadata": {},
   "outputs": [],
   "source": [
    "#On standardise nos valeurs numériques pour les entrer dans notre modèle de prédiction via un centrage-réduction\n",
    "from sklearn.preprocessing import StandardScaler, OrdinalEncoder, RobustScaler\n",
    "from category_encoders.target_encoder import TargetEncoder\n",
    "from sklearn.compose import ColumnTransformer\n",
    "\n",
    "#On regroupe les données par chaque catégorie et compte de nombre d'occurrences de chaque cible puis on\n",
    "#calcul la probabilité que chaque cible se produise pour chaque groupe spécifique.\n",
    "target_features = ['BuildingType','PrimaryPropertyType','LargestPropertyUseType',\n",
    "                   'SecondLargestPropertyUseType','IsHospital','IsHospitalGeneral','State','YearsENERGYSTARCertified']\n",
    "\n",
    "\n",
    "numeric_features = ['TotalGHGEmissions','SiteEnergyUse','NumberofBuildings','NumberofFloors','ENERGYSTARScore',\n",
    "                    'LargestPropertyUseTypeGFA','TotalUseTypeNumber','GFAPerBuilding','txIsHospital']\n",
    "target_transformer = TargetEncoder()\n",
    "numeric_transformer = RobustScaler(unit_variance=True)\n",
    "\n",
    "preprocessor = ColumnTransformer(transformers=[\n",
    "    ('target', target_transformer, target_features),\n",
    "    ('numeric', numeric_transformer, numeric_features)\n",
    "])"
   ]
  },
  {
   "cell_type": "code",
   "execution_count": 27,
   "id": "08e2e7bc",
   "metadata": {},
   "outputs": [],
   "source": [
    "#On supprime les variables qui n'apporteront rien à notre modèle comme les constantes\n",
    "categorical_features = categorical_features.drop(['State','YearsENERGYSTARCertified'], axis=1)"
   ]
  },
  {
   "cell_type": "code",
   "execution_count": 28,
   "id": "77a3a87a",
   "metadata": {
    "scrolled": false
   },
   "outputs": [
    {
     "name": "stdout",
     "output_type": "stream",
     "text": [
      "                            OLS Regression Results                            \n",
      "==============================================================================\n",
      "Dep. Variable:      TotalGHGEmissions   R-squared:                       0.743\n",
      "Model:                            OLS   Adj. R-squared:                  0.741\n",
      "Method:                 Least Squares   F-statistic:                     422.0\n",
      "Date:                Fri, 28 Jan 2022   Prob (F-statistic):          1.45e-296\n",
      "Time:                        10:42:40   Log-Likelihood:                -7459.9\n",
      "No. Observations:                1032   AIC:                         1.494e+04\n",
      "Df Residuals:                    1024   BIC:                         1.498e+04\n",
      "Df Model:                           7                                         \n",
      "Covariance Type:            nonrobust                                         \n",
      "=============================================================================================\n",
      "                                coef    std err          t      P>|t|      [0.025      0.975]\n",
      "---------------------------------------------------------------------------------------------\n",
      "Intercept                  -219.2031     57.446     -3.816      0.000    -331.928    -106.478\n",
      "NumberofBuildings           199.3803     55.721      3.578      0.000      90.041     308.720\n",
      "NumberofFloors              -13.1163      1.964     -6.678      0.000     -16.971      -9.262\n",
      "LargestPropertyUseTypeGFA     0.0039      0.000     21.127      0.000       0.004       0.004\n",
      "TotalUseTypeNumber           22.8283     11.571      1.973      0.049       0.122      45.534\n",
      "GFAPerBuilding               -0.0017      0.000    -12.866      0.000      -0.002      -0.001\n",
      "IsHospital                 1632.6600    138.831     11.760      0.000    1360.234    1905.086\n",
      "txIsHospital               -738.6212    187.714     -3.935      0.000   -1106.970    -370.272\n",
      "IsHospitalGeneral          1632.6600    138.831     11.760      0.000    1360.234    1905.086\n",
      "==============================================================================\n",
      "Omnibus:                      562.257   Durbin-Watson:                   1.951\n",
      "Prob(Omnibus):                  0.000   Jarque-Bera (JB):            38219.069\n",
      "Skew:                           1.667   Prob(JB):                         0.00\n",
      "Kurtosis:                      32.626   Cond. No.                     1.41e+21\n",
      "==============================================================================\n",
      "\n",
      "Notes:\n",
      "[1] Standard Errors assume that the covariance matrix of the errors is correctly specified.\n",
      "[2] The smallest eigenvalue is 5.06e-29. This might indicate that there are\n",
      "strong multicollinearity problems or that the design matrix is singular.\n"
     ]
    }
   ],
   "source": [
    "reg_multi1 = smf.ols('TotalGHGEmissions~NumberofBuildings+NumberofFloors+LargestPropertyUseTypeGFA+TotalUseTypeNumber+GFAPerBuilding+IsHospital+txIsHospital+IsHospitalGeneral', data=data_filter).fit()\n",
    "print(reg_multi1.summary())"
   ]
  },
  {
   "cell_type": "code",
   "execution_count": 29,
   "id": "e3bb7f07",
   "metadata": {},
   "outputs": [],
   "source": [
    "data_filter_E = data_filter.filter(items=['TotalGHGEmissions','NumberofBuildings','NumberofFloors',\n",
    "                    'LargestPropertyUseTypeGFA','TotalUseTypeNumber','GFAPerBuilding','txIsHospital',\n",
    "                    'IsHospital','IsHospitalGeneral'])"
   ]
  },
  {
   "cell_type": "code",
   "execution_count": 30,
   "id": "ff0ea486",
   "metadata": {
    "scrolled": true
   },
   "outputs": [
    {
     "name": "stdout",
     "output_type": "stream",
     "text": [
      "                            OLS Regression Results                            \n",
      "==============================================================================\n",
      "Dep. Variable:          SiteEnergyUse   R-squared:                       0.684\n",
      "Model:                            OLS   Adj. R-squared:                  0.682\n",
      "Method:                 Least Squares   F-statistic:                     444.2\n",
      "Date:                Fri, 28 Jan 2022   Prob (F-statistic):          1.08e-253\n",
      "Time:                        10:42:40   Log-Likelihood:                -18279.\n",
      "No. Observations:                1032   AIC:                         3.657e+04\n",
      "Df Residuals:                    1026   BIC:                         3.660e+04\n",
      "Df Model:                           5                                         \n",
      "Covariance Type:            nonrobust                                         \n",
      "=============================================================================================\n",
      "                                coef    std err          t      P>|t|      [0.025      0.975]\n",
      "---------------------------------------------------------------------------------------------\n",
      "Intercept                 -2.317e+06   7.58e+05     -3.055      0.002    -3.8e+06   -8.29e+05\n",
      "LargestPropertyUseTypeGFA   105.2877      5.202     20.239      0.000      95.079     115.496\n",
      "TotalUseTypeNumber         1.552e+06   4.08e+05      3.807      0.000    7.52e+05    2.35e+06\n",
      "GFAPerBuilding              -30.0511      4.036     -7.445      0.000     -37.971     -22.131\n",
      "IsHospital                 5.761e+07    4.5e+06     12.811      0.000    4.88e+07    6.64e+07\n",
      "txIsHospital              -3.531e+07   6.35e+06     -5.563      0.000   -4.78e+07   -2.29e+07\n",
      "IsHospitalGeneral          5.761e+07    4.5e+06     12.811      0.000    4.88e+07    6.64e+07\n",
      "==============================================================================\n",
      "Omnibus:                     1856.523   Durbin-Watson:                   1.955\n",
      "Prob(Omnibus):                  0.000   Jarque-Bera (JB):          2883701.758\n",
      "Skew:                          11.985   Prob(JB):                         0.00\n",
      "Kurtosis:                     260.853   Cond. No.                     1.24e+23\n",
      "==============================================================================\n",
      "\n",
      "Notes:\n",
      "[1] Standard Errors assume that the covariance matrix of the errors is correctly specified.\n",
      "[2] The smallest eigenvalue is 6.46e-33. This might indicate that there are\n",
      "strong multicollinearity problems or that the design matrix is singular.\n"
     ]
    }
   ],
   "source": [
    "reg_multi2 = smf.ols('SiteEnergyUse~LargestPropertyUseTypeGFA+TotalUseTypeNumber+GFAPerBuilding+IsHospital+txIsHospital+IsHospitalGeneral', data=data_filter).fit()\n",
    "print(reg_multi2.summary())"
   ]
  },
  {
   "cell_type": "code",
   "execution_count": 31,
   "id": "4a13e0ac",
   "metadata": {},
   "outputs": [],
   "source": [
    "data_filter_C = data_filter.filter(items=['SiteEnergyUse','LargestPropertyUseTypeGFA','TotalUseTypeNumber','GFAPerBuilding','txIsHospital',\n",
    "                    'IsHospital','IsHospitalGeneral'])"
   ]
  },
  {
   "cell_type": "code",
   "execution_count": 32,
   "id": "382922e7",
   "metadata": {
    "scrolled": false
   },
   "outputs": [
    {
     "data": {
      "text/plain": [
       "(1032, 25)"
      ]
     },
     "execution_count": 32,
     "metadata": {},
     "output_type": "execute_result"
    }
   ],
   "source": [
    "data_filter.shape\n"
   ]
  },
  {
   "cell_type": "code",
   "execution_count": 33,
   "id": "4e4f1a95",
   "metadata": {},
   "outputs": [
    {
     "name": "stdout",
     "output_type": "stream",
     "text": [
      "Entrainement: 825 lignes,\n",
      "Test: 207 lignes.\n",
      "\n"
     ]
    }
   ],
   "source": [
    "from sklearn.model_selection import train_test_split\n",
    "\n",
    "X = data_filter_E.drop(['TotalGHGEmissions'], axis=1)\n",
    "Y = data_filter_E['TotalGHGEmissions']\n",
    "\n",
    "X_train, X_test, Y_train, Y_test = train_test_split(X, Y, test_size=0.2, random_state=42)\n",
    "\n",
    "print(\"Entrainement: {} lignes,\\nTest: {} lignes.\\n\".format(X_train.shape[0],\n",
    "                                                            X_test.shape[0]))"
   ]
  },
  {
   "cell_type": "code",
   "execution_count": 34,
   "id": "37be53b8",
   "metadata": {
    "scrolled": false
   },
   "outputs": [],
   "source": [
    "#Histogramme de la distribution des emissions de CO2 avec changement d'échelle logarithmique\n",
    "from sklearn.preprocessing import FunctionTransformer\n",
    "\n",
    "logtransformer = FunctionTransformer(np.log, inverse_func = np.exp, check_inverse = True)\n",
    "Y_log = logtransformer.transform(Y)\n"
   ]
  },
  {
   "cell_type": "code",
   "execution_count": 35,
   "id": "a39e9e9d",
   "metadata": {},
   "outputs": [],
   "source": [
    "results = pd.DataFrame(columns = ['r2','time'])"
   ]
  },
  {
   "cell_type": "code",
   "execution_count": 36,
   "id": "d52f87cf",
   "metadata": {},
   "outputs": [],
   "source": [
    "results_S = pd.DataFrame(columns = ['r2','time'])"
   ]
  },
  {
   "cell_type": "code",
   "execution_count": 37,
   "id": "a975293d",
   "metadata": {},
   "outputs": [
    {
     "name": "stdout",
     "output_type": "stream",
     "text": [
      "Meilleur(s) hyperparamètre(s) sur le jeu d'entraînement:\n",
      "{'n_jobs': 0.0}\n",
      "Résultats de la validation croisée :\n",
      "r2 = 0.124 (+/-1.036) for {'n_jobs': array([0. , 0.1, 0.2, 0.3, 0.4, 0.5, 0.6, 0.7, 0.8, 0.9])}\n",
      "r2 = 0.124 (+/-1.036) for {'n_jobs': array([0. , 0.1, 0.2, 0.3, 0.4, 0.5, 0.6, 0.7, 0.8, 0.9])}\n",
      "r2 = 0.124 (+/-1.036) for {'n_jobs': array([0. , 0.1, 0.2, 0.3, 0.4, 0.5, 0.6, 0.7, 0.8, 0.9])}\n",
      "r2 = 0.124 (+/-1.036) for {'n_jobs': array([0. , 0.1, 0.2, 0.3, 0.4, 0.5, 0.6, 0.7, 0.8, 0.9])}\n",
      "r2 = 0.124 (+/-1.036) for {'n_jobs': array([0. , 0.1, 0.2, 0.3, 0.4, 0.5, 0.6, 0.7, 0.8, 0.9])}\n",
      "r2 = 0.124 (+/-1.036) for {'n_jobs': array([0. , 0.1, 0.2, 0.3, 0.4, 0.5, 0.6, 0.7, 0.8, 0.9])}\n",
      "r2 = 0.124 (+/-1.036) for {'n_jobs': array([0. , 0.1, 0.2, 0.3, 0.4, 0.5, 0.6, 0.7, 0.8, 0.9])}\n",
      "r2 = 0.124 (+/-1.036) for {'n_jobs': array([0. , 0.1, 0.2, 0.3, 0.4, 0.5, 0.6, 0.7, 0.8, 0.9])}\n",
      "r2 = 0.124 (+/-1.036) for {'n_jobs': array([0. , 0.1, 0.2, 0.3, 0.4, 0.5, 0.6, 0.7, 0.8, 0.9])}\n",
      "r2 = 0.124 (+/-1.036) for {'n_jobs': array([0. , 0.1, 0.2, 0.3, 0.4, 0.5, 0.6, 0.7, 0.8, 0.9])}\n"
     ]
    }
   ],
   "source": [
    "from sklearn import neighbors, metrics, model_selection\n",
    "# Fixer les valeurs des hyperparamètres à tester\n",
    "from sklearn.linear_model import LinearRegression\n",
    "from sklearn.model_selection import GridSearchCV\n",
    "\n",
    "#paramétrage du modèle\n",
    "param_mlr_E = {'n_jobs': np.arange(0,1,0.1)}\n",
    "\n",
    "# Choisir un score à optimiser, ici l'accuracy (proportion de prédictions correctes)\n",
    "score = 'r2'\n",
    "\n",
    "# Créer un classifieur kNN avec recherche d'hyperparamètre par validation croisée\n",
    "clf_mlr_E = model_selection.GridSearchCV(\n",
    "    LinearRegression(), # un classifieur kNN\n",
    "    param_mlr_E,     # hyperparamètres à tester\n",
    "    cv=5,           # nombre de folds de validation croisée\n",
    "    scoring=score)   # score à optimiser\n",
    "\n",
    "\n",
    "# Optimiser ce classifieur sur le jeu d'entraînement\n",
    "clf_mlr_E = clf_mlr_E.fit(X_train, Y_train)\n",
    "\n",
    "# Afficher le(s) hyperparamètre(s) optimaux\n",
    "print(\"Meilleur(s) hyperparamètre(s) sur le jeu d'entraînement:\")\n",
    "print(clf_mlr_E.best_params_)\n",
    "\n",
    "# Afficher les performances correspondantes\n",
    "print(\"Résultats de la validation croisée :\")\n",
    "for mean, std, params in zip(\n",
    "        clf_mlr_E.cv_results_['mean_test_score'], # score moyen\n",
    "        clf_mlr_E.cv_results_['std_test_score'],  # écart-type du score\n",
    "        clf_mlr_E.cv_results_['params']           # valeur de l'hyperparamètre\n",
    "    ):\n",
    "\n",
    "    print(\"{} = {:.3f} (+/-{:.03f}) for {}\".format(\n",
    "        score,\n",
    "        mean,\n",
    "        std*2,\n",
    "        param_mlr_E\n",
    "    ) )"
   ]
  },
  {
   "cell_type": "code",
   "execution_count": 38,
   "id": "f8cc3291",
   "metadata": {},
   "outputs": [
    {
     "name": "stdout",
     "output_type": "stream",
     "text": [
      "0.5995792449092049\n",
      "0.7350011260232399\n"
     ]
    }
   ],
   "source": [
    "print(clf_mlr_E.score(X_train, Y_train))\n",
    "print(clf_mlr_E.score(X_test,Y_test))\n"
   ]
  },
  {
   "cell_type": "code",
   "execution_count": 39,
   "id": "f2de53e9",
   "metadata": {},
   "outputs": [],
   "source": [
    "model_mlr_E= clf_mlr_E.best_estimator_"
   ]
  },
  {
   "cell_type": "code",
   "execution_count": 40,
   "id": "ca393816",
   "metadata": {},
   "outputs": [
    {
     "data": {
      "text/plain": [
       "0.7350011260232399"
      ]
     },
     "execution_count": 40,
     "metadata": {},
     "output_type": "execute_result"
    }
   ],
   "source": [
    "model_mlr_E.score(X_test, Y_test)"
   ]
  },
  {
   "cell_type": "code",
   "execution_count": 41,
   "id": "698d001f",
   "metadata": {},
   "outputs": [
    {
     "name": "stdout",
     "output_type": "stream",
     "text": [
      "r2_mlr_E 0.74 time 0.00s\n"
     ]
    }
   ],
   "source": [
    "import timeit\n",
    "\n",
    "start_time = timeit.default_timer()\n",
    "\n",
    "Y_pred = model_mlr_E.predict(X_test)\n",
    "\n",
    "time_mlr_E = timeit.default_timer() - start_time\n",
    "r2_mlr_E = r2_score(Y_test, Y_pred)\n",
    "\n",
    "print(\"r2_mlr_E {:.2f} time {:.2f}s\".format(r2_mlr_E, time_mlr_E))\n"
   ]
  },
  {
   "cell_type": "code",
   "execution_count": 42,
   "id": "e8bad9f9",
   "metadata": {},
   "outputs": [],
   "source": [
    "results_S.loc['LinearRegression for TotalGHGEmissions without EnergyStarScore', 'r2'] = r2_mlr_E\n",
    "results_S.loc['LinearRegression for TotalGHGEmissions without EnergyStarScore', 'time'] = time_mlr_E"
   ]
  },
  {
   "cell_type": "code",
   "execution_count": 43,
   "id": "343d95c4",
   "metadata": {},
   "outputs": [
    {
     "data": {
      "text/plain": [
       "332002.77594384714"
      ]
     },
     "execution_count": 43,
     "metadata": {},
     "output_type": "execute_result"
    }
   ],
   "source": [
    "mean_squared_error(Y_test,Y_pred)"
   ]
  },
  {
   "cell_type": "code",
   "execution_count": 44,
   "id": "fb7b7176",
   "metadata": {
    "scrolled": false
   },
   "outputs": [
    {
     "name": "stderr",
     "output_type": "stream",
     "text": [
      "C:\\Users\\sesa638933\\Anaconda3\\conda\\lib\\site-packages\\sklearn\\linear_model\\_coordinate_descent.py:530: ConvergenceWarning: Objective did not converge. You might want to increase the number of iterations. Duality gap: 33928530.00955166, tolerance: 14370581.953897262\n",
      "  model = cd_fast.enet_coordinate_descent(\n",
      "C:\\Users\\sesa638933\\Anaconda3\\conda\\lib\\site-packages\\sklearn\\linear_model\\_coordinate_descent.py:530: ConvergenceWarning: Objective did not converge. You might want to increase the number of iterations. Duality gap: 33391695.280100904, tolerance: 16649005.872844622\n",
      "  model = cd_fast.enet_coordinate_descent(\n",
      "C:\\Users\\sesa638933\\Anaconda3\\conda\\lib\\site-packages\\sklearn\\linear_model\\_coordinate_descent.py:530: ConvergenceWarning: Objective did not converge. You might want to increase the number of iterations. Duality gap: 35240997.277828485, tolerance: 14985430.902740456\n",
      "  model = cd_fast.enet_coordinate_descent(\n",
      "C:\\Users\\sesa638933\\Anaconda3\\conda\\lib\\site-packages\\sklearn\\linear_model\\_coordinate_descent.py:530: ConvergenceWarning: Objective did not converge. You might want to increase the number of iterations. Duality gap: 34909645.42443875, tolerance: 17619758.755269468\n",
      "  model = cd_fast.enet_coordinate_descent(\n",
      "C:\\Users\\sesa638933\\Anaconda3\\conda\\lib\\site-packages\\sklearn\\linear_model\\_coordinate_descent.py:530: ConvergenceWarning: Objective did not converge. You might want to increase the number of iterations. Duality gap: 25329177.542957786, tolerance: 10642892.312514134\n",
      "  model = cd_fast.enet_coordinate_descent(\n",
      "C:\\Users\\sesa638933\\Anaconda3\\conda\\lib\\site-packages\\sklearn\\linear_model\\_coordinate_descent.py:530: ConvergenceWarning: Objective did not converge. You might want to increase the number of iterations. Duality gap: 33928530.00955166, tolerance: 1437058.1953897262\n",
      "  model = cd_fast.enet_coordinate_descent(\n",
      "C:\\Users\\sesa638933\\Anaconda3\\conda\\lib\\site-packages\\sklearn\\linear_model\\_coordinate_descent.py:530: ConvergenceWarning: Objective did not converge. You might want to increase the number of iterations. Duality gap: 33391695.280100904, tolerance: 1664900.5872844623\n",
      "  model = cd_fast.enet_coordinate_descent(\n",
      "C:\\Users\\sesa638933\\Anaconda3\\conda\\lib\\site-packages\\sklearn\\linear_model\\_coordinate_descent.py:530: ConvergenceWarning: Objective did not converge. You might want to increase the number of iterations. Duality gap: 35240997.277828485, tolerance: 1498543.0902740455\n",
      "  model = cd_fast.enet_coordinate_descent(\n",
      "C:\\Users\\sesa638933\\Anaconda3\\conda\\lib\\site-packages\\sklearn\\linear_model\\_coordinate_descent.py:530: ConvergenceWarning: Objective did not converge. You might want to increase the number of iterations. Duality gap: 34909645.42443875, tolerance: 1761975.8755269467\n",
      "  model = cd_fast.enet_coordinate_descent(\n",
      "C:\\Users\\sesa638933\\Anaconda3\\conda\\lib\\site-packages\\sklearn\\linear_model\\_coordinate_descent.py:530: ConvergenceWarning: Objective did not converge. You might want to increase the number of iterations. Duality gap: 25329177.542957786, tolerance: 1064289.2312514132\n",
      "  model = cd_fast.enet_coordinate_descent(\n",
      "C:\\Users\\sesa638933\\Anaconda3\\conda\\lib\\site-packages\\sklearn\\linear_model\\_coordinate_descent.py:530: ConvergenceWarning: Objective did not converge. You might want to increase the number of iterations. Duality gap: 33928530.00955166, tolerance: 143705.81953897263\n",
      "  model = cd_fast.enet_coordinate_descent(\n",
      "C:\\Users\\sesa638933\\Anaconda3\\conda\\lib\\site-packages\\sklearn\\linear_model\\_coordinate_descent.py:530: ConvergenceWarning: Objective did not converge. You might want to increase the number of iterations. Duality gap: 33391695.280100904, tolerance: 166490.05872844622\n",
      "  model = cd_fast.enet_coordinate_descent(\n",
      "C:\\Users\\sesa638933\\Anaconda3\\conda\\lib\\site-packages\\sklearn\\linear_model\\_coordinate_descent.py:530: ConvergenceWarning: Objective did not converge. You might want to increase the number of iterations. Duality gap: 35240997.277828485, tolerance: 149854.30902740455\n",
      "  model = cd_fast.enet_coordinate_descent(\n",
      "C:\\Users\\sesa638933\\Anaconda3\\conda\\lib\\site-packages\\sklearn\\linear_model\\_coordinate_descent.py:530: ConvergenceWarning: Objective did not converge. You might want to increase the number of iterations. Duality gap: 34909645.42443875, tolerance: 176197.5875526947\n",
      "  model = cd_fast.enet_coordinate_descent(\n",
      "C:\\Users\\sesa638933\\Anaconda3\\conda\\lib\\site-packages\\sklearn\\linear_model\\_coordinate_descent.py:530: ConvergenceWarning: Objective did not converge. You might want to increase the number of iterations. Duality gap: 25329177.542957786, tolerance: 106428.92312514133\n",
      "  model = cd_fast.enet_coordinate_descent(\n",
      "C:\\Users\\sesa638933\\Anaconda3\\conda\\lib\\site-packages\\sklearn\\linear_model\\_coordinate_descent.py:530: ConvergenceWarning: Objective did not converge. You might want to increase the number of iterations. Duality gap: 40379478.64136138, tolerance: 14370581.953897262\n",
      "  model = cd_fast.enet_coordinate_descent(\n",
      "C:\\Users\\sesa638933\\Anaconda3\\conda\\lib\\site-packages\\sklearn\\linear_model\\_coordinate_descent.py:530: ConvergenceWarning: Objective did not converge. You might want to increase the number of iterations. Duality gap: 42356716.713820964, tolerance: 16649005.872844622\n",
      "  model = cd_fast.enet_coordinate_descent(\n",
      "C:\\Users\\sesa638933\\Anaconda3\\conda\\lib\\site-packages\\sklearn\\linear_model\\_coordinate_descent.py:530: ConvergenceWarning: Objective did not converge. You might want to increase the number of iterations. Duality gap: 40912419.61997497, tolerance: 14985430.902740456\n",
      "  model = cd_fast.enet_coordinate_descent(\n",
      "C:\\Users\\sesa638933\\Anaconda3\\conda\\lib\\site-packages\\sklearn\\linear_model\\_coordinate_descent.py:530: ConvergenceWarning: Objective did not converge. You might want to increase the number of iterations. Duality gap: 40725314.74066991, tolerance: 17619758.755269468\n",
      "  model = cd_fast.enet_coordinate_descent(\n",
      "C:\\Users\\sesa638933\\Anaconda3\\conda\\lib\\site-packages\\sklearn\\linear_model\\_coordinate_descent.py:530: ConvergenceWarning: Objective did not converge. You might want to increase the number of iterations. Duality gap: 29400510.607165582, tolerance: 10642892.312514134\n",
      "  model = cd_fast.enet_coordinate_descent(\n",
      "C:\\Users\\sesa638933\\Anaconda3\\conda\\lib\\site-packages\\sklearn\\linear_model\\_coordinate_descent.py:530: ConvergenceWarning: Objective did not converge. You might want to increase the number of iterations. Duality gap: 40379478.64136138, tolerance: 1437058.1953897262\n",
      "  model = cd_fast.enet_coordinate_descent(\n",
      "C:\\Users\\sesa638933\\Anaconda3\\conda\\lib\\site-packages\\sklearn\\linear_model\\_coordinate_descent.py:530: ConvergenceWarning: Objective did not converge. You might want to increase the number of iterations. Duality gap: 42356716.713820964, tolerance: 1664900.5872844623\n",
      "  model = cd_fast.enet_coordinate_descent(\n",
      "C:\\Users\\sesa638933\\Anaconda3\\conda\\lib\\site-packages\\sklearn\\linear_model\\_coordinate_descent.py:530: ConvergenceWarning: Objective did not converge. You might want to increase the number of iterations. Duality gap: 40912419.61997497, tolerance: 1498543.0902740455\n",
      "  model = cd_fast.enet_coordinate_descent(\n",
      "C:\\Users\\sesa638933\\Anaconda3\\conda\\lib\\site-packages\\sklearn\\linear_model\\_coordinate_descent.py:530: ConvergenceWarning: Objective did not converge. You might want to increase the number of iterations. Duality gap: 40725314.74066991, tolerance: 1761975.8755269467\n",
      "  model = cd_fast.enet_coordinate_descent(\n",
      "C:\\Users\\sesa638933\\Anaconda3\\conda\\lib\\site-packages\\sklearn\\linear_model\\_coordinate_descent.py:530: ConvergenceWarning: Objective did not converge. You might want to increase the number of iterations. Duality gap: 29400510.607165582, tolerance: 1064289.2312514132\n",
      "  model = cd_fast.enet_coordinate_descent(\n",
      "C:\\Users\\sesa638933\\Anaconda3\\conda\\lib\\site-packages\\sklearn\\linear_model\\_coordinate_descent.py:530: ConvergenceWarning: Objective did not converge. You might want to increase the number of iterations. Duality gap: 40379478.64136138, tolerance: 143705.81953897263\n",
      "  model = cd_fast.enet_coordinate_descent(\n",
      "C:\\Users\\sesa638933\\Anaconda3\\conda\\lib\\site-packages\\sklearn\\linear_model\\_coordinate_descent.py:530: ConvergenceWarning: Objective did not converge. You might want to increase the number of iterations. Duality gap: 42356716.713820964, tolerance: 166490.05872844622\n",
      "  model = cd_fast.enet_coordinate_descent(\n",
      "C:\\Users\\sesa638933\\Anaconda3\\conda\\lib\\site-packages\\sklearn\\linear_model\\_coordinate_descent.py:530: ConvergenceWarning: Objective did not converge. You might want to increase the number of iterations. Duality gap: 40912419.61997497, tolerance: 149854.30902740455\n",
      "  model = cd_fast.enet_coordinate_descent(\n",
      "C:\\Users\\sesa638933\\Anaconda3\\conda\\lib\\site-packages\\sklearn\\linear_model\\_coordinate_descent.py:530: ConvergenceWarning: Objective did not converge. You might want to increase the number of iterations. Duality gap: 40725314.74066991, tolerance: 176197.5875526947\n",
      "  model = cd_fast.enet_coordinate_descent(\n",
      "C:\\Users\\sesa638933\\Anaconda3\\conda\\lib\\site-packages\\sklearn\\linear_model\\_coordinate_descent.py:530: ConvergenceWarning: Objective did not converge. You might want to increase the number of iterations. Duality gap: 29400510.607165582, tolerance: 106428.92312514133\n",
      "  model = cd_fast.enet_coordinate_descent(\n"
     ]
    },
    {
     "name": "stderr",
     "output_type": "stream",
     "text": [
      "C:\\Users\\sesa638933\\Anaconda3\\conda\\lib\\site-packages\\sklearn\\linear_model\\_coordinate_descent.py:530: ConvergenceWarning: Objective did not converge. You might want to increase the number of iterations. Duality gap: 43151759.2144346, tolerance: 14370581.953897262\n",
      "  model = cd_fast.enet_coordinate_descent(\n",
      "C:\\Users\\sesa638933\\Anaconda3\\conda\\lib\\site-packages\\sklearn\\linear_model\\_coordinate_descent.py:530: ConvergenceWarning: Objective did not converge. You might want to increase the number of iterations. Duality gap: 45311770.58903801, tolerance: 16649005.872844622\n",
      "  model = cd_fast.enet_coordinate_descent(\n",
      "C:\\Users\\sesa638933\\Anaconda3\\conda\\lib\\site-packages\\sklearn\\linear_model\\_coordinate_descent.py:530: ConvergenceWarning: Objective did not converge. You might want to increase the number of iterations. Duality gap: 43556719.64051058, tolerance: 14985430.902740456\n",
      "  model = cd_fast.enet_coordinate_descent(\n",
      "C:\\Users\\sesa638933\\Anaconda3\\conda\\lib\\site-packages\\sklearn\\linear_model\\_coordinate_descent.py:530: ConvergenceWarning: Objective did not converge. You might want to increase the number of iterations. Duality gap: 43485207.9900932, tolerance: 17619758.755269468\n",
      "  model = cd_fast.enet_coordinate_descent(\n",
      "C:\\Users\\sesa638933\\Anaconda3\\conda\\lib\\site-packages\\sklearn\\linear_model\\_coordinate_descent.py:530: ConvergenceWarning: Objective did not converge. You might want to increase the number of iterations. Duality gap: 31074751.589069452, tolerance: 10642892.312514134\n",
      "  model = cd_fast.enet_coordinate_descent(\n",
      "C:\\Users\\sesa638933\\Anaconda3\\conda\\lib\\site-packages\\sklearn\\linear_model\\_coordinate_descent.py:530: ConvergenceWarning: Objective did not converge. You might want to increase the number of iterations. Duality gap: 43151759.2144346, tolerance: 1437058.1953897262\n",
      "  model = cd_fast.enet_coordinate_descent(\n",
      "C:\\Users\\sesa638933\\Anaconda3\\conda\\lib\\site-packages\\sklearn\\linear_model\\_coordinate_descent.py:530: ConvergenceWarning: Objective did not converge. You might want to increase the number of iterations. Duality gap: 45311770.58903801, tolerance: 1664900.5872844623\n",
      "  model = cd_fast.enet_coordinate_descent(\n",
      "C:\\Users\\sesa638933\\Anaconda3\\conda\\lib\\site-packages\\sklearn\\linear_model\\_coordinate_descent.py:530: ConvergenceWarning: Objective did not converge. You might want to increase the number of iterations. Duality gap: 43556719.64051058, tolerance: 1498543.0902740455\n",
      "  model = cd_fast.enet_coordinate_descent(\n",
      "C:\\Users\\sesa638933\\Anaconda3\\conda\\lib\\site-packages\\sklearn\\linear_model\\_coordinate_descent.py:530: ConvergenceWarning: Objective did not converge. You might want to increase the number of iterations. Duality gap: 43485207.9900932, tolerance: 1761975.8755269467\n",
      "  model = cd_fast.enet_coordinate_descent(\n",
      "C:\\Users\\sesa638933\\Anaconda3\\conda\\lib\\site-packages\\sklearn\\linear_model\\_coordinate_descent.py:530: ConvergenceWarning: Objective did not converge. You might want to increase the number of iterations. Duality gap: 31074751.589069452, tolerance: 1064289.2312514132\n",
      "  model = cd_fast.enet_coordinate_descent(\n",
      "C:\\Users\\sesa638933\\Anaconda3\\conda\\lib\\site-packages\\sklearn\\linear_model\\_coordinate_descent.py:530: ConvergenceWarning: Objective did not converge. You might want to increase the number of iterations. Duality gap: 43151759.2144346, tolerance: 143705.81953897263\n",
      "  model = cd_fast.enet_coordinate_descent(\n",
      "C:\\Users\\sesa638933\\Anaconda3\\conda\\lib\\site-packages\\sklearn\\linear_model\\_coordinate_descent.py:530: ConvergenceWarning: Objective did not converge. You might want to increase the number of iterations. Duality gap: 45311770.58903801, tolerance: 166490.05872844622\n",
      "  model = cd_fast.enet_coordinate_descent(\n",
      "C:\\Users\\sesa638933\\Anaconda3\\conda\\lib\\site-packages\\sklearn\\linear_model\\_coordinate_descent.py:530: ConvergenceWarning: Objective did not converge. You might want to increase the number of iterations. Duality gap: 43556719.64051058, tolerance: 149854.30902740455\n",
      "  model = cd_fast.enet_coordinate_descent(\n",
      "C:\\Users\\sesa638933\\Anaconda3\\conda\\lib\\site-packages\\sklearn\\linear_model\\_coordinate_descent.py:530: ConvergenceWarning: Objective did not converge. You might want to increase the number of iterations. Duality gap: 43485207.9900932, tolerance: 176197.5875526947\n",
      "  model = cd_fast.enet_coordinate_descent(\n",
      "C:\\Users\\sesa638933\\Anaconda3\\conda\\lib\\site-packages\\sklearn\\linear_model\\_coordinate_descent.py:530: ConvergenceWarning: Objective did not converge. You might want to increase the number of iterations. Duality gap: 31074751.589069452, tolerance: 106428.92312514133\n",
      "  model = cd_fast.enet_coordinate_descent(\n"
     ]
    },
    {
     "name": "stdout",
     "output_type": "stream",
     "text": [
      "Meilleur(s) hyperparamètre(s) sur le jeu d'entraînement:\n",
      "{'alpha': 0.01, 'l1_ratio': 0.0, 'tol': 0.1}\n",
      "Résultats de la validation croisée :\n",
      "r2 = 0.288 (+/-0.900) for {'tol': [0.1, 0.01, 0.001], 'alpha': [0.01, 0.1, 1], 'l1_ratio': array([0. , 0.1, 0.2, 0.3, 0.4, 0.5, 0.6, 0.7, 0.8, 0.9])}\n",
      "r2 = 0.288 (+/-0.900) for {'tol': [0.1, 0.01, 0.001], 'alpha': [0.01, 0.1, 1], 'l1_ratio': array([0. , 0.1, 0.2, 0.3, 0.4, 0.5, 0.6, 0.7, 0.8, 0.9])}\n",
      "r2 = 0.288 (+/-0.900) for {'tol': [0.1, 0.01, 0.001], 'alpha': [0.01, 0.1, 1], 'l1_ratio': array([0. , 0.1, 0.2, 0.3, 0.4, 0.5, 0.6, 0.7, 0.8, 0.9])}\n",
      "r2 = 0.285 (+/-0.898) for {'tol': [0.1, 0.01, 0.001], 'alpha': [0.01, 0.1, 1], 'l1_ratio': array([0. , 0.1, 0.2, 0.3, 0.4, 0.5, 0.6, 0.7, 0.8, 0.9])}\n",
      "r2 = 0.285 (+/-0.898) for {'tol': [0.1, 0.01, 0.001], 'alpha': [0.01, 0.1, 1], 'l1_ratio': array([0. , 0.1, 0.2, 0.3, 0.4, 0.5, 0.6, 0.7, 0.8, 0.9])}\n",
      "r2 = 0.285 (+/-0.898) for {'tol': [0.1, 0.01, 0.001], 'alpha': [0.01, 0.1, 1], 'l1_ratio': array([0. , 0.1, 0.2, 0.3, 0.4, 0.5, 0.6, 0.7, 0.8, 0.9])}\n",
      "r2 = 0.282 (+/-0.898) for {'tol': [0.1, 0.01, 0.001], 'alpha': [0.01, 0.1, 1], 'l1_ratio': array([0. , 0.1, 0.2, 0.3, 0.4, 0.5, 0.6, 0.7, 0.8, 0.9])}\n",
      "r2 = 0.282 (+/-0.898) for {'tol': [0.1, 0.01, 0.001], 'alpha': [0.01, 0.1, 1], 'l1_ratio': array([0. , 0.1, 0.2, 0.3, 0.4, 0.5, 0.6, 0.7, 0.8, 0.9])}\n",
      "r2 = 0.282 (+/-0.898) for {'tol': [0.1, 0.01, 0.001], 'alpha': [0.01, 0.1, 1], 'l1_ratio': array([0. , 0.1, 0.2, 0.3, 0.4, 0.5, 0.6, 0.7, 0.8, 0.9])}\n",
      "r2 = 0.278 (+/-0.899) for {'tol': [0.1, 0.01, 0.001], 'alpha': [0.01, 0.1, 1], 'l1_ratio': array([0. , 0.1, 0.2, 0.3, 0.4, 0.5, 0.6, 0.7, 0.8, 0.9])}\n",
      "r2 = 0.278 (+/-0.899) for {'tol': [0.1, 0.01, 0.001], 'alpha': [0.01, 0.1, 1], 'l1_ratio': array([0. , 0.1, 0.2, 0.3, 0.4, 0.5, 0.6, 0.7, 0.8, 0.9])}\n",
      "r2 = 0.278 (+/-0.899) for {'tol': [0.1, 0.01, 0.001], 'alpha': [0.01, 0.1, 1], 'l1_ratio': array([0. , 0.1, 0.2, 0.3, 0.4, 0.5, 0.6, 0.7, 0.8, 0.9])}\n",
      "r2 = 0.272 (+/-0.904) for {'tol': [0.1, 0.01, 0.001], 'alpha': [0.01, 0.1, 1], 'l1_ratio': array([0. , 0.1, 0.2, 0.3, 0.4, 0.5, 0.6, 0.7, 0.8, 0.9])}\n",
      "r2 = 0.272 (+/-0.904) for {'tol': [0.1, 0.01, 0.001], 'alpha': [0.01, 0.1, 1], 'l1_ratio': array([0. , 0.1, 0.2, 0.3, 0.4, 0.5, 0.6, 0.7, 0.8, 0.9])}\n",
      "r2 = 0.272 (+/-0.904) for {'tol': [0.1, 0.01, 0.001], 'alpha': [0.01, 0.1, 1], 'l1_ratio': array([0. , 0.1, 0.2, 0.3, 0.4, 0.5, 0.6, 0.7, 0.8, 0.9])}\n",
      "r2 = 0.265 (+/-0.914) for {'tol': [0.1, 0.01, 0.001], 'alpha': [0.01, 0.1, 1], 'l1_ratio': array([0. , 0.1, 0.2, 0.3, 0.4, 0.5, 0.6, 0.7, 0.8, 0.9])}\n",
      "r2 = 0.265 (+/-0.914) for {'tol': [0.1, 0.01, 0.001], 'alpha': [0.01, 0.1, 1], 'l1_ratio': array([0. , 0.1, 0.2, 0.3, 0.4, 0.5, 0.6, 0.7, 0.8, 0.9])}\n",
      "r2 = 0.265 (+/-0.914) for {'tol': [0.1, 0.01, 0.001], 'alpha': [0.01, 0.1, 1], 'l1_ratio': array([0. , 0.1, 0.2, 0.3, 0.4, 0.5, 0.6, 0.7, 0.8, 0.9])}\n",
      "r2 = 0.255 (+/-0.928) for {'tol': [0.1, 0.01, 0.001], 'alpha': [0.01, 0.1, 1], 'l1_ratio': array([0. , 0.1, 0.2, 0.3, 0.4, 0.5, 0.6, 0.7, 0.8, 0.9])}\n",
      "r2 = 0.255 (+/-0.928) for {'tol': [0.1, 0.01, 0.001], 'alpha': [0.01, 0.1, 1], 'l1_ratio': array([0. , 0.1, 0.2, 0.3, 0.4, 0.5, 0.6, 0.7, 0.8, 0.9])}\n",
      "r2 = 0.255 (+/-0.928) for {'tol': [0.1, 0.01, 0.001], 'alpha': [0.01, 0.1, 1], 'l1_ratio': array([0. , 0.1, 0.2, 0.3, 0.4, 0.5, 0.6, 0.7, 0.8, 0.9])}\n",
      "r2 = 0.243 (+/-0.949) for {'tol': [0.1, 0.01, 0.001], 'alpha': [0.01, 0.1, 1], 'l1_ratio': array([0. , 0.1, 0.2, 0.3, 0.4, 0.5, 0.6, 0.7, 0.8, 0.9])}\n",
      "r2 = 0.243 (+/-0.949) for {'tol': [0.1, 0.01, 0.001], 'alpha': [0.01, 0.1, 1], 'l1_ratio': array([0. , 0.1, 0.2, 0.3, 0.4, 0.5, 0.6, 0.7, 0.8, 0.9])}\n",
      "r2 = 0.243 (+/-0.949) for {'tol': [0.1, 0.01, 0.001], 'alpha': [0.01, 0.1, 1], 'l1_ratio': array([0. , 0.1, 0.2, 0.3, 0.4, 0.5, 0.6, 0.7, 0.8, 0.9])}\n",
      "r2 = 0.225 (+/-0.978) for {'tol': [0.1, 0.01, 0.001], 'alpha': [0.01, 0.1, 1], 'l1_ratio': array([0. , 0.1, 0.2, 0.3, 0.4, 0.5, 0.6, 0.7, 0.8, 0.9])}\n",
      "r2 = 0.225 (+/-0.978) for {'tol': [0.1, 0.01, 0.001], 'alpha': [0.01, 0.1, 1], 'l1_ratio': array([0. , 0.1, 0.2, 0.3, 0.4, 0.5, 0.6, 0.7, 0.8, 0.9])}\n",
      "r2 = 0.225 (+/-0.978) for {'tol': [0.1, 0.01, 0.001], 'alpha': [0.01, 0.1, 1], 'l1_ratio': array([0. , 0.1, 0.2, 0.3, 0.4, 0.5, 0.6, 0.7, 0.8, 0.9])}\n",
      "r2 = 0.197 (+/-1.014) for {'tol': [0.1, 0.01, 0.001], 'alpha': [0.01, 0.1, 1], 'l1_ratio': array([0. , 0.1, 0.2, 0.3, 0.4, 0.5, 0.6, 0.7, 0.8, 0.9])}\n",
      "r2 = 0.197 (+/-1.014) for {'tol': [0.1, 0.01, 0.001], 'alpha': [0.01, 0.1, 1], 'l1_ratio': array([0. , 0.1, 0.2, 0.3, 0.4, 0.5, 0.6, 0.7, 0.8, 0.9])}\n",
      "r2 = 0.197 (+/-1.014) for {'tol': [0.1, 0.01, 0.001], 'alpha': [0.01, 0.1, 1], 'l1_ratio': array([0. , 0.1, 0.2, 0.3, 0.4, 0.5, 0.6, 0.7, 0.8, 0.9])}\n",
      "r2 = 0.170 (+/-1.236) for {'tol': [0.1, 0.01, 0.001], 'alpha': [0.01, 0.1, 1], 'l1_ratio': array([0. , 0.1, 0.2, 0.3, 0.4, 0.5, 0.6, 0.7, 0.8, 0.9])}\n",
      "r2 = 0.170 (+/-1.236) for {'tol': [0.1, 0.01, 0.001], 'alpha': [0.01, 0.1, 1], 'l1_ratio': array([0. , 0.1, 0.2, 0.3, 0.4, 0.5, 0.6, 0.7, 0.8, 0.9])}\n",
      "r2 = 0.170 (+/-1.236) for {'tol': [0.1, 0.01, 0.001], 'alpha': [0.01, 0.1, 1], 'l1_ratio': array([0. , 0.1, 0.2, 0.3, 0.4, 0.5, 0.6, 0.7, 0.8, 0.9])}\n",
      "r2 = 0.179 (+/-1.219) for {'tol': [0.1, 0.01, 0.001], 'alpha': [0.01, 0.1, 1], 'l1_ratio': array([0. , 0.1, 0.2, 0.3, 0.4, 0.5, 0.6, 0.7, 0.8, 0.9])}\n",
      "r2 = 0.179 (+/-1.219) for {'tol': [0.1, 0.01, 0.001], 'alpha': [0.01, 0.1, 1], 'l1_ratio': array([0. , 0.1, 0.2, 0.3, 0.4, 0.5, 0.6, 0.7, 0.8, 0.9])}\n",
      "r2 = 0.179 (+/-1.219) for {'tol': [0.1, 0.01, 0.001], 'alpha': [0.01, 0.1, 1], 'l1_ratio': array([0. , 0.1, 0.2, 0.3, 0.4, 0.5, 0.6, 0.7, 0.8, 0.9])}\n",
      "r2 = 0.190 (+/-1.199) for {'tol': [0.1, 0.01, 0.001], 'alpha': [0.01, 0.1, 1], 'l1_ratio': array([0. , 0.1, 0.2, 0.3, 0.4, 0.5, 0.6, 0.7, 0.8, 0.9])}\n",
      "r2 = 0.190 (+/-1.199) for {'tol': [0.1, 0.01, 0.001], 'alpha': [0.01, 0.1, 1], 'l1_ratio': array([0. , 0.1, 0.2, 0.3, 0.4, 0.5, 0.6, 0.7, 0.8, 0.9])}\n",
      "r2 = 0.190 (+/-1.199) for {'tol': [0.1, 0.01, 0.001], 'alpha': [0.01, 0.1, 1], 'l1_ratio': array([0. , 0.1, 0.2, 0.3, 0.4, 0.5, 0.6, 0.7, 0.8, 0.9])}\n",
      "r2 = 0.202 (+/-1.175) for {'tol': [0.1, 0.01, 0.001], 'alpha': [0.01, 0.1, 1], 'l1_ratio': array([0. , 0.1, 0.2, 0.3, 0.4, 0.5, 0.6, 0.7, 0.8, 0.9])}\n",
      "r2 = 0.202 (+/-1.175) for {'tol': [0.1, 0.01, 0.001], 'alpha': [0.01, 0.1, 1], 'l1_ratio': array([0. , 0.1, 0.2, 0.3, 0.4, 0.5, 0.6, 0.7, 0.8, 0.9])}\n",
      "r2 = 0.202 (+/-1.175) for {'tol': [0.1, 0.01, 0.001], 'alpha': [0.01, 0.1, 1], 'l1_ratio': array([0. , 0.1, 0.2, 0.3, 0.4, 0.5, 0.6, 0.7, 0.8, 0.9])}\n",
      "r2 = 0.216 (+/-1.148) for {'tol': [0.1, 0.01, 0.001], 'alpha': [0.01, 0.1, 1], 'l1_ratio': array([0. , 0.1, 0.2, 0.3, 0.4, 0.5, 0.6, 0.7, 0.8, 0.9])}\n",
      "r2 = 0.216 (+/-1.148) for {'tol': [0.1, 0.01, 0.001], 'alpha': [0.01, 0.1, 1], 'l1_ratio': array([0. , 0.1, 0.2, 0.3, 0.4, 0.5, 0.6, 0.7, 0.8, 0.9])}\n",
      "r2 = 0.216 (+/-1.148) for {'tol': [0.1, 0.01, 0.001], 'alpha': [0.01, 0.1, 1], 'l1_ratio': array([0. , 0.1, 0.2, 0.3, 0.4, 0.5, 0.6, 0.7, 0.8, 0.9])}\n",
      "r2 = 0.231 (+/-1.114) for {'tol': [0.1, 0.01, 0.001], 'alpha': [0.01, 0.1, 1], 'l1_ratio': array([0. , 0.1, 0.2, 0.3, 0.4, 0.5, 0.6, 0.7, 0.8, 0.9])}\n",
      "r2 = 0.231 (+/-1.114) for {'tol': [0.1, 0.01, 0.001], 'alpha': [0.01, 0.1, 1], 'l1_ratio': array([0. , 0.1, 0.2, 0.3, 0.4, 0.5, 0.6, 0.7, 0.8, 0.9])}\n",
      "r2 = 0.231 (+/-1.114) for {'tol': [0.1, 0.01, 0.001], 'alpha': [0.01, 0.1, 1], 'l1_ratio': array([0. , 0.1, 0.2, 0.3, 0.4, 0.5, 0.6, 0.7, 0.8, 0.9])}\n",
      "r2 = 0.249 (+/-1.074) for {'tol': [0.1, 0.01, 0.001], 'alpha': [0.01, 0.1, 1], 'l1_ratio': array([0. , 0.1, 0.2, 0.3, 0.4, 0.5, 0.6, 0.7, 0.8, 0.9])}\n",
      "r2 = 0.249 (+/-1.074) for {'tol': [0.1, 0.01, 0.001], 'alpha': [0.01, 0.1, 1], 'l1_ratio': array([0. , 0.1, 0.2, 0.3, 0.4, 0.5, 0.6, 0.7, 0.8, 0.9])}\n",
      "r2 = 0.249 (+/-1.074) for {'tol': [0.1, 0.01, 0.001], 'alpha': [0.01, 0.1, 1], 'l1_ratio': array([0. , 0.1, 0.2, 0.3, 0.4, 0.5, 0.6, 0.7, 0.8, 0.9])}\n",
      "r2 = 0.268 (+/-1.023) for {'tol': [0.1, 0.01, 0.001], 'alpha': [0.01, 0.1, 1], 'l1_ratio': array([0. , 0.1, 0.2, 0.3, 0.4, 0.5, 0.6, 0.7, 0.8, 0.9])}\n",
      "r2 = 0.268 (+/-1.023) for {'tol': [0.1, 0.01, 0.001], 'alpha': [0.01, 0.1, 1], 'l1_ratio': array([0. , 0.1, 0.2, 0.3, 0.4, 0.5, 0.6, 0.7, 0.8, 0.9])}\n",
      "r2 = 0.268 (+/-1.023) for {'tol': [0.1, 0.01, 0.001], 'alpha': [0.01, 0.1, 1], 'l1_ratio': array([0. , 0.1, 0.2, 0.3, 0.4, 0.5, 0.6, 0.7, 0.8, 0.9])}\n",
      "r2 = 0.285 (+/-0.961) for {'tol': [0.1, 0.01, 0.001], 'alpha': [0.01, 0.1, 1], 'l1_ratio': array([0. , 0.1, 0.2, 0.3, 0.4, 0.5, 0.6, 0.7, 0.8, 0.9])}\n",
      "r2 = 0.285 (+/-0.961) for {'tol': [0.1, 0.01, 0.001], 'alpha': [0.01, 0.1, 1], 'l1_ratio': array([0. , 0.1, 0.2, 0.3, 0.4, 0.5, 0.6, 0.7, 0.8, 0.9])}\n",
      "r2 = 0.285 (+/-0.961) for {'tol': [0.1, 0.01, 0.001], 'alpha': [0.01, 0.1, 1], 'l1_ratio': array([0. , 0.1, 0.2, 0.3, 0.4, 0.5, 0.6, 0.7, 0.8, 0.9])}\n",
      "r2 = 0.287 (+/-0.902) for {'tol': [0.1, 0.01, 0.001], 'alpha': [0.01, 0.1, 1], 'l1_ratio': array([0. , 0.1, 0.2, 0.3, 0.4, 0.5, 0.6, 0.7, 0.8, 0.9])}\n",
      "r2 = 0.287 (+/-0.902) for {'tol': [0.1, 0.01, 0.001], 'alpha': [0.01, 0.1, 1], 'l1_ratio': array([0. , 0.1, 0.2, 0.3, 0.4, 0.5, 0.6, 0.7, 0.8, 0.9])}\n",
      "r2 = 0.287 (+/-0.902) for {'tol': [0.1, 0.01, 0.001], 'alpha': [0.01, 0.1, 1], 'l1_ratio': array([0. , 0.1, 0.2, 0.3, 0.4, 0.5, 0.6, 0.7, 0.8, 0.9])}\n",
      "r2 = 0.059 (+/-1.410) for {'tol': [0.1, 0.01, 0.001], 'alpha': [0.01, 0.1, 1], 'l1_ratio': array([0. , 0.1, 0.2, 0.3, 0.4, 0.5, 0.6, 0.7, 0.8, 0.9])}\n",
      "r2 = 0.059 (+/-1.410) for {'tol': [0.1, 0.01, 0.001], 'alpha': [0.01, 0.1, 1], 'l1_ratio': array([0. , 0.1, 0.2, 0.3, 0.4, 0.5, 0.6, 0.7, 0.8, 0.9])}\n",
      "r2 = 0.059 (+/-1.410) for {'tol': [0.1, 0.01, 0.001], 'alpha': [0.01, 0.1, 1], 'l1_ratio': array([0. , 0.1, 0.2, 0.3, 0.4, 0.5, 0.6, 0.7, 0.8, 0.9])}\n",
      "r2 = 0.060 (+/-1.411) for {'tol': [0.1, 0.01, 0.001], 'alpha': [0.01, 0.1, 1], 'l1_ratio': array([0. , 0.1, 0.2, 0.3, 0.4, 0.5, 0.6, 0.7, 0.8, 0.9])}\n",
      "r2 = 0.060 (+/-1.411) for {'tol': [0.1, 0.01, 0.001], 'alpha': [0.01, 0.1, 1], 'l1_ratio': array([0. , 0.1, 0.2, 0.3, 0.4, 0.5, 0.6, 0.7, 0.8, 0.9])}\n",
      "r2 = 0.060 (+/-1.411) for {'tol': [0.1, 0.01, 0.001], 'alpha': [0.01, 0.1, 1], 'l1_ratio': array([0. , 0.1, 0.2, 0.3, 0.4, 0.5, 0.6, 0.7, 0.8, 0.9])}\n",
      "r2 = 0.061 (+/-1.411) for {'tol': [0.1, 0.01, 0.001], 'alpha': [0.01, 0.1, 1], 'l1_ratio': array([0. , 0.1, 0.2, 0.3, 0.4, 0.5, 0.6, 0.7, 0.8, 0.9])}\n",
      "r2 = 0.061 (+/-1.411) for {'tol': [0.1, 0.01, 0.001], 'alpha': [0.01, 0.1, 1], 'l1_ratio': array([0. , 0.1, 0.2, 0.3, 0.4, 0.5, 0.6, 0.7, 0.8, 0.9])}\n",
      "r2 = 0.061 (+/-1.411) for {'tol': [0.1, 0.01, 0.001], 'alpha': [0.01, 0.1, 1], 'l1_ratio': array([0. , 0.1, 0.2, 0.3, 0.4, 0.5, 0.6, 0.7, 0.8, 0.9])}\n",
      "r2 = 0.063 (+/-1.410) for {'tol': [0.1, 0.01, 0.001], 'alpha': [0.01, 0.1, 1], 'l1_ratio': array([0. , 0.1, 0.2, 0.3, 0.4, 0.5, 0.6, 0.7, 0.8, 0.9])}\n",
      "r2 = 0.063 (+/-1.410) for {'tol': [0.1, 0.01, 0.001], 'alpha': [0.01, 0.1, 1], 'l1_ratio': array([0. , 0.1, 0.2, 0.3, 0.4, 0.5, 0.6, 0.7, 0.8, 0.9])}\n",
      "r2 = 0.063 (+/-1.410) for {'tol': [0.1, 0.01, 0.001], 'alpha': [0.01, 0.1, 1], 'l1_ratio': array([0. , 0.1, 0.2, 0.3, 0.4, 0.5, 0.6, 0.7, 0.8, 0.9])}\n",
      "r2 = 0.066 (+/-1.407) for {'tol': [0.1, 0.01, 0.001], 'alpha': [0.01, 0.1, 1], 'l1_ratio': array([0. , 0.1, 0.2, 0.3, 0.4, 0.5, 0.6, 0.7, 0.8, 0.9])}\n",
      "r2 = 0.066 (+/-1.407) for {'tol': [0.1, 0.01, 0.001], 'alpha': [0.01, 0.1, 1], 'l1_ratio': array([0. , 0.1, 0.2, 0.3, 0.4, 0.5, 0.6, 0.7, 0.8, 0.9])}\n",
      "r2 = 0.066 (+/-1.407) for {'tol': [0.1, 0.01, 0.001], 'alpha': [0.01, 0.1, 1], 'l1_ratio': array([0. , 0.1, 0.2, 0.3, 0.4, 0.5, 0.6, 0.7, 0.8, 0.9])}\n",
      "r2 = 0.071 (+/-1.401) for {'tol': [0.1, 0.01, 0.001], 'alpha': [0.01, 0.1, 1], 'l1_ratio': array([0. , 0.1, 0.2, 0.3, 0.4, 0.5, 0.6, 0.7, 0.8, 0.9])}\n",
      "r2 = 0.071 (+/-1.401) for {'tol': [0.1, 0.01, 0.001], 'alpha': [0.01, 0.1, 1], 'l1_ratio': array([0. , 0.1, 0.2, 0.3, 0.4, 0.5, 0.6, 0.7, 0.8, 0.9])}\n",
      "r2 = 0.071 (+/-1.401) for {'tol': [0.1, 0.01, 0.001], 'alpha': [0.01, 0.1, 1], 'l1_ratio': array([0. , 0.1, 0.2, 0.3, 0.4, 0.5, 0.6, 0.7, 0.8, 0.9])}\n",
      "r2 = 0.078 (+/-1.391) for {'tol': [0.1, 0.01, 0.001], 'alpha': [0.01, 0.1, 1], 'l1_ratio': array([0. , 0.1, 0.2, 0.3, 0.4, 0.5, 0.6, 0.7, 0.8, 0.9])}\n",
      "r2 = 0.078 (+/-1.391) for {'tol': [0.1, 0.01, 0.001], 'alpha': [0.01, 0.1, 1], 'l1_ratio': array([0. , 0.1, 0.2, 0.3, 0.4, 0.5, 0.6, 0.7, 0.8, 0.9])}\n",
      "r2 = 0.078 (+/-1.391) for {'tol': [0.1, 0.01, 0.001], 'alpha': [0.01, 0.1, 1], 'l1_ratio': array([0. , 0.1, 0.2, 0.3, 0.4, 0.5, 0.6, 0.7, 0.8, 0.9])}\n",
      "r2 = 0.090 (+/-1.373) for {'tol': [0.1, 0.01, 0.001], 'alpha': [0.01, 0.1, 1], 'l1_ratio': array([0. , 0.1, 0.2, 0.3, 0.4, 0.5, 0.6, 0.7, 0.8, 0.9])}\n",
      "r2 = 0.090 (+/-1.373) for {'tol': [0.1, 0.01, 0.001], 'alpha': [0.01, 0.1, 1], 'l1_ratio': array([0. , 0.1, 0.2, 0.3, 0.4, 0.5, 0.6, 0.7, 0.8, 0.9])}\n",
      "r2 = 0.090 (+/-1.373) for {'tol': [0.1, 0.01, 0.001], 'alpha': [0.01, 0.1, 1], 'l1_ratio': array([0. , 0.1, 0.2, 0.3, 0.4, 0.5, 0.6, 0.7, 0.8, 0.9])}\n",
      "r2 = 0.112 (+/-1.337) for {'tol': [0.1, 0.01, 0.001], 'alpha': [0.01, 0.1, 1], 'l1_ratio': array([0. , 0.1, 0.2, 0.3, 0.4, 0.5, 0.6, 0.7, 0.8, 0.9])}\n",
      "r2 = 0.112 (+/-1.337) for {'tol': [0.1, 0.01, 0.001], 'alpha': [0.01, 0.1, 1], 'l1_ratio': array([0. , 0.1, 0.2, 0.3, 0.4, 0.5, 0.6, 0.7, 0.8, 0.9])}\n",
      "r2 = 0.112 (+/-1.337) for {'tol': [0.1, 0.01, 0.001], 'alpha': [0.01, 0.1, 1], 'l1_ratio': array([0. , 0.1, 0.2, 0.3, 0.4, 0.5, 0.6, 0.7, 0.8, 0.9])}\n",
      "r2 = 0.164 (+/-1.247) for {'tol': [0.1, 0.01, 0.001], 'alpha': [0.01, 0.1, 1], 'l1_ratio': array([0. , 0.1, 0.2, 0.3, 0.4, 0.5, 0.6, 0.7, 0.8, 0.9])}\n",
      "r2 = 0.164 (+/-1.247) for {'tol': [0.1, 0.01, 0.001], 'alpha': [0.01, 0.1, 1], 'l1_ratio': array([0. , 0.1, 0.2, 0.3, 0.4, 0.5, 0.6, 0.7, 0.8, 0.9])}\n",
      "r2 = 0.164 (+/-1.247) for {'tol': [0.1, 0.01, 0.001], 'alpha': [0.01, 0.1, 1], 'l1_ratio': array([0. , 0.1, 0.2, 0.3, 0.4, 0.5, 0.6, 0.7, 0.8, 0.9])}\n"
     ]
    },
    {
     "name": "stderr",
     "output_type": "stream",
     "text": [
      "C:\\Users\\sesa638933\\Anaconda3\\conda\\lib\\site-packages\\sklearn\\linear_model\\_coordinate_descent.py:530: ConvergenceWarning: Objective did not converge. You might want to increase the number of iterations. Duality gap: 41487883.36838984, tolerance: 18569304.38162259\n",
      "  model = cd_fast.enet_coordinate_descent(\n"
     ]
    }
   ],
   "source": [
    "from sklearn.utils._testing import ignore_warnings\n",
    "from sklearn.exceptions import ConvergenceWarning\n",
    "\n",
    "from sklearn import neighbors, metrics, model_selection\n",
    "# Fixer les valeurs des hyperparamètres à tester\n",
    "from sklearn.linear_model import ElasticNet\n",
    "#paramétrage du modèle\n",
    "param_eNet_E = {'tol' : [0.1,0.01,0.001],\n",
    "              \"alpha\": [0.01, 0.1, 1],  #alpha, coef qui multiplie le terme de pénalité)\n",
    "              \"l1_ratio\": np.arange(0.0, 1.0, 0.1)}#L1 ratio , =1 équivaut à un Lasso, 0 à un Ridge\n",
    "# Choisir un score à optimiser, ici l'accuracy (proportion de prédictions correctes)\n",
    "score = 'r2'\n",
    "\n",
    "# Créer un classifieur kNN avec recherche d'hyperparamètre par validation croisée\n",
    "clf_eNet_E = model_selection.GridSearchCV(\n",
    "    ElasticNet(), # un classifieur kNN\n",
    "    param_eNet_E,     # hyperparamètres à tester\n",
    "    cv=5,           # nombre de folds de validation croisée\n",
    "    scoring=score   # score à optimiser\n",
    ")\n",
    "# Optimiser ce classifieur sur le jeu d'entraînement\n",
    "clf_eNet_E = clf_eNet_E.fit(X_train, Y_train)\n",
    "\n",
    "# Afficher le(s) hyperparamètre(s) optimaux\n",
    "print(\"Meilleur(s) hyperparamètre(s) sur le jeu d'entraînement:\")\n",
    "print(clf_eNet_E.best_params_)\n",
    "\n",
    "# Afficher les performances correspondantes\n",
    "print(\"Résultats de la validation croisée :\")\n",
    "for mean, std, params in zip(\n",
    "        clf_eNet_E.cv_results_['mean_test_score'], # score moyen\n",
    "        clf_eNet_E.cv_results_['std_test_score'],  # écart-type du score\n",
    "        clf_eNet_E.cv_results_['params']           # valeur de l'hyperparamètre\n",
    "    ):\n",
    "\n",
    "    print(\"{} = {:.3f} (+/-{:.03f}) for {}\".format(\n",
    "        score,\n",
    "        mean,\n",
    "        std*2,\n",
    "        param_eNet_E\n",
    "    ) )\n",
    "\n",
    "    "
   ]
  },
  {
   "cell_type": "code",
   "execution_count": 45,
   "id": "5910250b",
   "metadata": {},
   "outputs": [
    {
     "name": "stdout",
     "output_type": "stream",
     "text": [
      "0.5828547195866991\n",
      "0.7108644267295624\n"
     ]
    }
   ],
   "source": [
    "print(clf_eNet_E.score(X_train, Y_train))\n",
    "print(clf_eNet_E.score(X_test,Y_test))"
   ]
  },
  {
   "cell_type": "code",
   "execution_count": 46,
   "id": "44d5a9e8",
   "metadata": {},
   "outputs": [],
   "source": [
    "#meilleurs estimateurs isolés\n",
    "model_eNet_E= clf_eNet_E.best_estimator_"
   ]
  },
  {
   "cell_type": "code",
   "execution_count": 47,
   "id": "b27dcd4f",
   "metadata": {},
   "outputs": [
    {
     "data": {
      "text/plain": [
       "'model_eNet_E.score(X_test, Y_test)'"
      ]
     },
     "execution_count": 47,
     "metadata": {},
     "output_type": "execute_result"
    }
   ],
   "source": [
    "\"\"\"model_eNet_E.score(X_test, Y_test)\"\"\""
   ]
  },
  {
   "cell_type": "code",
   "execution_count": 48,
   "id": "2fadadde",
   "metadata": {},
   "outputs": [],
   "source": [
    "Y_pred = model_eNet_E.predict(X_test)"
   ]
  },
  {
   "cell_type": "code",
   "execution_count": 49,
   "id": "a5502775",
   "metadata": {},
   "outputs": [
    {
     "data": {
      "text/plain": [
       "0.7108644267295624"
      ]
     },
     "execution_count": 49,
     "metadata": {},
     "output_type": "execute_result"
    }
   ],
   "source": [
    "r2_eNet_E = r2_score(Y_test, Y_pred)\n",
    "r2_eNet_E"
   ]
  },
  {
   "cell_type": "code",
   "execution_count": 50,
   "id": "edd18251",
   "metadata": {},
   "outputs": [
    {
     "name": "stdout",
     "output_type": "stream",
     "text": [
      "r2_eNet_E 0.71 time 0.01s\n"
     ]
    }
   ],
   "source": [
    "start_time = timeit.default_timer()\n",
    "\n",
    "Y_pred = model_eNet_E.predict(X_test)\n",
    "\n",
    "time_eNet_E = timeit.default_timer() - start_time\n",
    "r2_eNet_E = r2_score(Y_test, Y_pred)\n",
    "\n",
    "print(\"r2_eNet_E {:.2f} time {:.2f}s\".format(r2_eNet_E, time_eNet_E))"
   ]
  },
  {
   "cell_type": "code",
   "execution_count": 51,
   "id": "e22f66a1",
   "metadata": {},
   "outputs": [
    {
     "data": {
      "text/plain": [
       "362242.34280451835"
      ]
     },
     "execution_count": 51,
     "metadata": {},
     "output_type": "execute_result"
    }
   ],
   "source": [
    "\n",
    "mean_squared_error(Y_test,Y_pred)"
   ]
  },
  {
   "cell_type": "code",
   "execution_count": 52,
   "id": "d05096b0",
   "metadata": {},
   "outputs": [
    {
     "name": "stdout",
     "output_type": "stream",
     "text": [
      "Meilleur(s) hyperparamètre(s) sur le jeu d'entraînement:\n",
      "{'ccp_alpha': 3.5938136638046256e-05}\n",
      "Résultats de la validation croisée :\n",
      "r2 = 0.193 (+/-1.093) for {'ccp_alpha': 1e-05}\n",
      "r2 = 0.249 (+/-0.974) for {'ccp_alpha': 3.5938136638046256e-05}\n",
      "r2 = 0.186 (+/-1.060) for {'ccp_alpha': 0.0001291549665014884}\n",
      "r2 = 0.212 (+/-1.081) for {'ccp_alpha': 0.0004641588833612782}\n",
      "r2 = 0.230 (+/-1.036) for {'ccp_alpha': 0.0016681005372000592}\n",
      "r2 = 0.196 (+/-1.112) for {'ccp_alpha': 0.005994842503189409}\n",
      "r2 = 0.187 (+/-1.075) for {'ccp_alpha': 0.021544346900318846}\n",
      "r2 = 0.225 (+/-1.040) for {'ccp_alpha': 0.07742636826811278}\n",
      "r2 = 0.228 (+/-1.004) for {'ccp_alpha': 0.2782559402207126}\n",
      "r2 = 0.173 (+/-1.125) for {'ccp_alpha': 1.0}\n"
     ]
    }
   ],
   "source": [
    "import numpy as np\n",
    "from sklearn.ensemble import RandomForestRegressor\n",
    "#paramétrage du modèle\n",
    "param_rfr_E = {\"ccp_alpha\": np.logspace(-5, 0, num=10)}\n",
    "\"\"\"'l1_ratio': np.arange(0.0, 1.1, 0.1)\"\"\"\n",
    "# Choisir un score à optimiser, ici l'accuracy (proportion de prédictions correctes)\n",
    "score = 'r2'\n",
    "\n",
    "# Créer un classifieur kNN avec recherche d'hyperparamètre par validation croisée\n",
    "clf_rfr_E = model_selection.GridSearchCV(\n",
    "    RandomForestRegressor(), # un classifieur kNN\n",
    "    param_rfr_E,     # hyperparamètres à tester\n",
    "    cv=5,           # nombre de folds de validation croisée\n",
    "    scoring=score   # score à optimiser\n",
    ")\n",
    "\n",
    "# Optimiser ce classifieur sur le jeu d'entraînement\n",
    "clf_rfr_E.fit(X_train, Y_train)\n",
    "\n",
    "# Afficher le(s) hyperparamètre(s) optimaux\n",
    "print(\"Meilleur(s) hyperparamètre(s) sur le jeu d'entraînement:\")\n",
    "print(clf_rfr_E.best_params_)\n",
    "\n",
    "# Afficher les performances correspondantes\n",
    "print(\"Résultats de la validation croisée :\")\n",
    "for mean, std, params in zip(\n",
    "        clf_rfr_E.cv_results_['mean_test_score'], # score moyen\n",
    "        clf_rfr_E.cv_results_['std_test_score'],  # écart-type du score\n",
    "        clf_rfr_E.cv_results_['params']           # valeur de l'hyperparamètre\n",
    "    ):\n",
    "\n",
    "    print(\"{} = {:.3f} (+/-{:.03f}) for {}\".format(\n",
    "        score,\n",
    "        mean,\n",
    "        std*2,\n",
    "        params\n",
    "    ) )\n"
   ]
  },
  {
   "cell_type": "code",
   "execution_count": 53,
   "id": "3dc9cbbf",
   "metadata": {},
   "outputs": [
    {
     "name": "stdout",
     "output_type": "stream",
     "text": [
      "0.9363528609295525\n",
      "0.6990319809017007\n"
     ]
    }
   ],
   "source": [
    "print(clf_rfr_E.score(X_train, Y_train))\n",
    "print(clf_rfr_E.score(X_test,Y_test))"
   ]
  },
  {
   "cell_type": "code",
   "execution_count": 54,
   "id": "7034e06c",
   "metadata": {},
   "outputs": [],
   "source": [
    "model_rfr_E= clf_rfr_E.best_estimator_"
   ]
  },
  {
   "cell_type": "code",
   "execution_count": 55,
   "id": "592d6ace",
   "metadata": {},
   "outputs": [
    {
     "data": {
      "text/plain": [
       "0.6990319809017007"
      ]
     },
     "execution_count": 55,
     "metadata": {},
     "output_type": "execute_result"
    }
   ],
   "source": [
    "model_rfr_E.score(X_test, Y_test)"
   ]
  },
  {
   "cell_type": "code",
   "execution_count": 56,
   "id": "9766d509",
   "metadata": {},
   "outputs": [],
   "source": [
    "Y_pred = model_rfr_E.predict(X_test)"
   ]
  },
  {
   "cell_type": "code",
   "execution_count": 57,
   "id": "7e9d3128",
   "metadata": {},
   "outputs": [],
   "source": [
    "r2_rfr_E=r2_score(Y_test, Y_pred)"
   ]
  },
  {
   "cell_type": "code",
   "execution_count": 58,
   "id": "a7f4e1cf",
   "metadata": {},
   "outputs": [
    {
     "name": "stdout",
     "output_type": "stream",
     "text": [
      "r2_rfr_E 0.70 time 0.04s\n"
     ]
    }
   ],
   "source": [
    "start_time = timeit.default_timer()\n",
    "\n",
    "Y_pred = model_rfr_E.predict(X_test)\n",
    "\n",
    "time_rfr_E = timeit.default_timer() - start_time\n",
    "r2_rfr_E = r2_score(Y_test, Y_pred)\n",
    "\n",
    "print(\"r2_rfr_E {:.2f} time {:.2f}s\".format(r2_rfr_E, time_rfr_E))"
   ]
  },
  {
   "cell_type": "code",
   "execution_count": 59,
   "id": "4bca2018",
   "metadata": {},
   "outputs": [
    {
     "data": {
      "text/plain": [
       "377066.57508182153"
      ]
     },
     "execution_count": 59,
     "metadata": {},
     "output_type": "execute_result"
    }
   ],
   "source": [
    "mean_squared_error(Y_test,Y_pred)"
   ]
  },
  {
   "cell_type": "code",
   "execution_count": 60,
   "id": "40c81471",
   "metadata": {},
   "outputs": [
    {
     "data": {
      "text/plain": [
       "{'ccp_alpha': 3.5938136638046256e-05}"
      ]
     },
     "execution_count": 60,
     "metadata": {},
     "output_type": "execute_result"
    }
   ],
   "source": [
    "clf_rfr_E.best_params_"
   ]
  },
  {
   "cell_type": "code",
   "execution_count": 61,
   "id": "1e970de3",
   "metadata": {},
   "outputs": [],
   "source": [
    "#Ajout de la variable à nos variables \n",
    "data_filter_E['energystar_score'] = energystar_score"
   ]
  },
  {
   "cell_type": "code",
   "execution_count": 62,
   "id": "f21815a0",
   "metadata": {},
   "outputs": [
    {
     "name": "stdout",
     "output_type": "stream",
     "text": [
      "Entrainement: 825 lignes,\n",
      "Test: 207 lignes.\n",
      "\n"
     ]
    }
   ],
   "source": [
    "X = data_filter_E.drop(['TotalGHGEmissions'], axis=1)\n",
    "Y = data_filter_E['TotalGHGEmissions']\n",
    "\n",
    "X_train, X_test, Y_train, Y_test = train_test_split(X, Y, test_size=0.2, random_state=42)\n",
    "\n",
    "print(\"Entrainement: {} lignes,\\nTest: {} lignes.\\n\".format(X_train.shape[0],\n",
    "                                                            X_test.shape[0]))"
   ]
  },
  {
   "cell_type": "code",
   "execution_count": 63,
   "id": "feda2847",
   "metadata": {},
   "outputs": [
    {
     "name": "stdout",
     "output_type": "stream",
     "text": [
      "Meilleur(s) hyperparamètre(s) sur le jeu d'entraînement:\n",
      "{'n_jobs': 0.0}\n",
      "Résultats de la validation croisée :\n",
      "r2 = 0.150 (+/-1.021) for {'n_jobs': array([0. , 0.1, 0.2, 0.3, 0.4, 0.5, 0.6, 0.7, 0.8, 0.9])}\n",
      "r2 = 0.150 (+/-1.021) for {'n_jobs': array([0. , 0.1, 0.2, 0.3, 0.4, 0.5, 0.6, 0.7, 0.8, 0.9])}\n",
      "r2 = 0.150 (+/-1.021) for {'n_jobs': array([0. , 0.1, 0.2, 0.3, 0.4, 0.5, 0.6, 0.7, 0.8, 0.9])}\n",
      "r2 = 0.150 (+/-1.021) for {'n_jobs': array([0. , 0.1, 0.2, 0.3, 0.4, 0.5, 0.6, 0.7, 0.8, 0.9])}\n",
      "r2 = 0.150 (+/-1.021) for {'n_jobs': array([0. , 0.1, 0.2, 0.3, 0.4, 0.5, 0.6, 0.7, 0.8, 0.9])}\n",
      "r2 = 0.150 (+/-1.021) for {'n_jobs': array([0. , 0.1, 0.2, 0.3, 0.4, 0.5, 0.6, 0.7, 0.8, 0.9])}\n",
      "r2 = 0.150 (+/-1.021) for {'n_jobs': array([0. , 0.1, 0.2, 0.3, 0.4, 0.5, 0.6, 0.7, 0.8, 0.9])}\n",
      "r2 = 0.150 (+/-1.021) for {'n_jobs': array([0. , 0.1, 0.2, 0.3, 0.4, 0.5, 0.6, 0.7, 0.8, 0.9])}\n",
      "r2 = 0.150 (+/-1.021) for {'n_jobs': array([0. , 0.1, 0.2, 0.3, 0.4, 0.5, 0.6, 0.7, 0.8, 0.9])}\n",
      "r2 = 0.150 (+/-1.021) for {'n_jobs': array([0. , 0.1, 0.2, 0.3, 0.4, 0.5, 0.6, 0.7, 0.8, 0.9])}\n"
     ]
    }
   ],
   "source": [
    "from sklearn import neighbors, metrics, model_selection\n",
    "# Fixer les valeurs des hyperparamètres à tester\n",
    "from sklearn.linear_model import LinearRegression\n",
    "from sklearn.model_selection import GridSearchCV\n",
    "\n",
    "#paramétrage du modèle\n",
    "param_mlr_ES = {'n_jobs': np.arange(0,1,0.1)}\n",
    "\n",
    "# Choisir un score à optimiser, ici l'accuracy (proportion de prédictions correctes)\n",
    "score = 'r2'\n",
    "\n",
    "# Créer un classifieur kNN avec recherche d'hyperparamètre par validation croisée\n",
    "clf_mlr_ES = model_selection.GridSearchCV(\n",
    "    LinearRegression(), # un classifieur kNN\n",
    "    param_mlr_ES,     # hyperparamètres à tester\n",
    "    cv=5,           # nombre de folds de validation croisée\n",
    "    scoring=score)   # score à optimiser\n",
    "\n",
    "\n",
    "# Optimiser ce classifieur sur le jeu d'entraînement\n",
    "clf_mlr_ES = clf_mlr_ES.fit(X_train, Y_train)\n",
    "\n",
    "# Afficher le(s) hyperparamètre(s) optimaux\n",
    "print(\"Meilleur(s) hyperparamètre(s) sur le jeu d'entraînement:\")\n",
    "print(clf_mlr_ES.best_params_)\n",
    "\n",
    "# Afficher les performances correspondantes\n",
    "print(\"Résultats de la validation croisée :\")\n",
    "for mean, std, params in zip(\n",
    "        clf_mlr_ES.cv_results_['mean_test_score'], # score moyen\n",
    "        clf_mlr_ES.cv_results_['std_test_score'],  # écart-type du score\n",
    "        clf_mlr_ES.cv_results_['params']           # valeur de l'hyperparamètre\n",
    "    ):\n",
    "\n",
    "    print(\"{} = {:.3f} (+/-{:.03f}) for {}\".format(\n",
    "        score,\n",
    "        mean,\n",
    "        std*2,\n",
    "        param_mlr_ES\n",
    "    ) )"
   ]
  },
  {
   "cell_type": "code",
   "execution_count": 64,
   "id": "be9ce897",
   "metadata": {},
   "outputs": [
    {
     "name": "stdout",
     "output_type": "stream",
     "text": [
      "0.6150746894062797\n",
      "0.7385548965674686\n"
     ]
    }
   ],
   "source": [
    "print(clf_mlr_ES.score(X_train, Y_train))\n",
    "print(clf_mlr_ES.score(X_test,Y_test))"
   ]
  },
  {
   "cell_type": "code",
   "execution_count": 65,
   "id": "5eabdd06",
   "metadata": {},
   "outputs": [],
   "source": [
    "model_mlr_ES= clf_mlr_ES.best_estimator_"
   ]
  },
  {
   "cell_type": "code",
   "execution_count": 66,
   "id": "f52a23aa",
   "metadata": {},
   "outputs": [
    {
     "data": {
      "text/plain": [
       "0.7385548965674686"
      ]
     },
     "execution_count": 66,
     "metadata": {},
     "output_type": "execute_result"
    }
   ],
   "source": [
    "model_mlr_ES.score(X_test, Y_test)"
   ]
  },
  {
   "cell_type": "code",
   "execution_count": 67,
   "id": "4f3c8e65",
   "metadata": {},
   "outputs": [
    {
     "name": "stdout",
     "output_type": "stream",
     "text": [
      "r2_mlr_E 0.74 time 0.01s\n"
     ]
    }
   ],
   "source": [
    "import timeit\n",
    "\n",
    "start_time = timeit.default_timer()\n",
    "\n",
    "Y_pred = model_mlr_ES.predict(X_test)\n",
    "\n",
    "time_mlr_ES = timeit.default_timer() - start_time\n",
    "r2_mlr_ES = r2_score(Y_test, Y_pred)\n",
    "\n",
    "print(\"r2_mlr_E {:.2f} time {:.2f}s\".format(r2_mlr_ES, time_mlr_ES))"
   ]
  },
  {
   "cell_type": "code",
   "execution_count": 68,
   "id": "2120708c",
   "metadata": {},
   "outputs": [],
   "source": [
    "results_S.loc['LinearRegression for TotalGHGEmissions with EnergyStarScore', 'r2'] = r2_mlr_ES\n",
    "results_S.loc['LinearRegression for TotalGHGEmissions with EnergyStarScore', 'time'] = time_mlr_ES"
   ]
  },
  {
   "cell_type": "code",
   "execution_count": null,
   "id": "d6206798",
   "metadata": {},
   "outputs": [],
   "source": []
  },
  {
   "cell_type": "code",
   "execution_count": null,
   "id": "8866634e",
   "metadata": {},
   "outputs": [],
   "source": []
  },
  {
   "cell_type": "code",
   "execution_count": null,
   "id": "c8cd66a3",
   "metadata": {},
   "outputs": [],
   "source": []
  },
  {
   "cell_type": "code",
   "execution_count": null,
   "id": "87a4b781",
   "metadata": {},
   "outputs": [],
   "source": []
  },
  {
   "cell_type": "code",
   "execution_count": 69,
   "id": "719b876f",
   "metadata": {},
   "outputs": [
    {
     "name": "stdout",
     "output_type": "stream",
     "text": [
      "Entrainement: 825 lignes,\n",
      "Test: 207 lignes.\n",
      "\n"
     ]
    }
   ],
   "source": [
    "from sklearn.model_selection import train_test_split\n",
    "\n",
    "X = data_filter_C.drop(['SiteEnergyUse'], axis=1)\n",
    "Y = data_filter_C['SiteEnergyUse']\n",
    "\n",
    "X_train, X_test, Y_train, Y_test = train_test_split(X, Y, test_size=0.2, random_state=42)\n",
    "\n",
    "print(\"Entrainement: {} lignes,\\nTest: {} lignes.\\n\".format(X_train.shape[0],\n",
    "                                                            X_test.shape[0]))"
   ]
  },
  {
   "cell_type": "code",
   "execution_count": 70,
   "id": "b7cc16aa",
   "metadata": {},
   "outputs": [],
   "source": [
    "#Histogramme de la distribution des emissions de CO2 avec changement d'échelle logarithmique\n",
    "from sklearn.preprocessing import FunctionTransformer\n",
    "\n",
    "logtransformer = FunctionTransformer(np.log, inverse_func = np.exp, check_inverse = True)\n",
    "Y_log = logtransformer.transform(Y)\n"
   ]
  },
  {
   "cell_type": "code",
   "execution_count": 71,
   "id": "8cfa72ee",
   "metadata": {},
   "outputs": [
    {
     "name": "stdout",
     "output_type": "stream",
     "text": [
      "Meilleur(s) hyperparamètre(s) sur le jeu d'entraînement:\n",
      "{}\n",
      "Résultats de la validation croisée :\n",
      "r2 = 0.505 (+/-0.438) for {}\n"
     ]
    }
   ],
   "source": [
    "from sklearn import neighbors, metrics, model_selection\n",
    "# Fixer les valeurs des hyperparamètres à tester\n",
    "from sklearn.linear_model import LinearRegression\n",
    "from sklearn.model_selection import GridSearchCV\n",
    "\n",
    "#paramétrage du modèle\n",
    "param_mlr_C = {}\n",
    "\"\"\"'l1_ratio': np.arange(0.0, 1.1, 0.1)\"\"\"\n",
    "# Choisir un score à optimiser, ici l'accuracy (proportion de prédictions correctes)\n",
    "score = 'r2'\n",
    "\n",
    "# Créer un classifieur kNN avec recherche d'hyperparamètre par validation croisée\n",
    "clf_mlr_C = model_selection.GridSearchCV(\n",
    "    LinearRegression(), # un classifieur kNN\n",
    "    param_mlr_C,     # hyperparamètres à tester\n",
    "    cv=5,           # nombre de folds de validation croisée\n",
    "    scoring=score   # score à optimiser\n",
    ")\n",
    "\n",
    "# Optimiser ce classifieur sur le jeu d'entraînement\n",
    "clf_mlr_C = clf_mlr_C.fit(X_train, Y_train)\n",
    "\n",
    "# Afficher le(s) hyperparamètre(s) optimaux\n",
    "print(\"Meilleur(s) hyperparamètre(s) sur le jeu d'entraînement:\")\n",
    "print(clf_mlr_C.best_params_)\n",
    "\n",
    "# Afficher les performances correspondantes\n",
    "print(\"Résultats de la validation croisée :\")\n",
    "for mean, std, params in zip(\n",
    "        clf_mlr_C.cv_results_['mean_test_score'], # score moyen\n",
    "        clf_mlr_C.cv_results_['std_test_score'],  # écart-type du score\n",
    "        clf_mlr_C.cv_results_['params']           # valeur de l'hyperparamètre\n",
    "    ):\n",
    "\n",
    "    print(\"{} = {:.3f} (+/-{:.03f}) for {}\".format(\n",
    "        score,\n",
    "        mean,\n",
    "        std*2,\n",
    "        params\n",
    "    ) )\n"
   ]
  },
  {
   "cell_type": "code",
   "execution_count": 72,
   "id": "f088004c",
   "metadata": {},
   "outputs": [
    {
     "name": "stdout",
     "output_type": "stream",
     "text": [
      "0.5572848971980973\n",
      "0.8270169773362708\n"
     ]
    }
   ],
   "source": [
    "print(clf_mlr_C.score(X_train, Y_train))\n",
    "print(clf_mlr_C.score(X_test,Y_test))"
   ]
  },
  {
   "cell_type": "code",
   "execution_count": 73,
   "id": "0bcbd94e",
   "metadata": {},
   "outputs": [],
   "source": [
    "model_mlr_C= clf_mlr_C.best_estimator_"
   ]
  },
  {
   "cell_type": "code",
   "execution_count": 74,
   "id": "f362b28f",
   "metadata": {},
   "outputs": [
    {
     "data": {
      "text/plain": [
       "0.8270169773362708"
      ]
     },
     "execution_count": 74,
     "metadata": {},
     "output_type": "execute_result"
    }
   ],
   "source": [
    "model_mlr_C.score(X_test, Y_test)"
   ]
  },
  {
   "cell_type": "code",
   "execution_count": 75,
   "id": "99703af1",
   "metadata": {},
   "outputs": [],
   "source": [
    "Y_pred = model_mlr_C.predict(X_test)"
   ]
  },
  {
   "cell_type": "code",
   "execution_count": 76,
   "id": "4b0bc3e9",
   "metadata": {},
   "outputs": [],
   "source": [
    "r2_mlr_C=r2_score(Y_test, Y_pred)"
   ]
  },
  {
   "cell_type": "code",
   "execution_count": 77,
   "id": "5d37c2f8",
   "metadata": {},
   "outputs": [
    {
     "name": "stdout",
     "output_type": "stream",
     "text": [
      "r2_mlr_C 0.83 time 0.00s\n"
     ]
    }
   ],
   "source": [
    "start_time = timeit.default_timer()\n",
    "\n",
    "Y_pred = model_mlr_C.predict(X_test)\n",
    "\n",
    "time_mlr_C = timeit.default_timer() - start_time\n",
    "r2_mlr_C = r2_score(Y_test, Y_pred)\n",
    "\n",
    "print(\"r2_mlr_C {:.2f} time {:.2f}s\".format(r2_mlr_C, time_mlr_C))"
   ]
  },
  {
   "cell_type": "code",
   "execution_count": 78,
   "id": "9c2f02c1",
   "metadata": {},
   "outputs": [
    {
     "data": {
      "text/plain": [
       "151063758752037.22"
      ]
     },
     "execution_count": 78,
     "metadata": {},
     "output_type": "execute_result"
    }
   ],
   "source": [
    "mean_squared_error(Y_test,Y_pred)"
   ]
  },
  {
   "cell_type": "code",
   "execution_count": 79,
   "id": "6f1b1790",
   "metadata": {
    "scrolled": false
   },
   "outputs": [
    {
     "name": "stderr",
     "output_type": "stream",
     "text": [
      "C:\\Users\\sesa638933\\Anaconda3\\conda\\lib\\site-packages\\sklearn\\linear_model\\_coordinate_descent.py:530: ConvergenceWarning: Objective did not converge. You might want to increase the number of iterations. Duality gap: 6.207390537135112e+16, tolerance: 2.4220877765347024e+16\n",
      "  model = cd_fast.enet_coordinate_descent(\n",
      "C:\\Users\\sesa638933\\Anaconda3\\conda\\lib\\site-packages\\sklearn\\linear_model\\_coordinate_descent.py:530: ConvergenceWarning: Objective did not converge. You might want to increase the number of iterations. Duality gap: 6.255338970210735e+16, tolerance: 2.553922738872223e+16\n",
      "  model = cd_fast.enet_coordinate_descent(\n",
      "C:\\Users\\sesa638933\\Anaconda3\\conda\\lib\\site-packages\\sklearn\\linear_model\\_coordinate_descent.py:530: ConvergenceWarning: Objective did not converge. You might want to increase the number of iterations. Duality gap: 6.389666455250681e+16, tolerance: 2.5112379395030396e+16\n",
      "  model = cd_fast.enet_coordinate_descent(\n",
      "C:\\Users\\sesa638933\\Anaconda3\\conda\\lib\\site-packages\\sklearn\\linear_model\\_coordinate_descent.py:530: ConvergenceWarning: Objective did not converge. You might want to increase the number of iterations. Duality gap: 2.9368513813836956e+16, tolerance: 1.8985348150234452e+16\n",
      "  model = cd_fast.enet_coordinate_descent(\n",
      "C:\\Users\\sesa638933\\Anaconda3\\conda\\lib\\site-packages\\sklearn\\linear_model\\_coordinate_descent.py:530: ConvergenceWarning: Objective did not converge. You might want to increase the number of iterations. Duality gap: 5.076240440578859e+16, tolerance: 1.9249509498538636e+16\n",
      "  model = cd_fast.enet_coordinate_descent(\n",
      "C:\\Users\\sesa638933\\Anaconda3\\conda\\lib\\site-packages\\sklearn\\linear_model\\_coordinate_descent.py:530: ConvergenceWarning: Objective did not converge. You might want to increase the number of iterations. Duality gap: 6.207390537135112e+16, tolerance: 2422087776534702.0\n",
      "  model = cd_fast.enet_coordinate_descent(\n",
      "C:\\Users\\sesa638933\\Anaconda3\\conda\\lib\\site-packages\\sklearn\\linear_model\\_coordinate_descent.py:530: ConvergenceWarning: Objective did not converge. You might want to increase the number of iterations. Duality gap: 6.255338970210735e+16, tolerance: 2553922738872223.0\n",
      "  model = cd_fast.enet_coordinate_descent(\n",
      "C:\\Users\\sesa638933\\Anaconda3\\conda\\lib\\site-packages\\sklearn\\linear_model\\_coordinate_descent.py:530: ConvergenceWarning: Objective did not converge. You might want to increase the number of iterations. Duality gap: 6.389666455250681e+16, tolerance: 2511237939503039.5\n",
      "  model = cd_fast.enet_coordinate_descent(\n",
      "C:\\Users\\sesa638933\\Anaconda3\\conda\\lib\\site-packages\\sklearn\\linear_model\\_coordinate_descent.py:530: ConvergenceWarning: Objective did not converge. You might want to increase the number of iterations. Duality gap: 2.9368513813836956e+16, tolerance: 1898534815023445.2\n",
      "  model = cd_fast.enet_coordinate_descent(\n",
      "C:\\Users\\sesa638933\\Anaconda3\\conda\\lib\\site-packages\\sklearn\\linear_model\\_coordinate_descent.py:530: ConvergenceWarning: Objective did not converge. You might want to increase the number of iterations. Duality gap: 5.076240440578859e+16, tolerance: 1924950949853863.8\n",
      "  model = cd_fast.enet_coordinate_descent(\n",
      "C:\\Users\\sesa638933\\Anaconda3\\conda\\lib\\site-packages\\sklearn\\linear_model\\_coordinate_descent.py:530: ConvergenceWarning: Objective did not converge. You might want to increase the number of iterations. Duality gap: 6.207390537135112e+16, tolerance: 242208777653470.22\n",
      "  model = cd_fast.enet_coordinate_descent(\n",
      "C:\\Users\\sesa638933\\Anaconda3\\conda\\lib\\site-packages\\sklearn\\linear_model\\_coordinate_descent.py:530: ConvergenceWarning: Objective did not converge. You might want to increase the number of iterations. Duality gap: 6.255338970210735e+16, tolerance: 255392273887222.3\n",
      "  model = cd_fast.enet_coordinate_descent(\n",
      "C:\\Users\\sesa638933\\Anaconda3\\conda\\lib\\site-packages\\sklearn\\linear_model\\_coordinate_descent.py:530: ConvergenceWarning: Objective did not converge. You might want to increase the number of iterations. Duality gap: 6.389666455250681e+16, tolerance: 251123793950303.94\n",
      "  model = cd_fast.enet_coordinate_descent(\n",
      "C:\\Users\\sesa638933\\Anaconda3\\conda\\lib\\site-packages\\sklearn\\linear_model\\_coordinate_descent.py:530: ConvergenceWarning: Objective did not converge. You might want to increase the number of iterations. Duality gap: 2.9368513813836956e+16, tolerance: 189853481502344.53\n",
      "  model = cd_fast.enet_coordinate_descent(\n",
      "C:\\Users\\sesa638933\\Anaconda3\\conda\\lib\\site-packages\\sklearn\\linear_model\\_coordinate_descent.py:530: ConvergenceWarning: Objective did not converge. You might want to increase the number of iterations. Duality gap: 5.076240440578859e+16, tolerance: 192495094985386.38\n",
      "  model = cd_fast.enet_coordinate_descent(\n",
      "C:\\Users\\sesa638933\\Anaconda3\\conda\\lib\\site-packages\\sklearn\\linear_model\\_coordinate_descent.py:530: ConvergenceWarning: Objective did not converge. You might want to increase the number of iterations. Duality gap: 1291112063454016.0, tolerance: 242208777653470.22\n",
      "  model = cd_fast.enet_coordinate_descent(\n",
      "C:\\Users\\sesa638933\\Anaconda3\\conda\\lib\\site-packages\\sklearn\\linear_model\\_coordinate_descent.py:530: ConvergenceWarning: Objective did not converge. You might want to increase the number of iterations. Duality gap: 6.662717791013642e+16, tolerance: 2.4220877765347024e+16\n",
      "  model = cd_fast.enet_coordinate_descent(\n",
      "C:\\Users\\sesa638933\\Anaconda3\\conda\\lib\\site-packages\\sklearn\\linear_model\\_coordinate_descent.py:530: ConvergenceWarning: Objective did not converge. You might want to increase the number of iterations. Duality gap: 6.933086170712629e+16, tolerance: 2.553922738872223e+16\n",
      "  model = cd_fast.enet_coordinate_descent(\n",
      "C:\\Users\\sesa638933\\Anaconda3\\conda\\lib\\site-packages\\sklearn\\linear_model\\_coordinate_descent.py:530: ConvergenceWarning: Objective did not converge. You might want to increase the number of iterations. Duality gap: 6.904086534450297e+16, tolerance: 2.5112379395030396e+16\n",
      "  model = cd_fast.enet_coordinate_descent(\n",
      "C:\\Users\\sesa638933\\Anaconda3\\conda\\lib\\site-packages\\sklearn\\linear_model\\_coordinate_descent.py:530: ConvergenceWarning: Objective did not converge. You might want to increase the number of iterations. Duality gap: 3.4528859455595936e+16, tolerance: 1.8985348150234452e+16\n",
      "  model = cd_fast.enet_coordinate_descent(\n",
      "C:\\Users\\sesa638933\\Anaconda3\\conda\\lib\\site-packages\\sklearn\\linear_model\\_coordinate_descent.py:530: ConvergenceWarning: Objective did not converge. You might want to increase the number of iterations. Duality gap: 5.3299581444289416e+16, tolerance: 1.9249509498538636e+16\n",
      "  model = cd_fast.enet_coordinate_descent(\n",
      "C:\\Users\\sesa638933\\Anaconda3\\conda\\lib\\site-packages\\sklearn\\linear_model\\_coordinate_descent.py:530: ConvergenceWarning: Objective did not converge. You might want to increase the number of iterations. Duality gap: 6.662717791013642e+16, tolerance: 2422087776534702.0\n",
      "  model = cd_fast.enet_coordinate_descent(\n",
      "C:\\Users\\sesa638933\\Anaconda3\\conda\\lib\\site-packages\\sklearn\\linear_model\\_coordinate_descent.py:530: ConvergenceWarning: Objective did not converge. You might want to increase the number of iterations. Duality gap: 6.933086170712629e+16, tolerance: 2553922738872223.0\n",
      "  model = cd_fast.enet_coordinate_descent(\n",
      "C:\\Users\\sesa638933\\Anaconda3\\conda\\lib\\site-packages\\sklearn\\linear_model\\_coordinate_descent.py:530: ConvergenceWarning: Objective did not converge. You might want to increase the number of iterations. Duality gap: 6.904086534450297e+16, tolerance: 2511237939503039.5\n",
      "  model = cd_fast.enet_coordinate_descent(\n",
      "C:\\Users\\sesa638933\\Anaconda3\\conda\\lib\\site-packages\\sklearn\\linear_model\\_coordinate_descent.py:530: ConvergenceWarning: Objective did not converge. You might want to increase the number of iterations. Duality gap: 3.4528859455595936e+16, tolerance: 1898534815023445.2\n",
      "  model = cd_fast.enet_coordinate_descent(\n",
      "C:\\Users\\sesa638933\\Anaconda3\\conda\\lib\\site-packages\\sklearn\\linear_model\\_coordinate_descent.py:530: ConvergenceWarning: Objective did not converge. You might want to increase the number of iterations. Duality gap: 5.3299581444289416e+16, tolerance: 1924950949853863.8\n",
      "  model = cd_fast.enet_coordinate_descent(\n",
      "C:\\Users\\sesa638933\\Anaconda3\\conda\\lib\\site-packages\\sklearn\\linear_model\\_coordinate_descent.py:530: ConvergenceWarning: Objective did not converge. You might want to increase the number of iterations. Duality gap: 6.662717791013642e+16, tolerance: 242208777653470.22\n",
      "  model = cd_fast.enet_coordinate_descent(\n",
      "C:\\Users\\sesa638933\\Anaconda3\\conda\\lib\\site-packages\\sklearn\\linear_model\\_coordinate_descent.py:530: ConvergenceWarning: Objective did not converge. You might want to increase the number of iterations. Duality gap: 6.933086170712629e+16, tolerance: 255392273887222.3\n",
      "  model = cd_fast.enet_coordinate_descent(\n",
      "C:\\Users\\sesa638933\\Anaconda3\\conda\\lib\\site-packages\\sklearn\\linear_model\\_coordinate_descent.py:530: ConvergenceWarning: Objective did not converge. You might want to increase the number of iterations. Duality gap: 6.904086534450297e+16, tolerance: 251123793950303.94\n",
      "  model = cd_fast.enet_coordinate_descent(\n",
      "C:\\Users\\sesa638933\\Anaconda3\\conda\\lib\\site-packages\\sklearn\\linear_model\\_coordinate_descent.py:530: ConvergenceWarning: Objective did not converge. You might want to increase the number of iterations. Duality gap: 3.4528859455595936e+16, tolerance: 189853481502344.53\n",
      "  model = cd_fast.enet_coordinate_descent(\n",
      "C:\\Users\\sesa638933\\Anaconda3\\conda\\lib\\site-packages\\sklearn\\linear_model\\_coordinate_descent.py:530: ConvergenceWarning: Objective did not converge. You might want to increase the number of iterations. Duality gap: 5.3299581444289416e+16, tolerance: 192495094985386.38\n",
      "  model = cd_fast.enet_coordinate_descent(\n"
     ]
    },
    {
     "name": "stderr",
     "output_type": "stream",
     "text": [
      "C:\\Users\\sesa638933\\Anaconda3\\conda\\lib\\site-packages\\sklearn\\linear_model\\_coordinate_descent.py:530: ConvergenceWarning: Objective did not converge. You might want to increase the number of iterations. Duality gap: 6.831336351379508e+16, tolerance: 2.4220877765347024e+16\n",
      "  model = cd_fast.enet_coordinate_descent(\n",
      "C:\\Users\\sesa638933\\Anaconda3\\conda\\lib\\site-packages\\sklearn\\linear_model\\_coordinate_descent.py:530: ConvergenceWarning: Objective did not converge. You might want to increase the number of iterations. Duality gap: 7.139889990338943e+16, tolerance: 2.553922738872223e+16\n",
      "  model = cd_fast.enet_coordinate_descent(\n",
      "C:\\Users\\sesa638933\\Anaconda3\\conda\\lib\\site-packages\\sklearn\\linear_model\\_coordinate_descent.py:530: ConvergenceWarning: Objective did not converge. You might want to increase the number of iterations. Duality gap: 7.1149591046912664e+16, tolerance: 2.5112379395030396e+16\n",
      "  model = cd_fast.enet_coordinate_descent(\n",
      "C:\\Users\\sesa638933\\Anaconda3\\conda\\lib\\site-packages\\sklearn\\linear_model\\_coordinate_descent.py:530: ConvergenceWarning: Objective did not converge. You might want to increase the number of iterations. Duality gap: 3.666044500409303e+16, tolerance: 1.8985348150234452e+16\n",
      "  model = cd_fast.enet_coordinate_descent(\n",
      "C:\\Users\\sesa638933\\Anaconda3\\conda\\lib\\site-packages\\sklearn\\linear_model\\_coordinate_descent.py:530: ConvergenceWarning: Objective did not converge. You might want to increase the number of iterations. Duality gap: 5.4301963848300936e+16, tolerance: 1.9249509498538636e+16\n",
      "  model = cd_fast.enet_coordinate_descent(\n",
      "C:\\Users\\sesa638933\\Anaconda3\\conda\\lib\\site-packages\\sklearn\\linear_model\\_coordinate_descent.py:530: ConvergenceWarning: Objective did not converge. You might want to increase the number of iterations. Duality gap: 6.831336351379508e+16, tolerance: 2422087776534702.0\n",
      "  model = cd_fast.enet_coordinate_descent(\n",
      "C:\\Users\\sesa638933\\Anaconda3\\conda\\lib\\site-packages\\sklearn\\linear_model\\_coordinate_descent.py:530: ConvergenceWarning: Objective did not converge. You might want to increase the number of iterations. Duality gap: 7.139889990338943e+16, tolerance: 2553922738872223.0\n",
      "  model = cd_fast.enet_coordinate_descent(\n",
      "C:\\Users\\sesa638933\\Anaconda3\\conda\\lib\\site-packages\\sklearn\\linear_model\\_coordinate_descent.py:530: ConvergenceWarning: Objective did not converge. You might want to increase the number of iterations. Duality gap: 7.1149591046912664e+16, tolerance: 2511237939503039.5\n",
      "  model = cd_fast.enet_coordinate_descent(\n",
      "C:\\Users\\sesa638933\\Anaconda3\\conda\\lib\\site-packages\\sklearn\\linear_model\\_coordinate_descent.py:530: ConvergenceWarning: Objective did not converge. You might want to increase the number of iterations. Duality gap: 3.666044500409303e+16, tolerance: 1898534815023445.2\n",
      "  model = cd_fast.enet_coordinate_descent(\n",
      "C:\\Users\\sesa638933\\Anaconda3\\conda\\lib\\site-packages\\sklearn\\linear_model\\_coordinate_descent.py:530: ConvergenceWarning: Objective did not converge. You might want to increase the number of iterations. Duality gap: 5.4301963848300936e+16, tolerance: 1924950949853863.8\n",
      "  model = cd_fast.enet_coordinate_descent(\n",
      "C:\\Users\\sesa638933\\Anaconda3\\conda\\lib\\site-packages\\sklearn\\linear_model\\_coordinate_descent.py:530: ConvergenceWarning: Objective did not converge. You might want to increase the number of iterations. Duality gap: 6.831336351379508e+16, tolerance: 242208777653470.22\n",
      "  model = cd_fast.enet_coordinate_descent(\n",
      "C:\\Users\\sesa638933\\Anaconda3\\conda\\lib\\site-packages\\sklearn\\linear_model\\_coordinate_descent.py:530: ConvergenceWarning: Objective did not converge. You might want to increase the number of iterations. Duality gap: 7.139889990338943e+16, tolerance: 255392273887222.3\n",
      "  model = cd_fast.enet_coordinate_descent(\n",
      "C:\\Users\\sesa638933\\Anaconda3\\conda\\lib\\site-packages\\sklearn\\linear_model\\_coordinate_descent.py:530: ConvergenceWarning: Objective did not converge. You might want to increase the number of iterations. Duality gap: 7.1149591046912664e+16, tolerance: 251123793950303.94\n",
      "  model = cd_fast.enet_coordinate_descent(\n",
      "C:\\Users\\sesa638933\\Anaconda3\\conda\\lib\\site-packages\\sklearn\\linear_model\\_coordinate_descent.py:530: ConvergenceWarning: Objective did not converge. You might want to increase the number of iterations. Duality gap: 3.666044500409303e+16, tolerance: 189853481502344.53\n",
      "  model = cd_fast.enet_coordinate_descent(\n",
      "C:\\Users\\sesa638933\\Anaconda3\\conda\\lib\\site-packages\\sklearn\\linear_model\\_coordinate_descent.py:530: ConvergenceWarning: Objective did not converge. You might want to increase the number of iterations. Duality gap: 5.4301963848300936e+16, tolerance: 192495094985386.38\n",
      "  model = cd_fast.enet_coordinate_descent(\n"
     ]
    },
    {
     "name": "stdout",
     "output_type": "stream",
     "text": [
      "Meilleur(s) hyperparamètre(s) sur le jeu d'entraînement:\n",
      "{'alpha': 0.01, 'l1_ratio': 0.8, 'tol': 0.1}\n",
      "Résultats de la validation croisée :\n",
      "neg_mean_squared_error = -178039911990356.438 (+/-316095521888879.062) for {'alpha': 0.01, 'l1_ratio': 0.0, 'tol': 0.1}\n",
      "neg_mean_squared_error = -178039911990356.438 (+/-316095521888879.062) for {'alpha': 0.01, 'l1_ratio': 0.0, 'tol': 0.01}\n",
      "neg_mean_squared_error = -178039911990356.438 (+/-316095521888879.062) for {'alpha': 0.01, 'l1_ratio': 0.0, 'tol': 0.001}\n",
      "neg_mean_squared_error = -177876079681215.188 (+/-315372520261974.125) for {'alpha': 0.01, 'l1_ratio': 0.1, 'tol': 0.1}\n",
      "neg_mean_squared_error = -177876079681215.375 (+/-315372520261974.250) for {'alpha': 0.01, 'l1_ratio': 0.1, 'tol': 0.01}\n",
      "neg_mean_squared_error = -177876079681215.375 (+/-315372520261974.250) for {'alpha': 0.01, 'l1_ratio': 0.1, 'tol': 0.001}\n",
      "neg_mean_squared_error = -177722321738677.188 (+/-314595380707876.125) for {'alpha': 0.01, 'l1_ratio': 0.2, 'tol': 0.1}\n",
      "neg_mean_squared_error = -177722321738677.562 (+/-314595380707876.812) for {'alpha': 0.01, 'l1_ratio': 0.2, 'tol': 0.01}\n",
      "neg_mean_squared_error = -177722321738677.562 (+/-314595380707876.750) for {'alpha': 0.01, 'l1_ratio': 0.2, 'tol': 0.001}\n",
      "neg_mean_squared_error = -177576881469401.562 (+/-313764162371518.812) for {'alpha': 0.01, 'l1_ratio': 0.30000000000000004, 'tol': 0.1}\n",
      "neg_mean_squared_error = -177576881469402.094 (+/-313764162371519.750) for {'alpha': 0.01, 'l1_ratio': 0.30000000000000004, 'tol': 0.01}\n",
      "neg_mean_squared_error = -177576881469402.188 (+/-313764162371519.875) for {'alpha': 0.01, 'l1_ratio': 0.30000000000000004, 'tol': 0.001}\n",
      "neg_mean_squared_error = -177435513388072.000 (+/-312881674887948.500) for {'alpha': 0.01, 'l1_ratio': 0.4, 'tol': 0.1}\n",
      "neg_mean_squared_error = -177435513388072.750 (+/-312881674887949.750) for {'alpha': 0.01, 'l1_ratio': 0.4, 'tol': 0.01}\n",
      "neg_mean_squared_error = -177435513388072.906 (+/-312881674887949.938) for {'alpha': 0.01, 'l1_ratio': 0.4, 'tol': 0.001}\n",
      "neg_mean_squared_error = -177289988781878.938 (+/-311954689678213.688) for {'alpha': 0.01, 'l1_ratio': 0.5, 'tol': 0.1}\n",
      "neg_mean_squared_error = -177289988781879.938 (+/-311954689678215.062) for {'alpha': 0.01, 'l1_ratio': 0.5, 'tol': 0.01}\n",
      "neg_mean_squared_error = -177289988781879.938 (+/-311954689678215.125) for {'alpha': 0.01, 'l1_ratio': 0.5, 'tol': 0.001}\n",
      "neg_mean_squared_error = -177126558917255.188 (+/-310994014008633.688) for {'alpha': 0.01, 'l1_ratio': 0.6000000000000001, 'tol': 0.1}\n",
      "neg_mean_squared_error = -177126558917256.312 (+/-310994014008635.938) for {'alpha': 0.01, 'l1_ratio': 0.6000000000000001, 'tol': 0.01}\n",
      "neg_mean_squared_error = -177126558917256.344 (+/-310994014008635.938) for {'alpha': 0.01, 'l1_ratio': 0.6000000000000001, 'tol': 0.001}\n",
      "neg_mean_squared_error = -176928078058051.844 (+/-310006176909852.188) for {'alpha': 0.01, 'l1_ratio': 0.7000000000000001, 'tol': 0.1}\n",
      "neg_mean_squared_error = -176928078058053.875 (+/-310006176909854.000) for {'alpha': 0.01, 'l1_ratio': 0.7000000000000001, 'tol': 0.01}\n",
      "neg_mean_squared_error = -176928078058053.969 (+/-310006176909854.125) for {'alpha': 0.01, 'l1_ratio': 0.7000000000000001, 'tol': 0.001}\n",
      "neg_mean_squared_error = -176704467792514.344 (+/-308934044855741.188) for {'alpha': 0.01, 'l1_ratio': 0.8, 'tol': 0.1}\n",
      "neg_mean_squared_error = -176704467792516.719 (+/-308934044855743.750) for {'alpha': 0.01, 'l1_ratio': 0.8, 'tol': 0.01}\n",
      "neg_mean_squared_error = -176704467792516.938 (+/-308934044855743.750) for {'alpha': 0.01, 'l1_ratio': 0.8, 'tol': 0.001}\n",
      "neg_mean_squared_error = -176749386867540.531 (+/-307216342506460.562) for {'alpha': 0.01, 'l1_ratio': 0.9, 'tol': 0.1}\n",
      "neg_mean_squared_error = -176749386867541.750 (+/-307216342506463.500) for {'alpha': 0.01, 'l1_ratio': 0.9, 'tol': 0.01}\n",
      "neg_mean_squared_error = -176749386867541.750 (+/-307216342506463.438) for {'alpha': 0.01, 'l1_ratio': 0.9, 'tol': 0.001}\n",
      "neg_mean_squared_error = -191283163456738.812 (+/-326142541271718.375) for {'alpha': 0.1, 'l1_ratio': 0.0, 'tol': 0.1}\n",
      "neg_mean_squared_error = -191283163456738.812 (+/-326142541271718.375) for {'alpha': 0.1, 'l1_ratio': 0.0, 'tol': 0.01}\n",
      "neg_mean_squared_error = -191283163456738.812 (+/-326142541271718.375) for {'alpha': 0.1, 'l1_ratio': 0.0, 'tol': 0.001}\n",
      "neg_mean_squared_error = -190515234731898.906 (+/-326054014992002.000) for {'alpha': 0.1, 'l1_ratio': 0.1, 'tol': 0.1}\n",
      "neg_mean_squared_error = -190515234731899.562 (+/-326054014992002.000) for {'alpha': 0.1, 'l1_ratio': 0.1, 'tol': 0.01}\n",
      "neg_mean_squared_error = -190515234731899.656 (+/-326054014992001.938) for {'alpha': 0.1, 'l1_ratio': 0.1, 'tol': 0.001}\n",
      "neg_mean_squared_error = -189629610900301.406 (+/-325932252874610.250) for {'alpha': 0.1, 'l1_ratio': 0.2, 'tol': 0.1}\n",
      "neg_mean_squared_error = -189629610900303.062 (+/-325932252874610.938) for {'alpha': 0.1, 'l1_ratio': 0.2, 'tol': 0.01}\n",
      "neg_mean_squared_error = -189629610900303.250 (+/-325932252874610.750) for {'alpha': 0.1, 'l1_ratio': 0.2, 'tol': 0.001}\n",
      "neg_mean_squared_error = -188599905966053.969 (+/-325758008497128.625) for {'alpha': 0.1, 'l1_ratio': 0.30000000000000004, 'tol': 0.1}\n",
      "neg_mean_squared_error = -188599905966056.281 (+/-325758008497129.625) for {'alpha': 0.1, 'l1_ratio': 0.30000000000000004, 'tol': 0.01}\n",
      "neg_mean_squared_error = -188599905966056.594 (+/-325758008497129.375) for {'alpha': 0.1, 'l1_ratio': 0.30000000000000004, 'tol': 0.001}\n",
      "neg_mean_squared_error = -187392947384193.375 (+/-325497861404517.562) for {'alpha': 0.1, 'l1_ratio': 0.4, 'tol': 0.1}\n",
      "neg_mean_squared_error = -187392947384196.438 (+/-325497861404518.500) for {'alpha': 0.1, 'l1_ratio': 0.4, 'tol': 0.01}\n",
      "neg_mean_squared_error = -187392947384196.750 (+/-325497861404518.062) for {'alpha': 0.1, 'l1_ratio': 0.4, 'tol': 0.001}\n",
      "neg_mean_squared_error = -185968408244307.312 (+/-325090691336798.125) for {'alpha': 0.1, 'l1_ratio': 0.5, 'tol': 0.1}\n",
      "neg_mean_squared_error = -185968408244311.219 (+/-325090691336800.875) for {'alpha': 0.1, 'l1_ratio': 0.5, 'tol': 0.01}\n",
      "neg_mean_squared_error = -185968408244311.750 (+/-325090691336800.625) for {'alpha': 0.1, 'l1_ratio': 0.5, 'tol': 0.001}\n",
      "neg_mean_squared_error = -184282356391615.031 (+/-324417320828141.375) for {'alpha': 0.1, 'l1_ratio': 0.6000000000000001, 'tol': 0.1}\n",
      "neg_mean_squared_error = -184282356391619.812 (+/-324417320828143.812) for {'alpha': 0.1, 'l1_ratio': 0.6000000000000001, 'tol': 0.01}\n",
      "neg_mean_squared_error = -184282356391620.250 (+/-324417320828143.375) for {'alpha': 0.1, 'l1_ratio': 0.6000000000000001, 'tol': 0.001}\n",
      "neg_mean_squared_error = -182305540072552.562 (+/-323226171201564.312) for {'alpha': 0.1, 'l1_ratio': 0.7000000000000001, 'tol': 0.1}\n",
      "neg_mean_squared_error = -182305540072568.594 (+/-323226171201575.125) for {'alpha': 0.1, 'l1_ratio': 0.7000000000000001, 'tol': 0.01}\n",
      "neg_mean_squared_error = -182305540072569.781 (+/-323226171201575.500) for {'alpha': 0.1, 'l1_ratio': 0.7000000000000001, 'tol': 0.001}\n",
      "neg_mean_squared_error = -180095443740949.531 (+/-320933911893314.000) for {'alpha': 0.1, 'l1_ratio': 0.8, 'tol': 0.1}\n",
      "neg_mean_squared_error = -180095443740965.344 (+/-320933911893329.562) for {'alpha': 0.1, 'l1_ratio': 0.8, 'tol': 0.01}\n",
      "neg_mean_squared_error = -180095443740967.938 (+/-320933911893331.375) for {'alpha': 0.1, 'l1_ratio': 0.8, 'tol': 0.001}\n",
      "neg_mean_squared_error = -178039913610451.688 (+/-316095527321299.750) for {'alpha': 0.1, 'l1_ratio': 0.9, 'tol': 0.1}\n",
      "neg_mean_squared_error = -178039913610471.438 (+/-316095527321324.688) for {'alpha': 0.1, 'l1_ratio': 0.9, 'tol': 0.01}\n",
      "neg_mean_squared_error = -178039913610472.531 (+/-316095527321325.188) for {'alpha': 0.1, 'l1_ratio': 0.9, 'tol': 0.001}\n",
      "neg_mean_squared_error = -199856446960323.250 (+/-327516506056982.625) for {'alpha': 1, 'l1_ratio': 0.0, 'tol': 0.1}\n",
      "neg_mean_squared_error = -199856446960323.250 (+/-327516506056982.625) for {'alpha': 1, 'l1_ratio': 0.0, 'tol': 0.01}\n",
      "neg_mean_squared_error = -199856446960323.250 (+/-327516506056982.625) for {'alpha': 1, 'l1_ratio': 0.0, 'tol': 0.001}\n",
      "neg_mean_squared_error = -199734538413286.656 (+/-327432617548962.125) for {'alpha': 1, 'l1_ratio': 0.1, 'tol': 0.1}\n",
      "neg_mean_squared_error = -199734538413290.875 (+/-327432617548962.438) for {'alpha': 1, 'l1_ratio': 0.1, 'tol': 0.01}\n",
      "neg_mean_squared_error = -199734538413291.312 (+/-327432617548960.875) for {'alpha': 1, 'l1_ratio': 0.1, 'tol': 0.001}\n",
      "neg_mean_squared_error = -199580841134087.500 (+/-327338955259963.188) for {'alpha': 1, 'l1_ratio': 0.2, 'tol': 0.1}\n",
      "neg_mean_squared_error = -199580841134100.844 (+/-327338955259964.562) for {'alpha': 1, 'l1_ratio': 0.2, 'tol': 0.01}\n",
      "neg_mean_squared_error = -199580841134101.969 (+/-327338955259962.625) for {'alpha': 1, 'l1_ratio': 0.2, 'tol': 0.001}\n",
      "neg_mean_squared_error = -199381561699675.000 (+/-327234004325388.188) for {'alpha': 1, 'l1_ratio': 0.30000000000000004, 'tol': 0.1}\n",
      "neg_mean_squared_error = -199381561699691.344 (+/-327234004325386.562) for {'alpha': 1, 'l1_ratio': 0.30000000000000004, 'tol': 0.01}\n",
      "neg_mean_squared_error = -199381561699692.688 (+/-327234004325383.438) for {'alpha': 1, 'l1_ratio': 0.30000000000000004, 'tol': 0.001}\n",
      "neg_mean_squared_error = -199113911491257.750 (+/-327116115367311.000) for {'alpha': 1, 'l1_ratio': 0.4, 'tol': 0.1}\n",
      "neg_mean_squared_error = -199113911491273.812 (+/-327116115367307.812) for {'alpha': 1, 'l1_ratio': 0.4, 'tol': 0.01}\n",
      "neg_mean_squared_error = -199113911491275.844 (+/-327116115367304.625) for {'alpha': 1, 'l1_ratio': 0.4, 'tol': 0.001}\n",
      "neg_mean_squared_error = -198737601805248.938 (+/-326983689148270.625) for {'alpha': 1, 'l1_ratio': 0.5, 'tol': 0.1}\n",
      "neg_mean_squared_error = -198737601805265.844 (+/-326983689148250.062) for {'alpha': 1, 'l1_ratio': 0.5, 'tol': 0.01}\n",
      "neg_mean_squared_error = -198737601805268.938 (+/-326983689148247.188) for {'alpha': 1, 'l1_ratio': 0.5, 'tol': 0.001}\n",
      "neg_mean_squared_error = -198174698425565.188 (+/-326835622441903.938) for {'alpha': 1, 'l1_ratio': 0.6000000000000001, 'tol': 0.1}\n",
      "neg_mean_squared_error = -198174698425605.312 (+/-326835622441903.312) for {'alpha': 1, 'l1_ratio': 0.6000000000000001, 'tol': 0.01}\n",
      "neg_mean_squared_error = -198174698425609.000 (+/-326835622441897.125) for {'alpha': 1, 'l1_ratio': 0.6000000000000001, 'tol': 0.001}\n",
      "neg_mean_squared_error = -197254146486296.344 (+/-326671891618851.188) for {'alpha': 1, 'l1_ratio': 0.7000000000000001, 'tol': 0.1}\n",
      "neg_mean_squared_error = -197254146486338.094 (+/-326671891618851.312) for {'alpha': 1, 'l1_ratio': 0.7000000000000001, 'tol': 0.01}\n",
      "neg_mean_squared_error = -197254146486341.969 (+/-326671891618844.250) for {'alpha': 1, 'l1_ratio': 0.7000000000000001, 'tol': 0.001}\n",
      "neg_mean_squared_error = -195520803320080.406 (+/-326488698920119.750) for {'alpha': 1, 'l1_ratio': 0.8, 'tol': 0.1}\n",
      "neg_mean_squared_error = -195520803320128.906 (+/-326488698920117.000) for {'alpha': 1, 'l1_ratio': 0.8, 'tol': 0.01}\n",
      "neg_mean_squared_error = -195520803320133.531 (+/-326488698920107.562) for {'alpha': 1, 'l1_ratio': 0.8, 'tol': 0.001}\n",
      "neg_mean_squared_error = -191283181373186.281 (+/-326142547058806.438) for {'alpha': 1, 'l1_ratio': 0.9, 'tol': 0.1}\n",
      "neg_mean_squared_error = -191283181373247.844 (+/-326142547058810.625) for {'alpha': 1, 'l1_ratio': 0.9, 'tol': 0.01}\n",
      "neg_mean_squared_error = -191283181373252.156 (+/-326142547058802.625) for {'alpha': 1, 'l1_ratio': 0.9, 'tol': 0.001}\n"
     ]
    }
   ],
   "source": [
    "from sklearn import neighbors, metrics, model_selection\n",
    "# Fixer les valeurs des hyperparamètres à tester\n",
    "from sklearn.linear_model import ElasticNet\n",
    "#paramétrage du modèle\n",
    "param_eNet_C = {'tol' : [0.1,0.01,0.001],\n",
    "              \"alpha\": [0.01, 0.1, 1],  #alpha, coef qui multiplie le terme de pénalité)\n",
    "              \"l1_ratio\": np.arange(0.0, 1.0, 0.1)}#L1 ratio , =1 équivaut à un Lasso, 0 à un Ridge\n",
    "# Choisir un score à optimiser, ici l'accuracy (proportion de prédictions correctes)\n",
    "score = 'neg_mean_squared_error'\n",
    "\n",
    "# Créer un classifieur kNN avec recherche d'hyperparamètre par validation croisée\n",
    "clf_eNet_C = model_selection.GridSearchCV(\n",
    "    ElasticNet(), # un classifieur kNN\n",
    "    param_eNet_C,     # hyperparamètres à tester\n",
    "    cv=5,           # nombre de folds de validation croisée\n",
    "    scoring=score   # score à optimiser\n",
    ")\n",
    "\n",
    "# Optimiser ce classifieur sur le jeu d'entraînement\n",
    "clf_eNet_C = clf_eNet_C.fit(X_train, Y_train)\n",
    "\n",
    "# Afficher le(s) hyperparamètre(s) optimaux\n",
    "print(\"Meilleur(s) hyperparamètre(s) sur le jeu d'entraînement:\")\n",
    "print(clf_eNet_C.best_params_)\n",
    "\n",
    "# Afficher les performances correspondantes\n",
    "print(\"Résultats de la validation croisée :\")\n",
    "for mean, std, params in zip(\n",
    "        clf_eNet_C.cv_results_['mean_test_score'], # score moyen\n",
    "        clf_eNet_C.cv_results_['std_test_score'],  # écart-type du score\n",
    "        clf_eNet_C.cv_results_['params']           # valeur de l'hyperparamètre\n",
    "    ):\n",
    "\n",
    "    print(\"{} = {:.3f} (+/-{:.03f}) for {}\".format(\n",
    "        score,\n",
    "        mean,\n",
    "        std*2,\n",
    "        params\n",
    "    ) )\n"
   ]
  },
  {
   "cell_type": "code",
   "execution_count": 80,
   "id": "e6232948",
   "metadata": {},
   "outputs": [
    {
     "name": "stdout",
     "output_type": "stream",
     "text": [
      "-153724378226999.25\n",
      "-173346076871628.47\n"
     ]
    }
   ],
   "source": [
    "print(clf_eNet_C.score(X_train, Y_train))\n",
    "print(clf_eNet_C.score(X_test,Y_test))"
   ]
  },
  {
   "cell_type": "code",
   "execution_count": 81,
   "id": "07679f19",
   "metadata": {},
   "outputs": [],
   "source": [
    "model_eNet_C= clf_eNet_C.best_estimator_"
   ]
  },
  {
   "cell_type": "code",
   "execution_count": 82,
   "id": "bfdd814f",
   "metadata": {},
   "outputs": [
    {
     "data": {
      "text/plain": [
       "0.8015015077615426"
      ]
     },
     "execution_count": 82,
     "metadata": {},
     "output_type": "execute_result"
    }
   ],
   "source": [
    "model_eNet_C.score(X_test, Y_test)"
   ]
  },
  {
   "cell_type": "code",
   "execution_count": 83,
   "id": "4950a17c",
   "metadata": {},
   "outputs": [],
   "source": [
    "r2_eNet_C=r2_score(Y_test, Y_pred)"
   ]
  },
  {
   "cell_type": "code",
   "execution_count": 84,
   "id": "c2f0c8a5",
   "metadata": {},
   "outputs": [
    {
     "name": "stdout",
     "output_type": "stream",
     "text": [
      "r2_eNet_C 0.80 time 0.00s\n"
     ]
    }
   ],
   "source": [
    "start_time = timeit.default_timer()\n",
    "\n",
    "Y_pred = model_eNet_C.predict(X_test)\n",
    "\n",
    "time_eNet_C = timeit.default_timer() - start_time\n",
    "r2_eNet_C = r2_score(Y_test, Y_pred)\n",
    "\n",
    "print(\"r2_eNet_C {:.2f} time {:.2f}s\".format(r2_eNet_C, time_eNet_C))"
   ]
  },
  {
   "cell_type": "code",
   "execution_count": 85,
   "id": "db00a535",
   "metadata": {},
   "outputs": [
    {
     "data": {
      "text/plain": [
       "173346076871628.47"
      ]
     },
     "execution_count": 85,
     "metadata": {},
     "output_type": "execute_result"
    }
   ],
   "source": [
    "mean_squared_error(Y_test,Y_pred)"
   ]
  },
  {
   "cell_type": "code",
   "execution_count": 86,
   "id": "36a6c1cc",
   "metadata": {
    "scrolled": true
   },
   "outputs": [
    {
     "name": "stdout",
     "output_type": "stream",
     "text": [
      "Meilleur(s) hyperparamètre(s) sur le jeu d'entraînement:\n",
      "{'ccp_alpha': 0.021544346900318846}\n",
      "Résultats de la validation croisée :\n",
      "r2 = 0.407 (+/-0.700) for {'ccp_alpha': 1e-05}\n",
      "r2 = 0.390 (+/-0.793) for {'ccp_alpha': 3.5938136638046256e-05}\n",
      "r2 = 0.438 (+/-0.537) for {'ccp_alpha': 0.0001291549665014884}\n",
      "r2 = 0.406 (+/-0.762) for {'ccp_alpha': 0.0004641588833612782}\n",
      "r2 = 0.466 (+/-0.538) for {'ccp_alpha': 0.0016681005372000592}\n",
      "r2 = 0.463 (+/-0.561) for {'ccp_alpha': 0.005994842503189409}\n",
      "r2 = 0.468 (+/-0.547) for {'ccp_alpha': 0.021544346900318846}\n",
      "r2 = 0.465 (+/-0.546) for {'ccp_alpha': 0.07742636826811278}\n",
      "r2 = 0.376 (+/-0.793) for {'ccp_alpha': 0.2782559402207126}\n",
      "r2 = 0.430 (+/-0.660) for {'ccp_alpha': 1.0}\n"
     ]
    }
   ],
   "source": [
    "\n",
    "from sklearn.ensemble import RandomForestRegressor\n",
    "#paramétrage du modèle\n",
    "param_rfr_C = {\"ccp_alpha\": np.logspace(-5, 0, num=10)}\n",
    "\"\"\"'l1_ratio': np.arange(0.0, 1.1, 0.1)\"\"\"\n",
    "# Choisir un score à optimiser, ici l'accuracy (proportion de prédictions correctes)\n",
    "score = 'r2'\n",
    "\n",
    "# Créer un classifieur kNN avec recherche d'hyperparamètre par validation croisée\n",
    "clf_rfr_C = model_selection.GridSearchCV(\n",
    "    RandomForestRegressor(), # un classifieur kNN\n",
    "    param_rfr_C,     # hyperparamètres à tester\n",
    "    cv=5,           # nombre de folds de validation croisée\n",
    "    scoring=score   # score à optimiser\n",
    ")\n",
    "\n",
    "# Optimiser ce classifieur sur le jeu d'entraînement\n",
    "clf_rfr_C=clf_rfr_C.fit(X_train, Y_train)\n",
    "\n",
    "# Afficher le(s) hyperparamètre(s) optimaux\n",
    "print(\"Meilleur(s) hyperparamètre(s) sur le jeu d'entraînement:\")\n",
    "print(clf_rfr_C.best_params_)\n",
    "\n",
    "# Afficher les performances correspondantes\n",
    "print(\"Résultats de la validation croisée :\")\n",
    "for mean, std, params in zip(\n",
    "        clf_rfr_C.cv_results_['mean_test_score'], # score moyen\n",
    "        clf_rfr_C.cv_results_['std_test_score'],  # écart-type du score\n",
    "        clf_rfr_C.cv_results_['params']           # valeur de l'hyperparamètre\n",
    "    ):\n",
    "\n",
    "    print(\"{} = {:.3f} (+/-{:.03f}) for {}\".format(\n",
    "        score,\n",
    "        mean,\n",
    "        std*2,\n",
    "        params\n",
    "    ) )\n"
   ]
  },
  {
   "cell_type": "code",
   "execution_count": 87,
   "id": "5ee8b5b7",
   "metadata": {},
   "outputs": [
    {
     "name": "stdout",
     "output_type": "stream",
     "text": [
      "0.8988688721325591\n",
      "0.7765664845635162\n"
     ]
    }
   ],
   "source": [
    "print(clf_rfr_C.score(X_train, Y_train))\n",
    "print(clf_rfr_C.score(X_test,Y_test))"
   ]
  },
  {
   "cell_type": "code",
   "execution_count": 88,
   "id": "e6236983",
   "metadata": {},
   "outputs": [],
   "source": [
    "model_rfr_C= clf_rfr_C.best_estimator_"
   ]
  },
  {
   "cell_type": "code",
   "execution_count": 89,
   "id": "60cd1cd7",
   "metadata": {},
   "outputs": [
    {
     "data": {
      "text/plain": [
       "0.7765664845635162"
      ]
     },
     "execution_count": 89,
     "metadata": {},
     "output_type": "execute_result"
    }
   ],
   "source": [
    "model_rfr_C.score(X_test, Y_test)"
   ]
  },
  {
   "cell_type": "code",
   "execution_count": 90,
   "id": "757c86c3",
   "metadata": {},
   "outputs": [],
   "source": [
    "Y_pred = model_rfr_C.predict(X_test)"
   ]
  },
  {
   "cell_type": "code",
   "execution_count": 91,
   "id": "8f936158",
   "metadata": {},
   "outputs": [],
   "source": [
    "r2_rfr_C = r2_score(Y_test, Y_pred)"
   ]
  },
  {
   "cell_type": "code",
   "execution_count": 92,
   "id": "e0f295c5",
   "metadata": {},
   "outputs": [
    {
     "name": "stdout",
     "output_type": "stream",
     "text": [
      "r2_rfr_C 0.78 time 0.04s\n"
     ]
    }
   ],
   "source": [
    "start_time = timeit.default_timer()\n",
    "\n",
    "Y_pred = model_rfr_C.predict(X_test)\n",
    "\n",
    "time_rfr_C = timeit.default_timer() - start_time\n",
    "r2_rfr_C = r2_score(Y_test, Y_pred)\n",
    "\n",
    "print(\"r2_rfr_C {:.2f} time {:.2f}s\".format(r2_rfr_C, time_rfr_C))"
   ]
  },
  {
   "cell_type": "code",
   "execution_count": 93,
   "id": "57ec76fd",
   "metadata": {},
   "outputs": [
    {
     "data": {
      "text/plain": [
       "195121498938252.62"
      ]
     },
     "execution_count": 93,
     "metadata": {},
     "output_type": "execute_result"
    }
   ],
   "source": [
    "mean_squared_error(Y_test,Y_pred)"
   ]
  },
  {
   "cell_type": "code",
   "execution_count": 94,
   "id": "25b1f812",
   "metadata": {},
   "outputs": [],
   "source": [
    "results.loc['LinearRegression for SiteEnergyUse', 'r2'] = r2_mlr_C\n",
    "results.loc['LinearRegression for SiteEnergyUse', 'time'] = time_mlr_C"
   ]
  },
  {
   "cell_type": "code",
   "execution_count": 95,
   "id": "d6015c50",
   "metadata": {},
   "outputs": [],
   "source": [
    "results.loc['ElasticNet for SiteEnergyUse', 'r2'] = r2_eNet_C\n",
    "results.loc['ElasticNet for SiteEnergyUse', 'time'] = time_eNet_C"
   ]
  },
  {
   "cell_type": "code",
   "execution_count": 96,
   "id": "f66d40fb",
   "metadata": {},
   "outputs": [],
   "source": [
    "results.loc['RandomForestRegressor for SiteEnergyUse', 'r2'] = r2_rfr_C\n",
    "results.loc['RandomForestRegressor for SiteEnergyUse', 'time'] = time_rfr_C"
   ]
  },
  {
   "cell_type": "code",
   "execution_count": 97,
   "id": "bfb3c9e0",
   "metadata": {},
   "outputs": [],
   "source": [
    "results.loc['LinearRegression for TotalGHGEmissions', 'r2'] = r2_mlr_E\n",
    "results.loc['LinearRegression for TotalGHGEmissions', 'time'] = time_mlr_E"
   ]
  },
  {
   "cell_type": "code",
   "execution_count": 98,
   "id": "b9096a3a",
   "metadata": {},
   "outputs": [],
   "source": [
    "results.loc['ElasticNet for TotalGHGEmissions', 'r2'] = r2_eNet_E\n",
    "results.loc['ElasticNet for TotalGHGEmissions', 'time'] = time_eNet_E"
   ]
  },
  {
   "cell_type": "code",
   "execution_count": 99,
   "id": "ae5b03fc",
   "metadata": {},
   "outputs": [],
   "source": [
    "results.loc['RandomForestRegressor for TotalGHGEmissions', 'r2'] = r2_rfr_E\n",
    "results.loc['RandomForestRegressor for TotalGHGEmissions', 'time'] = time_rfr_E"
   ]
  },
  {
   "cell_type": "code",
   "execution_count": 100,
   "id": "8c9af110",
   "metadata": {
    "scrolled": false
   },
   "outputs": [
    {
     "data": {
      "text/html": [
       "<div>\n",
       "<style scoped>\n",
       "    .dataframe tbody tr th:only-of-type {\n",
       "        vertical-align: middle;\n",
       "    }\n",
       "\n",
       "    .dataframe tbody tr th {\n",
       "        vertical-align: top;\n",
       "    }\n",
       "\n",
       "    .dataframe thead th {\n",
       "        text-align: right;\n",
       "    }\n",
       "</style>\n",
       "<table border=\"1\" class=\"dataframe\">\n",
       "  <thead>\n",
       "    <tr style=\"text-align: right;\">\n",
       "      <th></th>\n",
       "      <th>r2</th>\n",
       "      <th>time</th>\n",
       "    </tr>\n",
       "  </thead>\n",
       "  <tbody>\n",
       "    <tr>\n",
       "      <th>LinearRegression for SiteEnergyUse</th>\n",
       "      <td>0.827017</td>\n",
       "      <td>0.004523</td>\n",
       "    </tr>\n",
       "    <tr>\n",
       "      <th>ElasticNet for SiteEnergyUse</th>\n",
       "      <td>0.801502</td>\n",
       "      <td>0.004629</td>\n",
       "    </tr>\n",
       "    <tr>\n",
       "      <th>RandomForestRegressor for SiteEnergyUse</th>\n",
       "      <td>0.776566</td>\n",
       "      <td>0.037336</td>\n",
       "    </tr>\n",
       "    <tr>\n",
       "      <th>LinearRegression for TotalGHGEmissions</th>\n",
       "      <td>0.735001</td>\n",
       "      <td>0.00212</td>\n",
       "    </tr>\n",
       "    <tr>\n",
       "      <th>ElasticNet for TotalGHGEmissions</th>\n",
       "      <td>0.710864</td>\n",
       "      <td>0.005254</td>\n",
       "    </tr>\n",
       "    <tr>\n",
       "      <th>RandomForestRegressor for TotalGHGEmissions</th>\n",
       "      <td>0.699032</td>\n",
       "      <td>0.036448</td>\n",
       "    </tr>\n",
       "  </tbody>\n",
       "</table>\n",
       "</div>"
      ],
      "text/plain": [
       "                                                   r2      time\n",
       "LinearRegression for SiteEnergyUse           0.827017  0.004523\n",
       "ElasticNet for SiteEnergyUse                 0.801502  0.004629\n",
       "RandomForestRegressor for SiteEnergyUse      0.776566  0.037336\n",
       "LinearRegression for TotalGHGEmissions       0.735001   0.00212\n",
       "ElasticNet for TotalGHGEmissions             0.710864  0.005254\n",
       "RandomForestRegressor for TotalGHGEmissions  0.699032  0.036448"
      ]
     },
     "execution_count": 100,
     "metadata": {},
     "output_type": "execute_result"
    }
   ],
   "source": [
    "results"
   ]
  },
  {
   "cell_type": "code",
   "execution_count": 101,
   "id": "32f49f74",
   "metadata": {},
   "outputs": [],
   "source": [
    "results_S.loc['LinearRegression for SiteEnergyUse without EnergyStarScore', 'r2'] = r2_mlr_C\n",
    "results_S.loc['LinearRegression for SiteEnergyUse without EnergyStarScore', 'time'] = time_mlr_C"
   ]
  },
  {
   "cell_type": "code",
   "execution_count": 102,
   "id": "1d1b34b6",
   "metadata": {},
   "outputs": [],
   "source": [
    "#Ajout de la variable à nos variables \n",
    "data_filter_C['energystar_score'] = energystar_score"
   ]
  },
  {
   "cell_type": "code",
   "execution_count": 103,
   "id": "374e7daf",
   "metadata": {},
   "outputs": [
    {
     "data": {
      "text/html": [
       "<div>\n",
       "<style scoped>\n",
       "    .dataframe tbody tr th:only-of-type {\n",
       "        vertical-align: middle;\n",
       "    }\n",
       "\n",
       "    .dataframe tbody tr th {\n",
       "        vertical-align: top;\n",
       "    }\n",
       "\n",
       "    .dataframe thead th {\n",
       "        text-align: right;\n",
       "    }\n",
       "</style>\n",
       "<table border=\"1\" class=\"dataframe\">\n",
       "  <thead>\n",
       "    <tr style=\"text-align: right;\">\n",
       "      <th></th>\n",
       "      <th>SiteEnergyUse</th>\n",
       "      <th>LargestPropertyUseTypeGFA</th>\n",
       "      <th>TotalUseTypeNumber</th>\n",
       "      <th>GFAPerBuilding</th>\n",
       "      <th>txIsHospital</th>\n",
       "      <th>IsHospital</th>\n",
       "      <th>IsHospitalGeneral</th>\n",
       "      <th>energystar_score</th>\n",
       "    </tr>\n",
       "  </thead>\n",
       "  <tbody>\n",
       "    <tr>\n",
       "      <th>0</th>\n",
       "      <td>6525887.00</td>\n",
       "      <td>98370.0</td>\n",
       "      <td>1</td>\n",
       "      <td>98370.0</td>\n",
       "      <td>0.0</td>\n",
       "      <td>0</td>\n",
       "      <td>0</td>\n",
       "      <td>45.0</td>\n",
       "    </tr>\n",
       "    <tr>\n",
       "      <th>1</th>\n",
       "      <td>16760217.00</td>\n",
       "      <td>138672.0</td>\n",
       "      <td>5</td>\n",
       "      <td>193788.0</td>\n",
       "      <td>0.0</td>\n",
       "      <td>0</td>\n",
       "      <td>0</td>\n",
       "      <td>59.0</td>\n",
       "    </tr>\n",
       "    <tr>\n",
       "      <th>2</th>\n",
       "      <td>4476997.00</td>\n",
       "      <td>55188.0</td>\n",
       "      <td>2</td>\n",
       "      <td>76598.0</td>\n",
       "      <td>0.0</td>\n",
       "      <td>0</td>\n",
       "      <td>0</td>\n",
       "      <td>76.0</td>\n",
       "    </tr>\n",
       "    <tr>\n",
       "      <th>3</th>\n",
       "      <td>12662456.00</td>\n",
       "      <td>186977.0</td>\n",
       "      <td>2</td>\n",
       "      <td>186971.0</td>\n",
       "      <td>0.0</td>\n",
       "      <td>0</td>\n",
       "      <td>0</td>\n",
       "      <td>86.0</td>\n",
       "    </tr>\n",
       "    <tr>\n",
       "      <th>4</th>\n",
       "      <td>55030192.00</td>\n",
       "      <td>434475.0</td>\n",
       "      <td>2</td>\n",
       "      <td>434475.0</td>\n",
       "      <td>0.0</td>\n",
       "      <td>0</td>\n",
       "      <td>0</td>\n",
       "      <td>60.0</td>\n",
       "    </tr>\n",
       "    <tr>\n",
       "      <th>...</th>\n",
       "      <td>...</td>\n",
       "      <td>...</td>\n",
       "      <td>...</td>\n",
       "      <td>...</td>\n",
       "      <td>...</td>\n",
       "      <td>...</td>\n",
       "      <td>...</td>\n",
       "      <td>...</td>\n",
       "    </tr>\n",
       "    <tr>\n",
       "      <th>1028</th>\n",
       "      <td>13239050.00</td>\n",
       "      <td>342838.0</td>\n",
       "      <td>3</td>\n",
       "      <td>536697.0</td>\n",
       "      <td>0.0</td>\n",
       "      <td>0</td>\n",
       "      <td>0</td>\n",
       "      <td>98.0</td>\n",
       "    </tr>\n",
       "    <tr>\n",
       "      <th>1029</th>\n",
       "      <td>6042399.50</td>\n",
       "      <td>88157.0</td>\n",
       "      <td>3</td>\n",
       "      <td>126823.0</td>\n",
       "      <td>0.0</td>\n",
       "      <td>0</td>\n",
       "      <td>0</td>\n",
       "      <td>72.0</td>\n",
       "    </tr>\n",
       "    <tr>\n",
       "      <th>1030</th>\n",
       "      <td>3605855.50</td>\n",
       "      <td>52085.0</td>\n",
       "      <td>1</td>\n",
       "      <td>52085.0</td>\n",
       "      <td>0.0</td>\n",
       "      <td>0</td>\n",
       "      <td>0</td>\n",
       "      <td>37.0</td>\n",
       "    </tr>\n",
       "    <tr>\n",
       "      <th>1031</th>\n",
       "      <td>4420650.50</td>\n",
       "      <td>24990.0</td>\n",
       "      <td>1</td>\n",
       "      <td>24990.0</td>\n",
       "      <td>0.0</td>\n",
       "      <td>0</td>\n",
       "      <td>0</td>\n",
       "      <td>9.0</td>\n",
       "    </tr>\n",
       "    <tr>\n",
       "      <th>1032</th>\n",
       "      <td>1325972.75</td>\n",
       "      <td>45728.0</td>\n",
       "      <td>2</td>\n",
       "      <td>45000.0</td>\n",
       "      <td>0.0</td>\n",
       "      <td>0</td>\n",
       "      <td>0</td>\n",
       "      <td>77.0</td>\n",
       "    </tr>\n",
       "  </tbody>\n",
       "</table>\n",
       "<p>1032 rows × 8 columns</p>\n",
       "</div>"
      ],
      "text/plain": [
       "      SiteEnergyUse  LargestPropertyUseTypeGFA  TotalUseTypeNumber  \\\n",
       "0        6525887.00                    98370.0                   1   \n",
       "1       16760217.00                   138672.0                   5   \n",
       "2        4476997.00                    55188.0                   2   \n",
       "3       12662456.00                   186977.0                   2   \n",
       "4       55030192.00                   434475.0                   2   \n",
       "...             ...                        ...                 ...   \n",
       "1028    13239050.00                   342838.0                   3   \n",
       "1029     6042399.50                    88157.0                   3   \n",
       "1030     3605855.50                    52085.0                   1   \n",
       "1031     4420650.50                    24990.0                   1   \n",
       "1032     1325972.75                    45728.0                   2   \n",
       "\n",
       "      GFAPerBuilding  txIsHospital  IsHospital  IsHospitalGeneral  \\\n",
       "0            98370.0           0.0           0                  0   \n",
       "1           193788.0           0.0           0                  0   \n",
       "2            76598.0           0.0           0                  0   \n",
       "3           186971.0           0.0           0                  0   \n",
       "4           434475.0           0.0           0                  0   \n",
       "...              ...           ...         ...                ...   \n",
       "1028        536697.0           0.0           0                  0   \n",
       "1029        126823.0           0.0           0                  0   \n",
       "1030         52085.0           0.0           0                  0   \n",
       "1031         24990.0           0.0           0                  0   \n",
       "1032         45000.0           0.0           0                  0   \n",
       "\n",
       "      energystar_score  \n",
       "0                 45.0  \n",
       "1                 59.0  \n",
       "2                 76.0  \n",
       "3                 86.0  \n",
       "4                 60.0  \n",
       "...                ...  \n",
       "1028              98.0  \n",
       "1029              72.0  \n",
       "1030              37.0  \n",
       "1031               9.0  \n",
       "1032              77.0  \n",
       "\n",
       "[1032 rows x 8 columns]"
      ]
     },
     "execution_count": 103,
     "metadata": {},
     "output_type": "execute_result"
    }
   ],
   "source": [
    "data_filter_C"
   ]
  },
  {
   "cell_type": "code",
   "execution_count": 104,
   "id": "1c1c042a",
   "metadata": {},
   "outputs": [
    {
     "name": "stdout",
     "output_type": "stream",
     "text": [
      "Entrainement: 825 lignes,\n",
      "Test: 207 lignes.\n",
      "\n"
     ]
    }
   ],
   "source": [
    "from sklearn.model_selection import train_test_split\n",
    "\n",
    "X = data_filter_C.drop(['SiteEnergyUse'], axis=1)\n",
    "Y = data_filter_C['SiteEnergyUse']\n",
    "\n",
    "X_train, X_test, Y_train, Y_test = train_test_split(X, Y, test_size=0.2, random_state=42)\n",
    "\n",
    "print(\"Entrainement: {} lignes,\\nTest: {} lignes.\\n\".format(X_train.shape[0],\n",
    "                                                            X_test.shape[0]))"
   ]
  },
  {
   "cell_type": "code",
   "execution_count": 105,
   "id": "b647f966",
   "metadata": {},
   "outputs": [
    {
     "name": "stdout",
     "output_type": "stream",
     "text": [
      "Meilleur(s) hyperparamètre(s) sur le jeu d'entraînement:\n",
      "{}\n",
      "Résultats de la validation croisée :\n",
      "r2 = 0.529 (+/-0.456) for {}\n"
     ]
    }
   ],
   "source": [
    "from sklearn import neighbors, metrics, model_selection\n",
    "# Fixer les valeurs des hyperparamètres à tester\n",
    "from sklearn.linear_model import LinearRegression\n",
    "from sklearn.model_selection import GridSearchCV\n",
    "\n",
    "#paramétrage du modèle\n",
    "param_mlr_CS = {}\n",
    "\"\"\"'l1_ratio': np.arange(0.0, 1.1, 0.1)\"\"\"\n",
    "# Choisir un score à optimiser, ici l'accuracy (proportion de prédictions correctes)\n",
    "score = 'r2'\n",
    "\n",
    "# Créer un classifieur kNN avec recherche d'hyperparamètre par validation croisée\n",
    "clf_mlr_CS = model_selection.GridSearchCV(\n",
    "    LinearRegression(), # un classifieur kNN\n",
    "    param_mlr_CS,     # hyperparamètres à tester\n",
    "    cv=5,           # nombre de folds de validation croisée\n",
    "    scoring=score   # score à optimiser\n",
    ")\n",
    "\n",
    "# Optimiser ce classifieur sur le jeu d'entraînement\n",
    "clf_mlr_CS = clf_mlr_CS.fit(X_train, Y_train)\n",
    "\n",
    "# Afficher le(s) hyperparamètre(s) optimaux\n",
    "print(\"Meilleur(s) hyperparamètre(s) sur le jeu d'entraînement:\")\n",
    "print(clf_mlr_CS.best_params_)\n",
    "\n",
    "# Afficher les performances correspondantes\n",
    "print(\"Résultats de la validation croisée :\")\n",
    "for mean, std, params in zip(\n",
    "        clf_mlr_CS.cv_results_['mean_test_score'], # score moyen\n",
    "        clf_mlr_CS.cv_results_['std_test_score'],  # écart-type du score\n",
    "        clf_mlr_CS.cv_results_['params']           # valeur de l'hyperparamètre\n",
    "    ):\n",
    "\n",
    "    print(\"{} = {:.3f} (+/-{:.03f}) for {}\".format(\n",
    "        score,\n",
    "        mean,\n",
    "        std*2,\n",
    "        param_mlr_CS\n",
    "    ) )\n"
   ]
  },
  {
   "cell_type": "code",
   "execution_count": 106,
   "id": "a5f79aa6",
   "metadata": {},
   "outputs": [
    {
     "name": "stdout",
     "output_type": "stream",
     "text": [
      "0.5685985889669648\n",
      "0.8331114073696071\n"
     ]
    }
   ],
   "source": [
    "print(clf_mlr_CS.score(X_train, Y_train))\n",
    "print(clf_mlr_CS.score(X_test,Y_test))"
   ]
  },
  {
   "cell_type": "code",
   "execution_count": 107,
   "id": "8571a598",
   "metadata": {},
   "outputs": [],
   "source": [
    "model_mlr_CS= clf_mlr_CS.best_estimator_"
   ]
  },
  {
   "cell_type": "code",
   "execution_count": 108,
   "id": "158515d3",
   "metadata": {},
   "outputs": [
    {
     "data": {
      "text/plain": [
       "0.8331114073696071"
      ]
     },
     "execution_count": 108,
     "metadata": {},
     "output_type": "execute_result"
    }
   ],
   "source": [
    "model_mlr_CS.score(X_test, Y_test)"
   ]
  },
  {
   "cell_type": "code",
   "execution_count": 109,
   "id": "4fe54cb8",
   "metadata": {},
   "outputs": [],
   "source": [
    "Y_pred = model_mlr_CS.predict(X_test)"
   ]
  },
  {
   "cell_type": "code",
   "execution_count": 110,
   "id": "649042c9",
   "metadata": {},
   "outputs": [],
   "source": [
    "r2_mlr_CS=r2_score(Y_test, Y_pred)"
   ]
  },
  {
   "cell_type": "code",
   "execution_count": 111,
   "id": "ad40d8c8",
   "metadata": {},
   "outputs": [
    {
     "name": "stdout",
     "output_type": "stream",
     "text": [
      "r2_mlr_CS 0.83 time 0.00s\n"
     ]
    }
   ],
   "source": [
    "start_time = timeit.default_timer()\n",
    "\n",
    "Y_pred = model_mlr_CS.predict(X_test)\n",
    "\n",
    "time_mlr_CS = timeit.default_timer() - start_time\n",
    "r2_mlr_CS = r2_score(Y_test, Y_pred)\n",
    "\n",
    "print(\"r2_mlr_CS {:.2f} time {:.2f}s\".format(r2_mlr_CS, time_mlr_CS))"
   ]
  },
  {
   "cell_type": "code",
   "execution_count": 112,
   "id": "16481250",
   "metadata": {},
   "outputs": [],
   "source": [
    "results_S.loc['LinearRegression for SiteEnergyUse with EnergyStarScore', 'r2'] = r2_mlr_CS\n",
    "results_S.loc['LinearRegression for SiteEnergyUse with EnergyStarScore', 'time'] = time_mlr_CS"
   ]
  },
  {
   "cell_type": "code",
   "execution_count": 113,
   "id": "20423718",
   "metadata": {},
   "outputs": [
    {
     "data": {
      "text/html": [
       "<div>\n",
       "<style scoped>\n",
       "    .dataframe tbody tr th:only-of-type {\n",
       "        vertical-align: middle;\n",
       "    }\n",
       "\n",
       "    .dataframe tbody tr th {\n",
       "        vertical-align: top;\n",
       "    }\n",
       "\n",
       "    .dataframe thead th {\n",
       "        text-align: right;\n",
       "    }\n",
       "</style>\n",
       "<table border=\"1\" class=\"dataframe\">\n",
       "  <thead>\n",
       "    <tr style=\"text-align: right;\">\n",
       "      <th></th>\n",
       "      <th>r2</th>\n",
       "      <th>time</th>\n",
       "    </tr>\n",
       "  </thead>\n",
       "  <tbody>\n",
       "    <tr>\n",
       "      <th>LinearRegression for TotalGHGEmissions without EnergyStarScore</th>\n",
       "      <td>0.735001</td>\n",
       "      <td>0.00212</td>\n",
       "    </tr>\n",
       "    <tr>\n",
       "      <th>LinearRegression for TotalGHGEmissions with EnergyStarScore</th>\n",
       "      <td>0.738555</td>\n",
       "      <td>0.007024</td>\n",
       "    </tr>\n",
       "    <tr>\n",
       "      <th>LinearRegression for SiteEnergyUse without EnergyStarScore</th>\n",
       "      <td>0.827017</td>\n",
       "      <td>0.004523</td>\n",
       "    </tr>\n",
       "    <tr>\n",
       "      <th>LinearRegression for SiteEnergyUse with EnergyStarScore</th>\n",
       "      <td>0.833111</td>\n",
       "      <td>0.004213</td>\n",
       "    </tr>\n",
       "  </tbody>\n",
       "</table>\n",
       "</div>"
      ],
      "text/plain": [
       "                                                          r2      time\n",
       "LinearRegression for TotalGHGEmissions without ...  0.735001   0.00212\n",
       "LinearRegression for TotalGHGEmissions with Ene...  0.738555  0.007024\n",
       "LinearRegression for SiteEnergyUse without Ener...  0.827017  0.004523\n",
       "LinearRegression for SiteEnergyUse with EnergyS...  0.833111  0.004213"
      ]
     },
     "execution_count": 113,
     "metadata": {},
     "output_type": "execute_result"
    }
   ],
   "source": [
    "results_S"
   ]
  }
 ],
 "metadata": {
  "kernelspec": {
   "display_name": "Python 3",
   "language": "python",
   "name": "python3"
  },
  "language_info": {
   "codemirror_mode": {
    "name": "ipython",
    "version": 3
   },
   "file_extension": ".py",
   "mimetype": "text/x-python",
   "name": "python",
   "nbconvert_exporter": "python",
   "pygments_lexer": "ipython3",
   "version": "3.8.8"
  }
 },
 "nbformat": 4,
 "nbformat_minor": 5
}
